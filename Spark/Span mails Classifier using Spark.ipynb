{
  "cells": [
    {
      "cell_type": "markdown",
      "metadata": {
        "id": "view-in-github",
        "colab_type": "text"
      },
      "source": [
        "<a href=\"https://colab.research.google.com/github/MohamedMostafaSal/UnstructuredProjects/blob/main/Spark/Span%20mails%20Classifier%20using%20Spark.ipynb\" target=\"_parent\"><img src=\"https://colab.research.google.com/assets/colab-badge.svg\" alt=\"Open In Colab\"/></a>"
      ]
    },
    {
      "cell_type": "markdown",
      "id": "fa486f23",
      "metadata": {
        "id": "fa486f23"
      },
      "source": [
        "![image.png](attachment:image.png)"
      ]
    },
    {
      "cell_type": "markdown",
      "id": "abbf1e33",
      "metadata": {
        "id": "abbf1e33"
      },
      "source": [
        "##### **Good luck with taking your exam. Keep working and make your dreams all come true. Seeing the results of all of your hard work will make this struggle worth it. We’re all thinking of you.** \n",
        "<b><font color='blue'>AI-PRO Spark Team ITI</font></b>"
      ]
    },
    {
      "cell_type": "markdown",
      "id": "c9da32d6",
      "metadata": {
        "id": "c9da32d6"
      },
      "source": [
        "# NLP Using PySpark"
      ]
    },
    {
      "cell_type": "markdown",
      "id": "8326ba88",
      "metadata": {
        "id": "8326ba88"
      },
      "source": [
        "## Objective:\n",
        "- The objective from this project is to create a <b>Spam filter using NaiveBayes classifier</b>.\n",
        "- It is required to obtain <b>f1_scored > 0.9</b>.\n",
        "- We'll use a dataset from UCI Repository. SMS Spam Detection: https://archive.ics.uci.edu/ml/datasets/SMS+Spam+Collection\n",
        "- Data is also provided for you in the assignment (you do not have to download it)."
      ]
    },
    {
      "cell_type": "markdown",
      "id": "6971f788",
      "metadata": {
        "id": "6971f788"
      },
      "source": [
        "## To perform this task follow the following guiding steps:"
      ]
    },
    {
      "cell_type": "markdown",
      "id": "e31bc851",
      "metadata": {
        "id": "e31bc851"
      },
      "source": [
        "### Create a spark session and import the required libraries"
      ]
    },
    {
      "cell_type": "code",
      "execution_count": null,
      "id": "dcf86e46",
      "metadata": {
        "colab": {
          "base_uri": "https://localhost:8080/"
        },
        "id": "dcf86e46",
        "outputId": "c6341995-a1f5-46c1-8db8-c632a206ebed"
      },
      "outputs": [
        {
          "output_type": "stream",
          "name": "stdout",
          "text": [
            "/content\n",
            "--2022-07-19 08:47:37--  https://archive.apache.org/dist/spark/spark-3.0.1/spark-3.0.1-bin-hadoop3.2.tgz\n",
            "Resolving archive.apache.org (archive.apache.org)... 138.201.131.134, 2a01:4f8:172:2ec5::2\n",
            "Connecting to archive.apache.org (archive.apache.org)|138.201.131.134|:443... connected.\n",
            "HTTP request sent, awaiting response... 200 OK\n",
            "Length: 224062525 (214M) [application/x-gzip]\n",
            "Saving to: ‘spark-3.0.1-bin-hadoop3.2.tgz.2’\n",
            "\n",
            "                 sp   6%[>                   ]  13.48M  1.56MB/s    eta 2m 12s ^C\n",
            "spark-3.0.1-bin-hadoop3.2/\n",
            "spark-3.0.1-bin-hadoop3.2/RELEASE\n",
            "spark-3.0.1-bin-hadoop3.2/examples/\n",
            "spark-3.0.1-bin-hadoop3.2/examples/src/\n",
            "spark-3.0.1-bin-hadoop3.2/examples/src/main/\n",
            "spark-3.0.1-bin-hadoop3.2/examples/src/main/scala/\n",
            "spark-3.0.1-bin-hadoop3.2/examples/src/main/scala/org/\n",
            "spark-3.0.1-bin-hadoop3.2/examples/src/main/scala/org/apache/\n",
            "spark-3.0.1-bin-hadoop3.2/examples/src/main/scala/org/apache/spark/\n",
            "spark-3.0.1-bin-hadoop3.2/examples/src/main/scala/org/apache/spark/examples/\n",
            "spark-3.0.1-bin-hadoop3.2/examples/src/main/scala/org/apache/spark/examples/ml/\n",
            "spark-3.0.1-bin-hadoop3.2/examples/src/main/scala/org/apache/spark/examples/ml/FPGrowthExample.scala\n",
            "spark-3.0.1-bin-hadoop3.2/examples/src/main/scala/org/apache/spark/examples/ml/GBTExample.scala\n",
            "spark-3.0.1-bin-hadoop3.2/examples/src/main/scala/org/apache/spark/examples/ml/ALSExample.scala\n",
            "spark-3.0.1-bin-hadoop3.2/examples/src/main/scala/org/apache/spark/examples/ml/KMeansExample.scala\n",
            "spark-3.0.1-bin-hadoop3.2/examples/src/main/scala/org/apache/spark/examples/ml/DecisionTreeExample.scala\n",
            "spark-3.0.1-bin-hadoop3.2/examples/src/main/scala/org/apache/spark/examples/ml/LogisticRegressionSummaryExample.scala\n",
            "spark-3.0.1-bin-hadoop3.2/examples/src/main/scala/org/apache/spark/examples/ml/TokenizerExample.scala\n",
            "spark-3.0.1-bin-hadoop3.2/examples/src/main/scala/org/apache/spark/examples/ml/UnaryTransformerExample.scala\n",
            "spark-3.0.1-bin-hadoop3.2/examples/src/main/scala/org/apache/spark/examples/ml/Word2VecExample.scala\n",
            "spark-3.0.1-bin-hadoop3.2/examples/src/main/scala/org/apache/spark/examples/ml/LinearSVCExample.scala\n",
            "spark-3.0.1-bin-hadoop3.2/examples/src/main/scala/org/apache/spark/examples/ml/CorrelationExample.scala\n",
            "spark-3.0.1-bin-hadoop3.2/examples/src/main/scala/org/apache/spark/examples/ml/BucketizerExample.scala\n",
            "spark-3.0.1-bin-hadoop3.2/examples/src/main/scala/org/apache/spark/examples/ml/ImputerExample.scala\n",
            "spark-3.0.1-bin-hadoop3.2/examples/src/main/scala/org/apache/spark/examples/ml/StringIndexerExample.scala\n",
            "spark-3.0.1-bin-hadoop3.2/examples/src/main/scala/org/apache/spark/examples/ml/NGramExample.scala\n",
            "spark-3.0.1-bin-hadoop3.2/examples/src/main/scala/org/apache/spark/examples/ml/IsotonicRegressionExample.scala\n",
            "spark-3.0.1-bin-hadoop3.2/examples/src/main/scala/org/apache/spark/examples/ml/DecisionTreeRegressionExample.scala\n",
            "spark-3.0.1-bin-hadoop3.2/examples/src/main/scala/org/apache/spark/examples/ml/OneHotEncoderExample.scala\n",
            "spark-3.0.1-bin-hadoop3.2/examples/src/main/scala/org/apache/spark/examples/ml/ChiSquareTestExample.scala\n",
            "spark-3.0.1-bin-hadoop3.2/examples/src/main/scala/org/apache/spark/examples/ml/PCAExample.scala\n",
            "spark-3.0.1-bin-hadoop3.2/examples/src/main/scala/org/apache/spark/examples/ml/StopWordsRemoverExample.scala\n",
            "spark-3.0.1-bin-hadoop3.2/examples/src/main/scala/org/apache/spark/examples/ml/DeveloperApiExample.scala\n",
            "spark-3.0.1-bin-hadoop3.2/examples/src/main/scala/org/apache/spark/examples/ml/LDAExample.scala\n",
            "spark-3.0.1-bin-hadoop3.2/examples/src/main/scala/org/apache/spark/examples/ml/StandardScalerExample.scala\n",
            "spark-3.0.1-bin-hadoop3.2/examples/src/main/scala/org/apache/spark/examples/ml/GradientBoostedTreeRegressorExample.scala\n",
            "spark-3.0.1-bin-hadoop3.2/examples/src/main/scala/org/apache/spark/examples/ml/RFormulaExample.scala\n",
            "spark-3.0.1-bin-hadoop3.2/examples/src/main/scala/org/apache/spark/examples/ml/MultilayerPerceptronClassifierExample.scala\n",
            "spark-3.0.1-bin-hadoop3.2/examples/src/main/scala/org/apache/spark/examples/ml/RandomForestRegressorExample.scala\n",
            "spark-3.0.1-bin-hadoop3.2/examples/src/main/scala/org/apache/spark/examples/ml/OneVsRestExample.scala\n",
            "spark-3.0.1-bin-hadoop3.2/examples/src/main/scala/org/apache/spark/examples/ml/PolynomialExpansionExample.scala\n",
            "spark-3.0.1-bin-hadoop3.2/examples/src/main/scala/org/apache/spark/examples/ml/ChiSqSelectorExample.scala\n",
            "spark-3.0.1-bin-hadoop3.2/examples/src/main/scala/org/apache/spark/examples/ml/MinMaxScalerExample.scala\n",
            "spark-3.0.1-bin-hadoop3.2/examples/src/main/scala/org/apache/spark/examples/ml/RobustScalerExample.scala\n",
            "spark-3.0.1-bin-hadoop3.2/examples/src/main/scala/org/apache/spark/examples/ml/FeatureHasherExample.scala\n",
            "spark-3.0.1-bin-hadoop3.2/examples/src/main/scala/org/apache/spark/examples/ml/LogisticRegressionWithElasticNetExample.scala\n",
            "spark-3.0.1-bin-hadoop3.2/examples/src/main/scala/org/apache/spark/examples/ml/FMClassifierExample.scala\n",
            "spark-3.0.1-bin-hadoop3.2/examples/src/main/scala/org/apache/spark/examples/ml/IndexToStringExample.scala\n",
            "spark-3.0.1-bin-hadoop3.2/examples/src/main/scala/org/apache/spark/examples/ml/LinearRegressionWithElasticNetExample.scala\n",
            "spark-3.0.1-bin-hadoop3.2/examples/src/main/scala/org/apache/spark/examples/ml/GeneralizedLinearRegressionExample.scala\n",
            "spark-3.0.1-bin-hadoop3.2/examples/src/main/scala/org/apache/spark/examples/ml/RandomForestExample.scala\n",
            "spark-3.0.1-bin-hadoop3.2/examples/src/main/scala/org/apache/spark/examples/ml/BucketedRandomProjectionLSHExample.scala\n",
            "spark-3.0.1-bin-hadoop3.2/examples/src/main/scala/org/apache/spark/examples/ml/LinearRegressionExample.scala\n",
            "spark-3.0.1-bin-hadoop3.2/examples/src/main/scala/org/apache/spark/examples/ml/BisectingKMeansExample.scala\n",
            "spark-3.0.1-bin-hadoop3.2/examples/src/main/scala/org/apache/spark/examples/ml/MinHashLSHExample.scala\n",
            "spark-3.0.1-bin-hadoop3.2/examples/src/main/scala/org/apache/spark/examples/ml/RandomForestClassifierExample.scala\n",
            "spark-3.0.1-bin-hadoop3.2/examples/src/main/scala/org/apache/spark/examples/ml/GradientBoostedTreeClassifierExample.scala\n",
            "spark-3.0.1-bin-hadoop3.2/examples/src/main/scala/org/apache/spark/examples/ml/LogisticRegressionExample.scala\n",
            "spark-3.0.1-bin-hadoop3.2/examples/src/main/scala/org/apache/spark/examples/ml/PowerIterationClusteringExample.scala\n",
            "spark-3.0.1-bin-hadoop3.2/examples/src/main/scala/org/apache/spark/examples/ml/CountVectorizerExample.scala\n",
            "spark-3.0.1-bin-hadoop3.2/examples/src/main/scala/org/apache/spark/examples/ml/TfIdfExample.scala\n",
            "spark-3.0.1-bin-hadoop3.2/examples/src/main/scala/org/apache/spark/examples/ml/VectorSlicerExample.scala\n",
            "spark-3.0.1-bin-hadoop3.2/examples/src/main/scala/org/apache/spark/examples/ml/MulticlassLogisticRegressionWithElasticNetExample.scala\n",
            "spark-3.0.1-bin-hadoop3.2/examples/src/main/scala/org/apache/spark/examples/ml/MaxAbsScalerExample.scala\n",
            "spark-3.0.1-bin-hadoop3.2/examples/src/main/scala/org/apache/spark/examples/ml/BinarizerExample.scala\n",
            "spark-3.0.1-bin-hadoop3.2/examples/src/main/scala/org/apache/spark/examples/ml/DataFrameExample.scala\n",
            "spark-3.0.1-bin-hadoop3.2/examples/src/main/scala/org/apache/spark/examples/ml/InteractionExample.scala\n",
            "spark-3.0.1-bin-hadoop3.2/examples/src/main/scala/org/apache/spark/examples/ml/VectorIndexerExample.scala\n",
            "spark-3.0.1-bin-hadoop3.2/examples/src/main/scala/org/apache/spark/examples/ml/ModelSelectionViaCrossValidationExample.scala\n",
            "spark-3.0.1-bin-hadoop3.2/examples/src/main/scala/org/apache/spark/examples/ml/EstimatorTransformerParamExample.scala\n",
            "spark-3.0.1-bin-hadoop3.2/examples/src/main/scala/org/apache/spark/examples/ml/PipelineExample.scala\n",
            "spark-3.0.1-bin-hadoop3.2/examples/src/main/scala/org/apache/spark/examples/ml/NaiveBayesExample.scala\n",
            "spark-3.0.1-bin-hadoop3.2/examples/src/main/scala/org/apache/spark/examples/ml/VectorSizeHintExample.scala\n",
            "spark-3.0.1-bin-hadoop3.2/examples/src/main/scala/org/apache/spark/examples/ml/PrefixSpanExample.scala\n",
            "spark-3.0.1-bin-hadoop3.2/examples/src/main/scala/org/apache/spark/examples/ml/SQLTransformerExample.scala\n",
            "spark-3.0.1-bin-hadoop3.2/examples/src/main/scala/org/apache/spark/examples/ml/SummarizerExample.scala\n",
            "spark-3.0.1-bin-hadoop3.2/examples/src/main/scala/org/apache/spark/examples/ml/DCTExample.scala\n",
            "spark-3.0.1-bin-hadoop3.2/examples/src/main/scala/org/apache/spark/examples/ml/AFTSurvivalRegressionExample.scala\n",
            "spark-3.0.1-bin-hadoop3.2/examples/src/main/scala/org/apache/spark/examples/ml/ModelSelectionViaTrainValidationSplitExample.scala\n",
            "spark-3.0.1-bin-hadoop3.2/examples/src/main/scala/org/apache/spark/examples/ml/DecisionTreeClassificationExample.scala\n",
            "spark-3.0.1-bin-hadoop3.2/examples/src/main/scala/org/apache/spark/examples/ml/QuantileDiscretizerExample.scala\n",
            "spark-3.0.1-bin-hadoop3.2/examples/src/main/scala/org/apache/spark/examples/ml/NormalizerExample.scala\n",
            "spark-3.0.1-bin-hadoop3.2/examples/src/main/scala/org/apache/spark/examples/ml/FMRegressorExample.scala\n",
            "spark-3.0.1-bin-hadoop3.2/examples/src/main/scala/org/apache/spark/examples/ml/VectorAssemblerExample.scala\n",
            "spark-3.0.1-bin-hadoop3.2/examples/src/main/scala/org/apache/spark/examples/ml/ElementwiseProductExample.scala\n",
            "spark-3.0.1-bin-hadoop3.2/examples/src/main/scala/org/apache/spark/examples/ml/GaussianMixtureExample.scala\n",
            "spark-3.0.1-bin-hadoop3.2/examples/src/main/scala/org/apache/spark/examples/SkewedGroupByTest.scala\n",
            "spark-3.0.1-bin-hadoop3.2/examples/src/main/scala/org/apache/spark/examples/SparkALS.scala\n",
            "spark-3.0.1-bin-hadoop3.2/examples/src/main/scala/org/apache/spark/examples/mllib/\n",
            "spark-3.0.1-bin-hadoop3.2/examples/src/main/scala/org/apache/spark/examples/mllib/HypothesisTestingExample.scala\n",
            "spark-3.0.1-bin-hadoop3.2/examples/src/main/scala/org/apache/spark/examples/mllib/KernelDensityEstimationExample.scala\n",
            "spark-3.0.1-bin-hadoop3.2/examples/src/main/scala/org/apache/spark/examples/mllib/FPGrowthExample.scala\n",
            "spark-3.0.1-bin-hadoop3.2/examples/src/main/scala/org/apache/spark/examples/mllib/LBFGSExample.scala\n",
            "spark-3.0.1-bin-hadoop3.2/examples/src/main/scala/org/apache/spark/examples/mllib/SVDExample.scala\n",
            "spark-3.0.1-bin-hadoop3.2/examples/src/main/scala/org/apache/spark/examples/mllib/KMeansExample.scala\n",
            "spark-3.0.1-bin-hadoop3.2/examples/src/main/scala/org/apache/spark/examples/mllib/Word2VecExample.scala\n",
            "spark-3.0.1-bin-hadoop3.2/examples/src/main/scala/org/apache/spark/examples/mllib/StratifiedSamplingExample.scala\n",
            "spark-3.0.1-bin-hadoop3.2/examples/src/main/scala/org/apache/spark/examples/mllib/LogisticRegressionWithLBFGSExample.scala\n",
            "spark-3.0.1-bin-hadoop3.2/examples/src/main/scala/org/apache/spark/examples/mllib/IsotonicRegressionExample.scala\n",
            "spark-3.0.1-bin-hadoop3.2/examples/src/main/scala/org/apache/spark/examples/mllib/RandomRDDGeneration.scala\n",
            "spark-3.0.1-bin-hadoop3.2/examples/src/main/scala/org/apache/spark/examples/mllib/DecisionTreeRegressionExample.scala\n",
            "spark-3.0.1-bin-hadoop3.2/examples/src/main/scala/org/apache/spark/examples/mllib/SummaryStatisticsExample.scala\n",
            "spark-3.0.1-bin-hadoop3.2/examples/src/main/scala/org/apache/spark/examples/mllib/StreamingTestExample.scala\n",
            "spark-3.0.1-bin-hadoop3.2/examples/src/main/scala/org/apache/spark/examples/mllib/PMMLModelExportExample.scala\n",
            "spark-3.0.1-bin-hadoop3.2/examples/src/main/scala/org/apache/spark/examples/mllib/BinaryClassificationMetricsExample.scala\n",
            "spark-3.0.1-bin-hadoop3.2/examples/src/main/scala/org/apache/spark/examples/mllib/MulticlassMetricsExample.scala\n",
            "spark-3.0.1-bin-hadoop3.2/examples/src/main/scala/org/apache/spark/examples/mllib/LDAExample.scala\n",
            "spark-3.0.1-bin-hadoop3.2/examples/src/main/scala/org/apache/spark/examples/mllib/StreamingKMeansExample.scala\n",
            "spark-3.0.1-bin-hadoop3.2/examples/src/main/scala/org/apache/spark/examples/mllib/StandardScalerExample.scala\n",
            "spark-3.0.1-bin-hadoop3.2/examples/src/main/scala/org/apache/spark/examples/mllib/SimpleFPGrowth.scala\n",
            "spark-3.0.1-bin-hadoop3.2/examples/src/main/scala/org/apache/spark/examples/mllib/PCAOnRowMatrixExample.scala\n",
            "spark-3.0.1-bin-hadoop3.2/examples/src/main/scala/org/apache/spark/examples/mllib/Correlations.scala\n",
            "spark-3.0.1-bin-hadoop3.2/examples/src/main/scala/org/apache/spark/examples/mllib/ChiSqSelectorExample.scala\n",
            "spark-3.0.1-bin-hadoop3.2/examples/src/main/scala/org/apache/spark/examples/mllib/SparseNaiveBayes.scala\n",
            "spark-3.0.1-bin-hadoop3.2/examples/src/main/scala/org/apache/spark/examples/mllib/StreamingLinearRegressionExample.scala\n",
            "spark-3.0.1-bin-hadoop3.2/examples/src/main/scala/org/apache/spark/examples/mllib/SVMWithSGDExample.scala\n",
            "spark-3.0.1-bin-hadoop3.2/examples/src/main/scala/org/apache/spark/examples/mllib/MultivariateSummarizer.scala\n",
            "spark-3.0.1-bin-hadoop3.2/examples/src/main/scala/org/apache/spark/examples/mllib/TallSkinnySVD.scala\n",
            "spark-3.0.1-bin-hadoop3.2/examples/src/main/scala/org/apache/spark/examples/mllib/TFIDFExample.scala\n",
            "spark-3.0.1-bin-hadoop3.2/examples/src/main/scala/org/apache/spark/examples/mllib/GradientBoostedTreesRunner.scala\n",
            "spark-3.0.1-bin-hadoop3.2/examples/src/main/scala/org/apache/spark/examples/mllib/MovieLensALS.scala\n",
            "spark-3.0.1-bin-hadoop3.2/examples/src/main/scala/org/apache/spark/examples/mllib/PCAOnSourceVectorExample.scala\n",
            "spark-3.0.1-bin-hadoop3.2/examples/src/main/scala/org/apache/spark/examples/mllib/MultiLabelMetricsExample.scala\n",
            "spark-3.0.1-bin-hadoop3.2/examples/src/main/scala/org/apache/spark/examples/mllib/RecommendationExample.scala\n",
            "spark-3.0.1-bin-hadoop3.2/examples/src/main/scala/org/apache/spark/examples/mllib/BisectingKMeansExample.scala\n",
            "spark-3.0.1-bin-hadoop3.2/examples/src/main/scala/org/apache/spark/examples/mllib/GradientBoostingClassificationExample.scala\n",
            "spark-3.0.1-bin-hadoop3.2/examples/src/main/scala/org/apache/spark/examples/mllib/PowerIterationClusteringExample.scala\n",
            "spark-3.0.1-bin-hadoop3.2/examples/src/main/scala/org/apache/spark/examples/mllib/LatentDirichletAllocationExample.scala\n",
            "spark-3.0.1-bin-hadoop3.2/examples/src/main/scala/org/apache/spark/examples/mllib/RankingMetricsExample.scala\n",
            "spark-3.0.1-bin-hadoop3.2/examples/src/main/scala/org/apache/spark/examples/mllib/DenseKMeans.scala\n",
            "spark-3.0.1-bin-hadoop3.2/examples/src/main/scala/org/apache/spark/examples/mllib/RandomForestClassificationExample.scala\n",
            "spark-3.0.1-bin-hadoop3.2/examples/src/main/scala/org/apache/spark/examples/mllib/TallSkinnyPCA.scala\n",
            "spark-3.0.1-bin-hadoop3.2/examples/src/main/scala/org/apache/spark/examples/mllib/AbstractParams.scala\n",
            "spark-3.0.1-bin-hadoop3.2/examples/src/main/scala/org/apache/spark/examples/mllib/NaiveBayesExample.scala\n",
            "spark-3.0.1-bin-hadoop3.2/examples/src/main/scala/org/apache/spark/examples/mllib/PrefixSpanExample.scala\n",
            "spark-3.0.1-bin-hadoop3.2/examples/src/main/scala/org/apache/spark/examples/mllib/GradientBoostingRegressionExample.scala\n",
            "spark-3.0.1-bin-hadoop3.2/examples/src/main/scala/org/apache/spark/examples/mllib/DecisionTreeRunner.scala\n",
            "spark-3.0.1-bin-hadoop3.2/examples/src/main/scala/org/apache/spark/examples/mllib/StreamingLogisticRegression.scala\n",
            "spark-3.0.1-bin-hadoop3.2/examples/src/main/scala/org/apache/spark/examples/mllib/HypothesisTestingKolmogorovSmirnovTestExample.scala\n",
            "spark-3.0.1-bin-hadoop3.2/examples/src/main/scala/org/apache/spark/examples/mllib/BinaryClassification.scala\n",
            "spark-3.0.1-bin-hadoop3.2/examples/src/main/scala/org/apache/spark/examples/mllib/DecisionTreeClassificationExample.scala\n",
            "spark-3.0.1-bin-hadoop3.2/examples/src/main/scala/org/apache/spark/examples/mllib/SampledRDDs.scala\n",
            "spark-3.0.1-bin-hadoop3.2/examples/src/main/scala/org/apache/spark/examples/mllib/AssociationRulesExample.scala\n",
            "spark-3.0.1-bin-hadoop3.2/examples/src/main/scala/org/apache/spark/examples/mllib/CosineSimilarity.scala\n",
            "spark-3.0.1-bin-hadoop3.2/examples/src/main/scala/org/apache/spark/examples/mllib/RandomForestRegressionExample.scala\n",
            "spark-3.0.1-bin-hadoop3.2/examples/src/main/scala/org/apache/spark/examples/mllib/CorrelationsExample.scala\n",
            "spark-3.0.1-bin-hadoop3.2/examples/src/main/scala/org/apache/spark/examples/mllib/NormalizerExample.scala\n",
            "spark-3.0.1-bin-hadoop3.2/examples/src/main/scala/org/apache/spark/examples/mllib/ElementwiseProductExample.scala\n",
            "spark-3.0.1-bin-hadoop3.2/examples/src/main/scala/org/apache/spark/examples/mllib/GaussianMixtureExample.scala\n",
            "spark-3.0.1-bin-hadoop3.2/examples/src/main/scala/org/apache/spark/examples/ExceptionHandlingTest.scala\n",
            "spark-3.0.1-bin-hadoop3.2/examples/src/main/scala/org/apache/spark/examples/BroadcastTest.scala\n",
            "spark-3.0.1-bin-hadoop3.2/examples/src/main/scala/org/apache/spark/examples/HdfsTest.scala\n",
            "spark-3.0.1-bin-hadoop3.2/examples/src/main/scala/org/apache/spark/examples/SparkHdfsLR.scala\n",
            "spark-3.0.1-bin-hadoop3.2/examples/src/main/scala/org/apache/spark/examples/streaming/\n",
            "spark-3.0.1-bin-hadoop3.2/examples/src/main/scala/org/apache/spark/examples/streaming/SqlNetworkWordCount.scala\n",
            "spark-3.0.1-bin-hadoop3.2/examples/src/main/scala/org/apache/spark/examples/streaming/QueueStream.scala\n",
            "spark-3.0.1-bin-hadoop3.2/examples/src/main/scala/org/apache/spark/examples/streaming/RawNetworkGrep.scala\n",
            "spark-3.0.1-bin-hadoop3.2/examples/src/main/scala/org/apache/spark/examples/streaming/DirectKafkaWordCount.scala\n",
            "spark-3.0.1-bin-hadoop3.2/examples/src/main/scala/org/apache/spark/examples/streaming/StatefulNetworkWordCount.scala\n",
            "spark-3.0.1-bin-hadoop3.2/examples/src/main/scala/org/apache/spark/examples/streaming/DirectKerberizedKafkaWordCount.scala\n",
            "spark-3.0.1-bin-hadoop3.2/examples/src/main/scala/org/apache/spark/examples/streaming/HdfsWordCount.scala\n",
            "spark-3.0.1-bin-hadoop3.2/examples/src/main/scala/org/apache/spark/examples/streaming/CustomReceiver.scala\n",
            "spark-3.0.1-bin-hadoop3.2/examples/src/main/scala/org/apache/spark/examples/streaming/StreamingExamples.scala\n",
            "spark-3.0.1-bin-hadoop3.2/examples/src/main/scala/org/apache/spark/examples/streaming/clickstream/\n",
            "spark-3.0.1-bin-hadoop3.2/examples/src/main/scala/org/apache/spark/examples/streaming/clickstream/PageViewStream.scala\n",
            "spark-3.0.1-bin-hadoop3.2/examples/src/main/scala/org/apache/spark/examples/streaming/clickstream/PageViewGenerator.scala\n",
            "spark-3.0.1-bin-hadoop3.2/examples/src/main/scala/org/apache/spark/examples/streaming/RecoverableNetworkWordCount.scala\n",
            "spark-3.0.1-bin-hadoop3.2/examples/src/main/scala/org/apache/spark/examples/streaming/NetworkWordCount.scala\n",
            "spark-3.0.1-bin-hadoop3.2/examples/src/main/scala/org/apache/spark/examples/LocalLR.scala\n",
            "spark-3.0.1-bin-hadoop3.2/examples/src/main/scala/org/apache/spark/examples/SparkKMeans.scala\n",
            "spark-3.0.1-bin-hadoop3.2/examples/src/main/scala/org/apache/spark/examples/MultiBroadcastTest.scala\n",
            "spark-3.0.1-bin-hadoop3.2/examples/src/main/scala/org/apache/spark/examples/SparkLR.scala\n",
            "spark-3.0.1-bin-hadoop3.2/examples/src/main/scala/org/apache/spark/examples/LocalPi.scala\n",
            "spark-3.0.1-bin-hadoop3.2/examples/src/main/scala/org/apache/spark/examples/graphx/\n",
            "spark-3.0.1-bin-hadoop3.2/examples/src/main/scala/org/apache/spark/examples/graphx/Analytics.scala\n",
            "spark-3.0.1-bin-hadoop3.2/examples/src/main/scala/org/apache/spark/examples/graphx/SynthBenchmark.scala\n",
            "spark-3.0.1-bin-hadoop3.2/examples/src/main/scala/org/apache/spark/examples/graphx/ComprehensiveExample.scala\n",
            "spark-3.0.1-bin-hadoop3.2/examples/src/main/scala/org/apache/spark/examples/graphx/AggregateMessagesExample.scala\n",
            "spark-3.0.1-bin-hadoop3.2/examples/src/main/scala/org/apache/spark/examples/graphx/SSSPExample.scala\n",
            "spark-3.0.1-bin-hadoop3.2/examples/src/main/scala/org/apache/spark/examples/graphx/PageRankExample.scala\n",
            "spark-3.0.1-bin-hadoop3.2/examples/src/main/scala/org/apache/spark/examples/graphx/ConnectedComponentsExample.scala\n",
            "spark-3.0.1-bin-hadoop3.2/examples/src/main/scala/org/apache/spark/examples/graphx/LiveJournalPageRank.scala\n",
            "spark-3.0.1-bin-hadoop3.2/examples/src/main/scala/org/apache/spark/examples/graphx/TriangleCountingExample.scala\n",
            "spark-3.0.1-bin-hadoop3.2/examples/src/main/scala/org/apache/spark/examples/LocalFileLR.scala\n",
            "spark-3.0.1-bin-hadoop3.2/examples/src/main/scala/org/apache/spark/examples/SparkPageRank.scala\n",
            "spark-3.0.1-bin-hadoop3.2/examples/src/main/scala/org/apache/spark/examples/sql/\n",
            "spark-3.0.1-bin-hadoop3.2/examples/src/main/scala/org/apache/spark/examples/sql/RDDRelation.scala\n",
            "spark-3.0.1-bin-hadoop3.2/examples/src/main/scala/org/apache/spark/examples/sql/SimpleTypedAggregator.scala\n",
            "spark-3.0.1-bin-hadoop3.2/examples/src/main/scala/org/apache/spark/examples/sql/streaming/\n",
            "spark-3.0.1-bin-hadoop3.2/examples/src/main/scala/org/apache/spark/examples/sql/streaming/StructuredNetworkWordCount.scala\n",
            "spark-3.0.1-bin-hadoop3.2/examples/src/main/scala/org/apache/spark/examples/sql/streaming/StructuredNetworkWordCountWindowed.scala\n",
            "spark-3.0.1-bin-hadoop3.2/examples/src/main/scala/org/apache/spark/examples/sql/streaming/StructuredSessionization.scala\n",
            "spark-3.0.1-bin-hadoop3.2/examples/src/main/scala/org/apache/spark/examples/sql/streaming/StructuredKafkaWordCount.scala\n",
            "spark-3.0.1-bin-hadoop3.2/examples/src/main/scala/org/apache/spark/examples/sql/streaming/StructuredKerberizedKafkaWordCount.scala\n",
            "spark-3.0.1-bin-hadoop3.2/examples/src/main/scala/org/apache/spark/examples/sql/hive/\n",
            "spark-3.0.1-bin-hadoop3.2/examples/src/main/scala/org/apache/spark/examples/sql/hive/SparkHiveExample.scala\n",
            "spark-3.0.1-bin-hadoop3.2/examples/src/main/scala/org/apache/spark/examples/sql/UserDefinedScalar.scala\n",
            "spark-3.0.1-bin-hadoop3.2/examples/src/main/scala/org/apache/spark/examples/sql/UserDefinedTypedAggregation.scala\n",
            "spark-3.0.1-bin-hadoop3.2/examples/src/main/scala/org/apache/spark/examples/sql/SparkSQLExample.scala\n",
            "spark-3.0.1-bin-hadoop3.2/examples/src/main/scala/org/apache/spark/examples/sql/SQLDataSourceExample.scala\n",
            "spark-3.0.1-bin-hadoop3.2/examples/src/main/scala/org/apache/spark/examples/sql/UserDefinedUntypedAggregation.scala\n",
            "spark-3.0.1-bin-hadoop3.2/examples/src/main/scala/org/apache/spark/examples/SimpleSkewedGroupByTest.scala\n",
            "spark-3.0.1-bin-hadoop3.2/examples/src/main/scala/org/apache/spark/examples/LocalKMeans.scala\n",
            "spark-3.0.1-bin-hadoop3.2/examples/src/main/scala/org/apache/spark/examples/AccumulatorMetricsTest.scala\n",
            "spark-3.0.1-bin-hadoop3.2/examples/src/main/scala/org/apache/spark/examples/pythonconverters/\n",
            "spark-3.0.1-bin-hadoop3.2/examples/src/main/scala/org/apache/spark/examples/pythonconverters/AvroConverters.scala\n",
            "spark-3.0.1-bin-hadoop3.2/examples/src/main/scala/org/apache/spark/examples/SparkPi.scala\n",
            "spark-3.0.1-bin-hadoop3.2/examples/src/main/scala/org/apache/spark/examples/LocalALS.scala\n",
            "spark-3.0.1-bin-hadoop3.2/examples/src/main/scala/org/apache/spark/examples/GroupByTest.scala\n",
            "spark-3.0.1-bin-hadoop3.2/examples/src/main/scala/org/apache/spark/examples/LogQuery.scala\n",
            "spark-3.0.1-bin-hadoop3.2/examples/src/main/scala/org/apache/spark/examples/DriverSubmissionTest.scala\n",
            "spark-3.0.1-bin-hadoop3.2/examples/src/main/scala/org/apache/spark/examples/DFSReadWriteTest.scala\n",
            "spark-3.0.1-bin-hadoop3.2/examples/src/main/scala/org/apache/spark/examples/SparkRemoteFileTest.scala\n",
            "spark-3.0.1-bin-hadoop3.2/examples/src/main/scala/org/apache/spark/examples/SparkTC.scala\n",
            "spark-3.0.1-bin-hadoop3.2/examples/src/main/resources/\n",
            "spark-3.0.1-bin-hadoop3.2/examples/src/main/resources/users.avro\n",
            "spark-3.0.1-bin-hadoop3.2/examples/src/main/resources/full_user.avsc\n",
            "spark-3.0.1-bin-hadoop3.2/examples/src/main/resources/dir1/\n",
            "spark-3.0.1-bin-hadoop3.2/examples/src/main/resources/dir1/file1.parquet\n",
            "spark-3.0.1-bin-hadoop3.2/examples/src/main/resources/dir1/file3.json\n",
            "spark-3.0.1-bin-hadoop3.2/examples/src/main/resources/dir1/dir2/\n",
            "spark-3.0.1-bin-hadoop3.2/examples/src/main/resources/dir1/dir2/file2.parquet\n",
            "spark-3.0.1-bin-hadoop3.2/examples/src/main/resources/users.orc\n",
            "spark-3.0.1-bin-hadoop3.2/examples/src/main/resources/kv1.txt\n",
            "spark-3.0.1-bin-hadoop3.2/examples/src/main/resources/users.parquet\n",
            "spark-3.0.1-bin-hadoop3.2/examples/src/main/resources/people.txt\n",
            "spark-3.0.1-bin-hadoop3.2/examples/src/main/resources/user.avsc\n",
            "spark-3.0.1-bin-hadoop3.2/examples/src/main/resources/people.csv\n",
            "spark-3.0.1-bin-hadoop3.2/examples/src/main/resources/employees.json\n",
            "spark-3.0.1-bin-hadoop3.2/examples/src/main/resources/people.json\n",
            "spark-3.0.1-bin-hadoop3.2/examples/src/main/scripts/\n",
            "spark-3.0.1-bin-hadoop3.2/examples/src/main/scripts/getGpusResources.sh\n",
            "spark-3.0.1-bin-hadoop3.2/examples/src/main/java/\n",
            "spark-3.0.1-bin-hadoop3.2/examples/src/main/java/org/\n",
            "spark-3.0.1-bin-hadoop3.2/examples/src/main/java/org/apache/\n",
            "spark-3.0.1-bin-hadoop3.2/examples/src/main/java/org/apache/spark/\n",
            "spark-3.0.1-bin-hadoop3.2/examples/src/main/java/org/apache/spark/examples/\n",
            "spark-3.0.1-bin-hadoop3.2/examples/src/main/java/org/apache/spark/examples/ml/\n",
            "spark-3.0.1-bin-hadoop3.2/examples/src/main/java/org/apache/spark/examples/ml/JavaInteractionExample.java\n",
            "spark-3.0.1-bin-hadoop3.2/examples/src/main/java/org/apache/spark/examples/ml/JavaRFormulaExample.java\n",
            "spark-3.0.1-bin-hadoop3.2/examples/src/main/java/org/apache/spark/examples/ml/JavaNaiveBayesExample.java\n",
            "spark-3.0.1-bin-hadoop3.2/examples/src/main/java/org/apache/spark/examples/ml/JavaImputerExample.java\n",
            "spark-3.0.1-bin-hadoop3.2/examples/src/main/java/org/apache/spark/examples/ml/JavaMultilayerPerceptronClassifierExample.java\n",
            "spark-3.0.1-bin-hadoop3.2/examples/src/main/java/org/apache/spark/examples/ml/JavaRandomForestRegressorExample.java\n",
            "spark-3.0.1-bin-hadoop3.2/examples/src/main/java/org/apache/spark/examples/ml/JavaRandomForestClassifierExample.java\n",
            "spark-3.0.1-bin-hadoop3.2/examples/src/main/java/org/apache/spark/examples/ml/JavaTfIdfExample.java\n",
            "spark-3.0.1-bin-hadoop3.2/examples/src/main/java/org/apache/spark/examples/ml/JavaGradientBoostedTreeClassifierExample.java\n",
            "spark-3.0.1-bin-hadoop3.2/examples/src/main/java/org/apache/spark/examples/ml/JavaCountVectorizerExample.java\n",
            "spark-3.0.1-bin-hadoop3.2/examples/src/main/java/org/apache/spark/examples/ml/JavaRobustScalerExample.java\n",
            "spark-3.0.1-bin-hadoop3.2/examples/src/main/java/org/apache/spark/examples/ml/JavaLogisticRegressionWithElasticNetExample.java\n",
            "spark-3.0.1-bin-hadoop3.2/examples/src/main/java/org/apache/spark/examples/ml/JavaVectorSizeHintExample.java\n",
            "spark-3.0.1-bin-hadoop3.2/examples/src/main/java/org/apache/spark/examples/ml/JavaMulticlassLogisticRegressionWithElasticNetExample.java\n",
            "spark-3.0.1-bin-hadoop3.2/examples/src/main/java/org/apache/spark/examples/ml/JavaKMeansExample.java\n",
            "spark-3.0.1-bin-hadoop3.2/examples/src/main/java/org/apache/spark/examples/ml/JavaVectorIndexerExample.java\n",
            "spark-3.0.1-bin-hadoop3.2/examples/src/main/java/org/apache/spark/examples/ml/JavaBinarizerExample.java\n",
            "spark-3.0.1-bin-hadoop3.2/examples/src/main/java/org/apache/spark/examples/ml/JavaPolynomialExpansionExample.java\n",
            "spark-3.0.1-bin-hadoop3.2/examples/src/main/java/org/apache/spark/examples/ml/JavaStringIndexerExample.java\n",
            "spark-3.0.1-bin-hadoop3.2/examples/src/main/java/org/apache/spark/examples/ml/JavaPCAExample.java\n",
            "spark-3.0.1-bin-hadoop3.2/examples/src/main/java/org/apache/spark/examples/ml/JavaOneVsRestExample.java\n",
            "spark-3.0.1-bin-hadoop3.2/examples/src/main/java/org/apache/spark/examples/ml/JavaLabeledDocument.java\n",
            "spark-3.0.1-bin-hadoop3.2/examples/src/main/java/org/apache/spark/examples/ml/JavaFeatureHasherExample.java\n",
            "spark-3.0.1-bin-hadoop3.2/examples/src/main/java/org/apache/spark/examples/ml/JavaFMRegressorExample.java\n",
            "spark-3.0.1-bin-hadoop3.2/examples/src/main/java/org/apache/spark/examples/ml/JavaVectorAssemblerExample.java\n",
            "spark-3.0.1-bin-hadoop3.2/examples/src/main/java/org/apache/spark/examples/ml/JavaSummarizerExample.java\n",
            "spark-3.0.1-bin-hadoop3.2/examples/src/main/java/org/apache/spark/examples/ml/JavaBisectingKMeansExample.java\n",
            "spark-3.0.1-bin-hadoop3.2/examples/src/main/java/org/apache/spark/examples/ml/JavaPrefixSpanExample.java\n",
            "spark-3.0.1-bin-hadoop3.2/examples/src/main/java/org/apache/spark/examples/ml/JavaBucketedRandomProjectionLSHExample.java\n",
            "spark-3.0.1-bin-hadoop3.2/examples/src/main/java/org/apache/spark/examples/ml/JavaWord2VecExample.java\n",
            "spark-3.0.1-bin-hadoop3.2/examples/src/main/java/org/apache/spark/examples/ml/JavaVectorSlicerExample.java\n",
            "spark-3.0.1-bin-hadoop3.2/examples/src/main/java/org/apache/spark/examples/ml/JavaLinearRegressionWithElasticNetExample.java\n",
            "spark-3.0.1-bin-hadoop3.2/examples/src/main/java/org/apache/spark/examples/ml/JavaIndexToStringExample.java\n",
            "spark-3.0.1-bin-hadoop3.2/examples/src/main/java/org/apache/spark/examples/ml/JavaDecisionTreeClassificationExample.java\n",
            "spark-3.0.1-bin-hadoop3.2/examples/src/main/java/org/apache/spark/examples/ml/JavaDCTExample.java\n",
            "spark-3.0.1-bin-hadoop3.2/examples/src/main/java/org/apache/spark/examples/ml/JavaTokenizerExample.java\n",
            "spark-3.0.1-bin-hadoop3.2/examples/src/main/java/org/apache/spark/examples/ml/JavaALSExample.java\n",
            "spark-3.0.1-bin-hadoop3.2/examples/src/main/java/org/apache/spark/examples/ml/JavaFMClassifierExample.java\n",
            "spark-3.0.1-bin-hadoop3.2/examples/src/main/java/org/apache/spark/examples/ml/JavaEstimatorTransformerParamExample.java\n",
            "spark-3.0.1-bin-hadoop3.2/examples/src/main/java/org/apache/spark/examples/ml/JavaSQLTransformerExample.java\n",
            "spark-3.0.1-bin-hadoop3.2/examples/src/main/java/org/apache/spark/examples/ml/JavaModelSelectionViaTrainValidationSplitExample.java\n",
            "spark-3.0.1-bin-hadoop3.2/examples/src/main/java/org/apache/spark/examples/ml/JavaQuantileDiscretizerExample.java\n",
            "spark-3.0.1-bin-hadoop3.2/examples/src/main/java/org/apache/spark/examples/ml/JavaCorrelationExample.java\n",
            "spark-3.0.1-bin-hadoop3.2/examples/src/main/java/org/apache/spark/examples/ml/JavaNGramExample.java\n",
            "spark-3.0.1-bin-hadoop3.2/examples/src/main/java/org/apache/spark/examples/ml/JavaGradientBoostedTreeRegressorExample.java\n",
            "spark-3.0.1-bin-hadoop3.2/examples/src/main/java/org/apache/spark/examples/ml/JavaModelSelectionViaCrossValidationExample.java\n",
            "spark-3.0.1-bin-hadoop3.2/examples/src/main/java/org/apache/spark/examples/ml/JavaIsotonicRegressionExample.java\n",
            "spark-3.0.1-bin-hadoop3.2/examples/src/main/java/org/apache/spark/examples/ml/JavaMinMaxScalerExample.java\n",
            "spark-3.0.1-bin-hadoop3.2/examples/src/main/java/org/apache/spark/examples/ml/JavaChiSquareTestExample.java\n",
            "spark-3.0.1-bin-hadoop3.2/examples/src/main/java/org/apache/spark/examples/ml/JavaElementwiseProductExample.java\n",
            "spark-3.0.1-bin-hadoop3.2/examples/src/main/java/org/apache/spark/examples/ml/JavaAFTSurvivalRegressionExample.java\n",
            "spark-3.0.1-bin-hadoop3.2/examples/src/main/java/org/apache/spark/examples/ml/JavaStandardScalerExample.java\n",
            "spark-3.0.1-bin-hadoop3.2/examples/src/main/java/org/apache/spark/examples/ml/JavaDecisionTreeRegressionExample.java\n",
            "spark-3.0.1-bin-hadoop3.2/examples/src/main/java/org/apache/spark/examples/ml/JavaOneHotEncoderExample.java\n",
            "spark-3.0.1-bin-hadoop3.2/examples/src/main/java/org/apache/spark/examples/ml/JavaDocument.java\n",
            "spark-3.0.1-bin-hadoop3.2/examples/src/main/java/org/apache/spark/examples/ml/JavaFPGrowthExample.java\n",
            "spark-3.0.1-bin-hadoop3.2/examples/src/main/java/org/apache/spark/examples/ml/JavaLDAExample.java\n",
            "spark-3.0.1-bin-hadoop3.2/examples/src/main/java/org/apache/spark/examples/ml/JavaMinHashLSHExample.java\n",
            "spark-3.0.1-bin-hadoop3.2/examples/src/main/java/org/apache/spark/examples/ml/JavaChiSqSelectorExample.java\n",
            "spark-3.0.1-bin-hadoop3.2/examples/src/main/java/org/apache/spark/examples/ml/JavaNormalizerExample.java\n",
            "spark-3.0.1-bin-hadoop3.2/examples/src/main/java/org/apache/spark/examples/ml/JavaGaussianMixtureExample.java\n",
            "spark-3.0.1-bin-hadoop3.2/examples/src/main/java/org/apache/spark/examples/ml/JavaStopWordsRemoverExample.java\n",
            "spark-3.0.1-bin-hadoop3.2/examples/src/main/java/org/apache/spark/examples/ml/JavaPipelineExample.java\n",
            "spark-3.0.1-bin-hadoop3.2/examples/src/main/java/org/apache/spark/examples/ml/JavaGeneralizedLinearRegressionExample.java\n",
            "spark-3.0.1-bin-hadoop3.2/examples/src/main/java/org/apache/spark/examples/ml/JavaLinearSVCExample.java\n",
            "spark-3.0.1-bin-hadoop3.2/examples/src/main/java/org/apache/spark/examples/ml/JavaLogisticRegressionSummaryExample.java\n",
            "spark-3.0.1-bin-hadoop3.2/examples/src/main/java/org/apache/spark/examples/ml/JavaPowerIterationClusteringExample.java\n",
            "spark-3.0.1-bin-hadoop3.2/examples/src/main/java/org/apache/spark/examples/ml/JavaMaxAbsScalerExample.java\n",
            "spark-3.0.1-bin-hadoop3.2/examples/src/main/java/org/apache/spark/examples/ml/JavaBucketizerExample.java\n",
            "spark-3.0.1-bin-hadoop3.2/examples/src/main/java/org/apache/spark/examples/JavaHdfsLR.java\n",
            "spark-3.0.1-bin-hadoop3.2/examples/src/main/java/org/apache/spark/examples/mllib/\n",
            "spark-3.0.1-bin-hadoop3.2/examples/src/main/java/org/apache/spark/examples/mllib/JavaNaiveBayesExample.java\n",
            "spark-3.0.1-bin-hadoop3.2/examples/src/main/java/org/apache/spark/examples/mllib/JavaSVDExample.java\n",
            "spark-3.0.1-bin-hadoop3.2/examples/src/main/java/org/apache/spark/examples/mllib/JavaKernelDensityEstimationExample.java\n",
            "spark-3.0.1-bin-hadoop3.2/examples/src/main/java/org/apache/spark/examples/mllib/JavaHypothesisTestingKolmogorovSmirnovTestExample.java\n",
            "spark-3.0.1-bin-hadoop3.2/examples/src/main/java/org/apache/spark/examples/mllib/JavaKMeansExample.java\n",
            "spark-3.0.1-bin-hadoop3.2/examples/src/main/java/org/apache/spark/examples/mllib/JavaPCAExample.java\n",
            "spark-3.0.1-bin-hadoop3.2/examples/src/main/java/org/apache/spark/examples/mllib/JavaRandomForestClassificationExample.java\n",
            "spark-3.0.1-bin-hadoop3.2/examples/src/main/java/org/apache/spark/examples/mllib/JavaCorrelationsExample.java\n",
            "spark-3.0.1-bin-hadoop3.2/examples/src/main/java/org/apache/spark/examples/mllib/JavaLatentDirichletAllocationExample.java\n",
            "spark-3.0.1-bin-hadoop3.2/examples/src/main/java/org/apache/spark/examples/mllib/JavaBisectingKMeansExample.java\n",
            "spark-3.0.1-bin-hadoop3.2/examples/src/main/java/org/apache/spark/examples/mllib/JavaPrefixSpanExample.java\n",
            "spark-3.0.1-bin-hadoop3.2/examples/src/main/java/org/apache/spark/examples/mllib/JavaSummaryStatisticsExample.java\n",
            "spark-3.0.1-bin-hadoop3.2/examples/src/main/java/org/apache/spark/examples/mllib/JavaSVMWithSGDExample.java\n",
            "spark-3.0.1-bin-hadoop3.2/examples/src/main/java/org/apache/spark/examples/mllib/JavaGradientBoostingRegressionExample.java\n",
            "spark-3.0.1-bin-hadoop3.2/examples/src/main/java/org/apache/spark/examples/mllib/JavaDecisionTreeClassificationExample.java\n",
            "spark-3.0.1-bin-hadoop3.2/examples/src/main/java/org/apache/spark/examples/mllib/JavaBinaryClassificationMetricsExample.java\n",
            "spark-3.0.1-bin-hadoop3.2/examples/src/main/java/org/apache/spark/examples/mllib/JavaSimpleFPGrowth.java\n",
            "spark-3.0.1-bin-hadoop3.2/examples/src/main/java/org/apache/spark/examples/mllib/JavaALS.java\n",
            "spark-3.0.1-bin-hadoop3.2/examples/src/main/java/org/apache/spark/examples/mllib/JavaIsotonicRegressionExample.java\n",
            "spark-3.0.1-bin-hadoop3.2/examples/src/main/java/org/apache/spark/examples/mllib/JavaElementwiseProductExample.java\n",
            "spark-3.0.1-bin-hadoop3.2/examples/src/main/java/org/apache/spark/examples/mllib/JavaGradientBoostingClassificationExample.java\n",
            "spark-3.0.1-bin-hadoop3.2/examples/src/main/java/org/apache/spark/examples/mllib/JavaMulticlassClassificationMetricsExample.java\n",
            "spark-3.0.1-bin-hadoop3.2/examples/src/main/java/org/apache/spark/examples/mllib/JavaLogisticRegressionWithLBFGSExample.java\n",
            "spark-3.0.1-bin-hadoop3.2/examples/src/main/java/org/apache/spark/examples/mllib/JavaRecommendationExample.java\n",
            "spark-3.0.1-bin-hadoop3.2/examples/src/main/java/org/apache/spark/examples/mllib/JavaAssociationRulesExample.java\n",
            "spark-3.0.1-bin-hadoop3.2/examples/src/main/java/org/apache/spark/examples/mllib/JavaDecisionTreeRegressionExample.java\n",
            "spark-3.0.1-bin-hadoop3.2/examples/src/main/java/org/apache/spark/examples/mllib/JavaLBFGSExample.java\n",
            "spark-3.0.1-bin-hadoop3.2/examples/src/main/java/org/apache/spark/examples/mllib/JavaHypothesisTestingExample.java\n",
            "spark-3.0.1-bin-hadoop3.2/examples/src/main/java/org/apache/spark/examples/mllib/JavaRankingMetricsExample.java\n",
            "spark-3.0.1-bin-hadoop3.2/examples/src/main/java/org/apache/spark/examples/mllib/JavaMultiLabelClassificationMetricsExample.java\n",
            "spark-3.0.1-bin-hadoop3.2/examples/src/main/java/org/apache/spark/examples/mllib/JavaStratifiedSamplingExample.java\n",
            "spark-3.0.1-bin-hadoop3.2/examples/src/main/java/org/apache/spark/examples/mllib/JavaChiSqSelectorExample.java\n",
            "spark-3.0.1-bin-hadoop3.2/examples/src/main/java/org/apache/spark/examples/mllib/JavaGaussianMixtureExample.java\n",
            "spark-3.0.1-bin-hadoop3.2/examples/src/main/java/org/apache/spark/examples/mllib/JavaRandomForestRegressionExample.java\n",
            "spark-3.0.1-bin-hadoop3.2/examples/src/main/java/org/apache/spark/examples/mllib/JavaStreamingTestExample.java\n",
            "spark-3.0.1-bin-hadoop3.2/examples/src/main/java/org/apache/spark/examples/mllib/JavaPowerIterationClusteringExample.java\n",
            "spark-3.0.1-bin-hadoop3.2/examples/src/main/java/org/apache/spark/examples/JavaLogQuery.java\n",
            "spark-3.0.1-bin-hadoop3.2/examples/src/main/java/org/apache/spark/examples/streaming/\n",
            "spark-3.0.1-bin-hadoop3.2/examples/src/main/java/org/apache/spark/examples/streaming/JavaDirectKafkaWordCount.java\n",
            "spark-3.0.1-bin-hadoop3.2/examples/src/main/java/org/apache/spark/examples/streaming/JavaRecoverableNetworkWordCount.java\n",
            "spark-3.0.1-bin-hadoop3.2/examples/src/main/java/org/apache/spark/examples/streaming/JavaQueueStream.java\n",
            "spark-3.0.1-bin-hadoop3.2/examples/src/main/java/org/apache/spark/examples/streaming/JavaRecord.java\n",
            "spark-3.0.1-bin-hadoop3.2/examples/src/main/java/org/apache/spark/examples/streaming/JavaCustomReceiver.java\n",
            "spark-3.0.1-bin-hadoop3.2/examples/src/main/java/org/apache/spark/examples/streaming/JavaNetworkWordCount.java\n",
            "spark-3.0.1-bin-hadoop3.2/examples/src/main/java/org/apache/spark/examples/streaming/JavaSqlNetworkWordCount.java\n",
            "spark-3.0.1-bin-hadoop3.2/examples/src/main/java/org/apache/spark/examples/streaming/JavaDirectKerberizedKafkaWordCount.java\n",
            "spark-3.0.1-bin-hadoop3.2/examples/src/main/java/org/apache/spark/examples/streaming/JavaStatefulNetworkWordCount.java\n",
            "spark-3.0.1-bin-hadoop3.2/examples/src/main/java/org/apache/spark/examples/JavaStatusTrackerDemo.java\n",
            "spark-3.0.1-bin-hadoop3.2/examples/src/main/java/org/apache/spark/examples/sql/\n",
            "spark-3.0.1-bin-hadoop3.2/examples/src/main/java/org/apache/spark/examples/sql/streaming/\n",
            "spark-3.0.1-bin-hadoop3.2/examples/src/main/java/org/apache/spark/examples/sql/streaming/JavaStructuredNetworkWordCount.java\n",
            "spark-3.0.1-bin-hadoop3.2/examples/src/main/java/org/apache/spark/examples/sql/streaming/JavaStructuredSessionization.java\n",
            "spark-3.0.1-bin-hadoop3.2/examples/src/main/java/org/apache/spark/examples/sql/streaming/JavaStructuredKerberizedKafkaWordCount.java\n",
            "spark-3.0.1-bin-hadoop3.2/examples/src/main/java/org/apache/spark/examples/sql/streaming/JavaStructuredNetworkWordCountWindowed.java\n",
            "spark-3.0.1-bin-hadoop3.2/examples/src/main/java/org/apache/spark/examples/sql/streaming/JavaStructuredKafkaWordCount.java\n",
            "spark-3.0.1-bin-hadoop3.2/examples/src/main/java/org/apache/spark/examples/sql/hive/\n",
            "spark-3.0.1-bin-hadoop3.2/examples/src/main/java/org/apache/spark/examples/sql/hive/JavaSparkHiveExample.java\n",
            "spark-3.0.1-bin-hadoop3.2/examples/src/main/java/org/apache/spark/examples/sql/JavaSparkSQLExample.java\n",
            "spark-3.0.1-bin-hadoop3.2/examples/src/main/java/org/apache/spark/examples/sql/JavaSQLDataSourceExample.java\n",
            "spark-3.0.1-bin-hadoop3.2/examples/src/main/java/org/apache/spark/examples/sql/JavaUserDefinedScalar.java\n",
            "spark-3.0.1-bin-hadoop3.2/examples/src/main/java/org/apache/spark/examples/sql/JavaUserDefinedUntypedAggregation.java\n",
            "spark-3.0.1-bin-hadoop3.2/examples/src/main/java/org/apache/spark/examples/sql/JavaUserDefinedTypedAggregation.java\n",
            "spark-3.0.1-bin-hadoop3.2/examples/src/main/java/org/apache/spark/examples/JavaTC.java\n",
            "spark-3.0.1-bin-hadoop3.2/examples/src/main/java/org/apache/spark/examples/JavaWordCount.java\n",
            "spark-3.0.1-bin-hadoop3.2/examples/src/main/java/org/apache/spark/examples/JavaPageRank.java\n",
            "spark-3.0.1-bin-hadoop3.2/examples/src/main/java/org/apache/spark/examples/JavaSparkPi.java\n",
            "spark-3.0.1-bin-hadoop3.2/examples/src/main/r/\n",
            "spark-3.0.1-bin-hadoop3.2/examples/src/main/r/ml/\n",
            "spark-3.0.1-bin-hadoop3.2/examples/src/main/r/ml/lda.R\n",
            "spark-3.0.1-bin-hadoop3.2/examples/src/main/r/ml/logit.R\n",
            "spark-3.0.1-bin-hadoop3.2/examples/src/main/r/ml/gaussianMixture.R\n",
            "spark-3.0.1-bin-hadoop3.2/examples/src/main/r/ml/survreg.R\n",
            "spark-3.0.1-bin-hadoop3.2/examples/src/main/r/ml/glm.R\n",
            "spark-3.0.1-bin-hadoop3.2/examples/src/main/r/ml/powerIterationClustering.R\n",
            "spark-3.0.1-bin-hadoop3.2/examples/src/main/r/ml/als.R\n",
            "spark-3.0.1-bin-hadoop3.2/examples/src/main/r/ml/ml.R\n",
            "spark-3.0.1-bin-hadoop3.2/examples/src/main/r/ml/fpm.R\n",
            "spark-3.0.1-bin-hadoop3.2/examples/src/main/r/ml/bisectingKmeans.R\n",
            "spark-3.0.1-bin-hadoop3.2/examples/src/main/r/ml/isoreg.R\n",
            "spark-3.0.1-bin-hadoop3.2/examples/src/main/r/ml/mlp.R\n",
            "spark-3.0.1-bin-hadoop3.2/examples/src/main/r/ml/kmeans.R\n",
            "spark-3.0.1-bin-hadoop3.2/examples/src/main/r/ml/randomForest.R\n",
            "spark-3.0.1-bin-hadoop3.2/examples/src/main/r/ml/gbt.R\n",
            "spark-3.0.1-bin-hadoop3.2/examples/src/main/r/ml/kstest.R\n",
            "spark-3.0.1-bin-hadoop3.2/examples/src/main/r/ml/svmLinear.R\n",
            "spark-3.0.1-bin-hadoop3.2/examples/src/main/r/ml/decisionTree.R\n",
            "spark-3.0.1-bin-hadoop3.2/examples/src/main/r/ml/naiveBayes.R\n",
            "spark-3.0.1-bin-hadoop3.2/examples/src/main/r/ml/prefixSpan.R\n",
            "spark-3.0.1-bin-hadoop3.2/examples/src/main/r/data-manipulation.R\n",
            "spark-3.0.1-bin-hadoop3.2/examples/src/main/r/streaming/\n",
            "spark-3.0.1-bin-hadoop3.2/examples/src/main/r/streaming/structured_network_wordcount.R\n",
            "spark-3.0.1-bin-hadoop3.2/examples/src/main/r/RSparkSQLExample.R\n",
            "spark-3.0.1-bin-hadoop3.2/examples/src/main/r/dataframe.R\n",
            "spark-3.0.1-bin-hadoop3.2/examples/src/main/python/\n",
            "spark-3.0.1-bin-hadoop3.2/examples/src/main/python/ml/\n",
            "spark-3.0.1-bin-hadoop3.2/examples/src/main/python/ml/bisecting_k_means_example.py\n",
            "spark-3.0.1-bin-hadoop3.2/examples/src/main/python/ml/stopwords_remover_example.py\n",
            "spark-3.0.1-bin-hadoop3.2/examples/src/main/python/ml/chisq_selector_example.py\n",
            "spark-3.0.1-bin-hadoop3.2/examples/src/main/python/ml/cross_validator.py\n",
            "spark-3.0.1-bin-hadoop3.2/examples/src/main/python/ml/vector_indexer_example.py\n",
            "spark-3.0.1-bin-hadoop3.2/examples/src/main/python/ml/binarizer_example.py\n",
            "spark-3.0.1-bin-hadoop3.2/examples/src/main/python/ml/tokenizer_example.py\n",
            "spark-3.0.1-bin-hadoop3.2/examples/src/main/python/ml/quantile_discretizer_example.py\n",
            "spark-3.0.1-bin-hadoop3.2/examples/src/main/python/ml/vector_size_hint_example.py\n",
            "spark-3.0.1-bin-hadoop3.2/examples/src/main/python/ml/elementwise_product_example.py\n",
            "spark-3.0.1-bin-hadoop3.2/examples/src/main/python/ml/tf_idf_example.py\n",
            "spark-3.0.1-bin-hadoop3.2/examples/src/main/python/ml/pca_example.py\n",
            "spark-3.0.1-bin-hadoop3.2/examples/src/main/python/ml/chi_square_test_example.py\n",
            "spark-3.0.1-bin-hadoop3.2/examples/src/main/python/ml/correlation_example.py\n",
            "spark-3.0.1-bin-hadoop3.2/examples/src/main/python/ml/rformula_example.py\n",
            "spark-3.0.1-bin-hadoop3.2/examples/src/main/python/ml/fpgrowth_example.py\n",
            "spark-3.0.1-bin-hadoop3.2/examples/src/main/python/ml/dataframe_example.py\n",
            "spark-3.0.1-bin-hadoop3.2/examples/src/main/python/ml/train_validation_split.py\n",
            "spark-3.0.1-bin-hadoop3.2/examples/src/main/python/ml/fm_classifier_example.py\n",
            "spark-3.0.1-bin-hadoop3.2/examples/src/main/python/ml/index_to_string_example.py\n",
            "spark-3.0.1-bin-hadoop3.2/examples/src/main/python/ml/gradient_boosted_tree_regressor_example.py\n",
            "spark-3.0.1-bin-hadoop3.2/examples/src/main/python/ml/logistic_regression_summary_example.py\n",
            "spark-3.0.1-bin-hadoop3.2/examples/src/main/python/ml/feature_hasher_example.py\n",
            "spark-3.0.1-bin-hadoop3.2/examples/src/main/python/ml/vector_slicer_example.py\n",
            "spark-3.0.1-bin-hadoop3.2/examples/src/main/python/ml/kmeans_example.py\n",
            "spark-3.0.1-bin-hadoop3.2/examples/src/main/python/ml/robust_scaler_example.py\n",
            "spark-3.0.1-bin-hadoop3.2/examples/src/main/python/ml/als_example.py\n",
            "spark-3.0.1-bin-hadoop3.2/examples/src/main/python/ml/decision_tree_classification_example.py\n",
            "spark-3.0.1-bin-hadoop3.2/examples/src/main/python/ml/generalized_linear_regression_example.py\n",
            "spark-3.0.1-bin-hadoop3.2/examples/src/main/python/ml/fm_regressor_example.py\n",
            "spark-3.0.1-bin-hadoop3.2/examples/src/main/python/ml/multiclass_logistic_regression_with_elastic_net.py\n",
            "spark-3.0.1-bin-hadoop3.2/examples/src/main/python/ml/imputer_example.py\n",
            "spark-3.0.1-bin-hadoop3.2/examples/src/main/python/ml/interaction_example.py\n",
            "spark-3.0.1-bin-hadoop3.2/examples/src/main/python/ml/naive_bayes_example.py\n",
            "spark-3.0.1-bin-hadoop3.2/examples/src/main/python/ml/string_indexer_example.py\n",
            "spark-3.0.1-bin-hadoop3.2/examples/src/main/python/ml/gradient_boosted_tree_classifier_example.py\n",
            "spark-3.0.1-bin-hadoop3.2/examples/src/main/python/ml/sql_transformer.py\n",
            "spark-3.0.1-bin-hadoop3.2/examples/src/main/python/ml/logistic_regression_with_elastic_net.py\n",
            "spark-3.0.1-bin-hadoop3.2/examples/src/main/python/ml/decision_tree_regression_example.py\n",
            "spark-3.0.1-bin-hadoop3.2/examples/src/main/python/ml/lda_example.py\n",
            "spark-3.0.1-bin-hadoop3.2/examples/src/main/python/ml/min_hash_lsh_example.py\n",
            "spark-3.0.1-bin-hadoop3.2/examples/src/main/python/ml/estimator_transformer_param_example.py\n",
            "spark-3.0.1-bin-hadoop3.2/examples/src/main/python/ml/gaussian_mixture_example.py\n",
            "spark-3.0.1-bin-hadoop3.2/examples/src/main/python/ml/prefixspan_example.py\n",
            "spark-3.0.1-bin-hadoop3.2/examples/src/main/python/ml/summarizer_example.py\n",
            "spark-3.0.1-bin-hadoop3.2/examples/src/main/python/ml/max_abs_scaler_example.py\n",
            "spark-3.0.1-bin-hadoop3.2/examples/src/main/python/ml/aft_survival_regression.py\n",
            "spark-3.0.1-bin-hadoop3.2/examples/src/main/python/ml/onehot_encoder_example.py\n",
            "spark-3.0.1-bin-hadoop3.2/examples/src/main/python/ml/normalizer_example.py\n",
            "spark-3.0.1-bin-hadoop3.2/examples/src/main/python/ml/random_forest_regressor_example.py\n",
            "spark-3.0.1-bin-hadoop3.2/examples/src/main/python/ml/random_forest_classifier_example.py\n",
            "spark-3.0.1-bin-hadoop3.2/examples/src/main/python/ml/vector_assembler_example.py\n",
            "spark-3.0.1-bin-hadoop3.2/examples/src/main/python/ml/power_iteration_clustering_example.py\n",
            "spark-3.0.1-bin-hadoop3.2/examples/src/main/python/ml/linear_regression_with_elastic_net.py\n",
            "spark-3.0.1-bin-hadoop3.2/examples/src/main/python/ml/count_vectorizer_example.py\n",
            "spark-3.0.1-bin-hadoop3.2/examples/src/main/python/ml/standard_scaler_example.py\n",
            "spark-3.0.1-bin-hadoop3.2/examples/src/main/python/ml/bucketizer_example.py\n",
            "spark-3.0.1-bin-hadoop3.2/examples/src/main/python/ml/multilayer_perceptron_classification.py\n",
            "spark-3.0.1-bin-hadoop3.2/examples/src/main/python/ml/dct_example.py\n",
            "spark-3.0.1-bin-hadoop3.2/examples/src/main/python/ml/linearsvc.py\n",
            "spark-3.0.1-bin-hadoop3.2/examples/src/main/python/ml/polynomial_expansion_example.py\n",
            "spark-3.0.1-bin-hadoop3.2/examples/src/main/python/ml/isotonic_regression_example.py\n",
            "spark-3.0.1-bin-hadoop3.2/examples/src/main/python/ml/n_gram_example.py\n",
            "spark-3.0.1-bin-hadoop3.2/examples/src/main/python/ml/word2vec_example.py\n",
            "spark-3.0.1-bin-hadoop3.2/examples/src/main/python/ml/min_max_scaler_example.py\n",
            "spark-3.0.1-bin-hadoop3.2/examples/src/main/python/ml/bucketed_random_projection_lsh_example.py\n",
            "spark-3.0.1-bin-hadoop3.2/examples/src/main/python/ml/one_vs_rest_example.py\n",
            "spark-3.0.1-bin-hadoop3.2/examples/src/main/python/ml/pipeline_example.py\n",
            "spark-3.0.1-bin-hadoop3.2/examples/src/main/python/mllib/\n",
            "spark-3.0.1-bin-hadoop3.2/examples/src/main/python/mllib/bisecting_k_means_example.py\n",
            "spark-3.0.1-bin-hadoop3.2/examples/src/main/python/mllib/multi_class_metrics_example.py\n",
            "spark-3.0.1-bin-hadoop3.2/examples/src/main/python/mllib/regression_metrics_example.py\n",
            "spark-3.0.1-bin-hadoop3.2/examples/src/main/python/mllib/correlations.py\n",
            "spark-3.0.1-bin-hadoop3.2/examples/src/main/python/mllib/elementwise_product_example.py\n",
            "spark-3.0.1-bin-hadoop3.2/examples/src/main/python/mllib/svd_example.py\n",
            "spark-3.0.1-bin-hadoop3.2/examples/src/main/python/mllib/tf_idf_example.py\n",
            "spark-3.0.1-bin-hadoop3.2/examples/src/main/python/mllib/kernel_density_estimation_example.py\n",
            "spark-3.0.1-bin-hadoop3.2/examples/src/main/python/mllib/pca_rowmatrix_example.py\n",
            "spark-3.0.1-bin-hadoop3.2/examples/src/main/python/mllib/ranking_metrics_example.py\n",
            "spark-3.0.1-bin-hadoop3.2/examples/src/main/python/mllib/gradient_boosting_regression_example.py\n",
            "spark-3.0.1-bin-hadoop3.2/examples/src/main/python/mllib/fpgrowth_example.py\n",
            "spark-3.0.1-bin-hadoop3.2/examples/src/main/python/mllib/random_rdd_generation.py\n",
            "spark-3.0.1-bin-hadoop3.2/examples/src/main/python/mllib/word2vec.py\n",
            "spark-3.0.1-bin-hadoop3.2/examples/src/main/python/mllib/linear_regression_with_sgd_example.py\n",
            "spark-3.0.1-bin-hadoop3.2/examples/src/main/python/mllib/logistic_regression_with_lbfgs_example.py\n",
            "spark-3.0.1-bin-hadoop3.2/examples/src/main/python/mllib/kmeans.py\n",
            "spark-3.0.1-bin-hadoop3.2/examples/src/main/python/mllib/streaming_k_means_example.py\n",
            "spark-3.0.1-bin-hadoop3.2/examples/src/main/python/mllib/decision_tree_classification_example.py\n",
            "spark-3.0.1-bin-hadoop3.2/examples/src/main/python/mllib/correlations_example.py\n",
            "spark-3.0.1-bin-hadoop3.2/examples/src/main/python/mllib/naive_bayes_example.py\n",
            "spark-3.0.1-bin-hadoop3.2/examples/src/main/python/mllib/decision_tree_regression_example.py\n",
            "spark-3.0.1-bin-hadoop3.2/examples/src/main/python/mllib/sampled_rdds.py\n",
            "spark-3.0.1-bin-hadoop3.2/examples/src/main/python/mllib/gaussian_mixture_example.py\n",
            "spark-3.0.1-bin-hadoop3.2/examples/src/main/python/mllib/hypothesis_testing_example.py\n",
            "spark-3.0.1-bin-hadoop3.2/examples/src/main/python/mllib/streaming_linear_regression_example.py\n",
            "spark-3.0.1-bin-hadoop3.2/examples/src/main/python/mllib/stratified_sampling_example.py\n",
            "spark-3.0.1-bin-hadoop3.2/examples/src/main/python/mllib/gaussian_mixture_model.py\n",
            "spark-3.0.1-bin-hadoop3.2/examples/src/main/python/mllib/normalizer_example.py\n",
            "spark-3.0.1-bin-hadoop3.2/examples/src/main/python/mllib/summary_statistics_example.py\n",
            "spark-3.0.1-bin-hadoop3.2/examples/src/main/python/mllib/svm_with_sgd_example.py\n",
            "spark-3.0.1-bin-hadoop3.2/examples/src/main/python/mllib/logistic_regression.py\n",
            "spark-3.0.1-bin-hadoop3.2/examples/src/main/python/mllib/power_iteration_clustering_example.py\n",
            "spark-3.0.1-bin-hadoop3.2/examples/src/main/python/mllib/standard_scaler_example.py\n",
            "spark-3.0.1-bin-hadoop3.2/examples/src/main/python/mllib/random_forest_classification_example.py\n",
            "spark-3.0.1-bin-hadoop3.2/examples/src/main/python/mllib/gradient_boosting_classification_example.py\n",
            "spark-3.0.1-bin-hadoop3.2/examples/src/main/python/mllib/random_forest_regression_example.py\n",
            "spark-3.0.1-bin-hadoop3.2/examples/src/main/python/mllib/isotonic_regression_example.py\n",
            "spark-3.0.1-bin-hadoop3.2/examples/src/main/python/mllib/k_means_example.py\n",
            "spark-3.0.1-bin-hadoop3.2/examples/src/main/python/mllib/word2vec_example.py\n",
            "spark-3.0.1-bin-hadoop3.2/examples/src/main/python/mllib/binary_classification_metrics_example.py\n",
            "spark-3.0.1-bin-hadoop3.2/examples/src/main/python/mllib/multi_label_metrics_example.py\n",
            "spark-3.0.1-bin-hadoop3.2/examples/src/main/python/mllib/hypothesis_testing_kolmogorov_smirnov_test_example.py\n",
            "spark-3.0.1-bin-hadoop3.2/examples/src/main/python/mllib/latent_dirichlet_allocation_example.py\n",
            "spark-3.0.1-bin-hadoop3.2/examples/src/main/python/mllib/recommendation_example.py\n",
            "spark-3.0.1-bin-hadoop3.2/examples/src/main/python/transitive_closure.py\n",
            "spark-3.0.1-bin-hadoop3.2/examples/src/main/python/parquet_inputformat.py\n",
            "spark-3.0.1-bin-hadoop3.2/examples/src/main/python/streaming/\n",
            "spark-3.0.1-bin-hadoop3.2/examples/src/main/python/streaming/sql_network_wordcount.py\n",
            "spark-3.0.1-bin-hadoop3.2/examples/src/main/python/streaming/queue_stream.py\n",
            "spark-3.0.1-bin-hadoop3.2/examples/src/main/python/streaming/recoverable_network_wordcount.py\n",
            "spark-3.0.1-bin-hadoop3.2/examples/src/main/python/streaming/network_wordjoinsentiments.py\n",
            "spark-3.0.1-bin-hadoop3.2/examples/src/main/python/streaming/network_wordcount.py\n",
            "spark-3.0.1-bin-hadoop3.2/examples/src/main/python/streaming/hdfs_wordcount.py\n",
            "spark-3.0.1-bin-hadoop3.2/examples/src/main/python/streaming/stateful_network_wordcount.py\n",
            "spark-3.0.1-bin-hadoop3.2/examples/src/main/python/kmeans.py\n",
            "spark-3.0.1-bin-hadoop3.2/examples/src/main/python/als.py\n",
            "spark-3.0.1-bin-hadoop3.2/examples/src/main/python/sql/\n",
            "spark-3.0.1-bin-hadoop3.2/examples/src/main/python/sql/streaming/\n",
            "spark-3.0.1-bin-hadoop3.2/examples/src/main/python/sql/streaming/structured_kafka_wordcount.py\n",
            "spark-3.0.1-bin-hadoop3.2/examples/src/main/python/sql/streaming/structured_network_wordcount_windowed.py\n",
            "spark-3.0.1-bin-hadoop3.2/examples/src/main/python/sql/streaming/structured_network_wordcount.py\n",
            "spark-3.0.1-bin-hadoop3.2/examples/src/main/python/sql/basic.py\n",
            "spark-3.0.1-bin-hadoop3.2/examples/src/main/python/sql/datasource.py\n",
            "spark-3.0.1-bin-hadoop3.2/examples/src/main/python/sql/hive.py\n",
            "spark-3.0.1-bin-hadoop3.2/examples/src/main/python/sql/arrow.py\n",
            "spark-3.0.1-bin-hadoop3.2/examples/src/main/python/pagerank.py\n",
            "spark-3.0.1-bin-hadoop3.2/examples/src/main/python/logistic_regression.py\n",
            "spark-3.0.1-bin-hadoop3.2/examples/src/main/python/wordcount.py\n",
            "spark-3.0.1-bin-hadoop3.2/examples/src/main/python/status_api_demo.py\n",
            "spark-3.0.1-bin-hadoop3.2/examples/src/main/python/avro_inputformat.py\n",
            "spark-3.0.1-bin-hadoop3.2/examples/src/main/python/pi.py\n",
            "spark-3.0.1-bin-hadoop3.2/examples/src/main/python/sort.py\n",
            "spark-3.0.1-bin-hadoop3.2/examples/jars/\n",
            "spark-3.0.1-bin-hadoop3.2/examples/jars/spark-examples_2.12-3.0.1.jar\n",
            "spark-3.0.1-bin-hadoop3.2/examples/jars/scopt_2.12-3.7.1.jar\n",
            "spark-3.0.1-bin-hadoop3.2/data/\n",
            "spark-3.0.1-bin-hadoop3.2/data/mllib/\n",
            "spark-3.0.1-bin-hadoop3.2/data/mllib/ridge-data/\n",
            "spark-3.0.1-bin-hadoop3.2/data/mllib/ridge-data/lpsa.data\n",
            "spark-3.0.1-bin-hadoop3.2/data/mllib/streaming_kmeans_data_test.txt\n",
            "spark-3.0.1-bin-hadoop3.2/data/mllib/sample_multiclass_classification_data.txt\n",
            "spark-3.0.1-bin-hadoop3.2/data/mllib/sample_isotonic_regression_libsvm_data.txt\n",
            "spark-3.0.1-bin-hadoop3.2/data/mllib/sample_svm_data.txt\n",
            "spark-3.0.1-bin-hadoop3.2/data/mllib/iris_libsvm.txt\n",
            "spark-3.0.1-bin-hadoop3.2/data/mllib/sample_lda_data.txt\n",
            "spark-3.0.1-bin-hadoop3.2/data/mllib/sample_lda_libsvm_data.txt\n",
            "spark-3.0.1-bin-hadoop3.2/data/mllib/sample_movielens_data.txt\n",
            "spark-3.0.1-bin-hadoop3.2/data/mllib/sample_libsvm_data.txt\n",
            "spark-3.0.1-bin-hadoop3.2/data/mllib/sample_binary_classification_data.txt\n",
            "spark-3.0.1-bin-hadoop3.2/data/mllib/sample_fpgrowth.txt\n",
            "spark-3.0.1-bin-hadoop3.2/data/mllib/images/\n",
            "spark-3.0.1-bin-hadoop3.2/data/mllib/images/partitioned/\n",
            "spark-3.0.1-bin-hadoop3.2/data/mllib/images/partitioned/cls=multichannel/\n",
            "spark-3.0.1-bin-hadoop3.2/data/mllib/images/partitioned/cls=multichannel/date=2018-01/\n",
            "spark-3.0.1-bin-hadoop3.2/data/mllib/images/partitioned/cls=multichannel/date=2018-01/BGRA_alpha_60.png\n",
            "spark-3.0.1-bin-hadoop3.2/data/mllib/images/partitioned/cls=multichannel/date=2018-01/BGRA.png\n",
            "spark-3.0.1-bin-hadoop3.2/data/mllib/images/partitioned/cls=multichannel/date=2018-02/\n",
            "spark-3.0.1-bin-hadoop3.2/data/mllib/images/partitioned/cls=multichannel/date=2018-02/chr30.4.184.jpg\n",
            "spark-3.0.1-bin-hadoop3.2/data/mllib/images/partitioned/cls=multichannel/date=2018-02/grayscale.jpg\n",
            "spark-3.0.1-bin-hadoop3.2/data/mllib/images/partitioned/cls=kittens/\n",
            "spark-3.0.1-bin-hadoop3.2/data/mllib/images/partitioned/cls=kittens/date=2018-01/\n",
            "spark-3.0.1-bin-hadoop3.2/data/mllib/images/partitioned/cls=kittens/date=2018-01/not-image.txt\n",
            "spark-3.0.1-bin-hadoop3.2/data/mllib/images/partitioned/cls=kittens/date=2018-01/29.5.a_b_EGDP022204.jpg\n",
            "spark-3.0.1-bin-hadoop3.2/data/mllib/images/partitioned/cls=kittens/date=2018-02/\n",
            "spark-3.0.1-bin-hadoop3.2/data/mllib/images/partitioned/cls=kittens/date=2018-02/DP153539.jpg\n",
            "spark-3.0.1-bin-hadoop3.2/data/mllib/images/partitioned/cls=kittens/date=2018-02/54893.jpg\n",
            "spark-3.0.1-bin-hadoop3.2/data/mllib/images/partitioned/cls=kittens/date=2018-02/DP802813.jpg\n",
            "spark-3.0.1-bin-hadoop3.2/data/mllib/images/origin/\n",
            "spark-3.0.1-bin-hadoop3.2/data/mllib/images/origin/multi-channel/\n",
            "spark-3.0.1-bin-hadoop3.2/data/mllib/images/origin/multi-channel/BGRA_alpha_60.png\n",
            "spark-3.0.1-bin-hadoop3.2/data/mllib/images/origin/multi-channel/chr30.4.184.jpg\n",
            "spark-3.0.1-bin-hadoop3.2/data/mllib/images/origin/multi-channel/BGRA.png\n",
            "spark-3.0.1-bin-hadoop3.2/data/mllib/images/origin/multi-channel/grayscale.jpg\n",
            "spark-3.0.1-bin-hadoop3.2/data/mllib/images/origin/license.txt\n",
            "spark-3.0.1-bin-hadoop3.2/data/mllib/images/origin/kittens/\n",
            "spark-3.0.1-bin-hadoop3.2/data/mllib/images/origin/kittens/not-image.txt\n",
            "spark-3.0.1-bin-hadoop3.2/data/mllib/images/origin/kittens/DP153539.jpg\n",
            "spark-3.0.1-bin-hadoop3.2/data/mllib/images/origin/kittens/54893.jpg\n",
            "spark-3.0.1-bin-hadoop3.2/data/mllib/images/origin/kittens/29.5.a_b_EGDP022204.jpg\n",
            "spark-3.0.1-bin-hadoop3.2/data/mllib/images/origin/kittens/DP802813.jpg\n",
            "spark-3.0.1-bin-hadoop3.2/data/mllib/images/license.txt\n",
            "spark-3.0.1-bin-hadoop3.2/data/mllib/gmm_data.txt\n",
            "spark-3.0.1-bin-hadoop3.2/data/mllib/sample_linear_regression_data.txt\n",
            "spark-3.0.1-bin-hadoop3.2/data/mllib/kmeans_data.txt\n",
            "spark-3.0.1-bin-hadoop3.2/data/mllib/pagerank_data.txt\n",
            "spark-3.0.1-bin-hadoop3.2/data/mllib/pic_data.txt\n",
            "spark-3.0.1-bin-hadoop3.2/data/mllib/sample_kmeans_data.txt\n",
            "spark-3.0.1-bin-hadoop3.2/data/mllib/als/\n",
            "spark-3.0.1-bin-hadoop3.2/data/mllib/als/sample_movielens_ratings.txt\n",
            "spark-3.0.1-bin-hadoop3.2/data/mllib/als/test.data\n",
            "spark-3.0.1-bin-hadoop3.2/data/streaming/\n",
            "spark-3.0.1-bin-hadoop3.2/data/streaming/AFINN-111.txt\n",
            "spark-3.0.1-bin-hadoop3.2/data/graphx/\n",
            "spark-3.0.1-bin-hadoop3.2/data/graphx/followers.txt\n",
            "spark-3.0.1-bin-hadoop3.2/data/graphx/users.txt\n",
            "spark-3.0.1-bin-hadoop3.2/yarn/\n",
            "spark-3.0.1-bin-hadoop3.2/yarn/spark-3.0.1-yarn-shuffle.jar\n",
            "spark-3.0.1-bin-hadoop3.2/bin/\n",
            "spark-3.0.1-bin-hadoop3.2/bin/spark-class.cmd\n",
            "spark-3.0.1-bin-hadoop3.2/bin/run-example\n",
            "spark-3.0.1-bin-hadoop3.2/bin/run-example.cmd\n",
            "spark-3.0.1-bin-hadoop3.2/bin/spark-class\n",
            "spark-3.0.1-bin-hadoop3.2/bin/spark-class2.cmd\n",
            "spark-3.0.1-bin-hadoop3.2/bin/find-spark-home\n",
            "spark-3.0.1-bin-hadoop3.2/bin/spark-submit\n",
            "spark-3.0.1-bin-hadoop3.2/bin/pyspark\n",
            "spark-3.0.1-bin-hadoop3.2/bin/find-spark-home.cmd\n",
            "spark-3.0.1-bin-hadoop3.2/bin/docker-image-tool.sh\n",
            "spark-3.0.1-bin-hadoop3.2/bin/spark-shell.cmd\n",
            "spark-3.0.1-bin-hadoop3.2/bin/spark-sql.cmd\n",
            "spark-3.0.1-bin-hadoop3.2/bin/load-spark-env.cmd\n",
            "spark-3.0.1-bin-hadoop3.2/bin/sparkR2.cmd\n",
            "spark-3.0.1-bin-hadoop3.2/bin/beeline.cmd\n",
            "spark-3.0.1-bin-hadoop3.2/bin/pyspark.cmd\n",
            "spark-3.0.1-bin-hadoop3.2/bin/spark-shell2.cmd\n",
            "spark-3.0.1-bin-hadoop3.2/bin/spark-sql2.cmd\n",
            "spark-3.0.1-bin-hadoop3.2/bin/sparkR\n",
            "spark-3.0.1-bin-hadoop3.2/bin/spark-sql\n",
            "spark-3.0.1-bin-hadoop3.2/bin/spark-shell\n",
            "spark-3.0.1-bin-hadoop3.2/bin/spark-submit.cmd\n",
            "spark-3.0.1-bin-hadoop3.2/bin/load-spark-env.sh\n",
            "spark-3.0.1-bin-hadoop3.2/bin/beeline\n",
            "spark-3.0.1-bin-hadoop3.2/bin/sparkR.cmd\n",
            "spark-3.0.1-bin-hadoop3.2/bin/pyspark2.cmd\n",
            "spark-3.0.1-bin-hadoop3.2/bin/spark-submit2.cmd\n",
            "spark-3.0.1-bin-hadoop3.2/sbin/\n",
            "spark-3.0.1-bin-hadoop3.2/sbin/stop-thriftserver.sh\n",
            "spark-3.0.1-bin-hadoop3.2/sbin/stop-slaves.sh\n",
            "spark-3.0.1-bin-hadoop3.2/sbin/spark-config.sh\n",
            "spark-3.0.1-bin-hadoop3.2/sbin/start-mesos-dispatcher.sh\n",
            "spark-3.0.1-bin-hadoop3.2/sbin/stop-mesos-dispatcher.sh\n",
            "spark-3.0.1-bin-hadoop3.2/sbin/stop-master.sh\n",
            "spark-3.0.1-bin-hadoop3.2/sbin/start-thriftserver.sh\n",
            "spark-3.0.1-bin-hadoop3.2/sbin/spark-daemons.sh\n",
            "spark-3.0.1-bin-hadoop3.2/sbin/stop-all.sh\n",
            "spark-3.0.1-bin-hadoop3.2/sbin/start-master.sh\n",
            "spark-3.0.1-bin-hadoop3.2/sbin/start-slave.sh\n",
            "spark-3.0.1-bin-hadoop3.2/sbin/stop-slave.sh\n",
            "spark-3.0.1-bin-hadoop3.2/sbin/start-slaves.sh\n",
            "spark-3.0.1-bin-hadoop3.2/sbin/start-history-server.sh\n",
            "spark-3.0.1-bin-hadoop3.2/sbin/stop-mesos-shuffle-service.sh\n",
            "spark-3.0.1-bin-hadoop3.2/sbin/stop-history-server.sh\n",
            "spark-3.0.1-bin-hadoop3.2/sbin/start-all.sh\n",
            "spark-3.0.1-bin-hadoop3.2/sbin/start-mesos-shuffle-service.sh\n",
            "spark-3.0.1-bin-hadoop3.2/sbin/slaves.sh\n",
            "spark-3.0.1-bin-hadoop3.2/sbin/spark-daemon.sh\n",
            "spark-3.0.1-bin-hadoop3.2/README.md\n",
            "spark-3.0.1-bin-hadoop3.2/licenses/\n",
            "spark-3.0.1-bin-hadoop3.2/licenses/LICENSE-zstd.txt\n",
            "spark-3.0.1-bin-hadoop3.2/licenses/LICENSE-scala.txt\n",
            "spark-3.0.1-bin-hadoop3.2/licenses/LICENSE-JTransforms.txt\n",
            "spark-3.0.1-bin-hadoop3.2/licenses/LICENSE-pyrolite.txt\n",
            "spark-3.0.1-bin-hadoop3.2/licenses/LICENSE-mustache.txt\n",
            "spark-3.0.1-bin-hadoop3.2/licenses/LICENSE-scopt.txt\n",
            "spark-3.0.1-bin-hadoop3.2/licenses/LICENSE-paranamer.txt\n",
            "spark-3.0.1-bin-hadoop3.2/licenses/LICENSE-istack-commons-runtime.txt\n",
            "spark-3.0.1-bin-hadoop3.2/licenses/LICENSE-vis-timeline.txt\n",
            "spark-3.0.1-bin-hadoop3.2/licenses/LICENSE-bootstrap.txt\n",
            "spark-3.0.1-bin-hadoop3.2/licenses/LICENSE-javax-transaction-transaction-api.txt\n",
            "spark-3.0.1-bin-hadoop3.2/licenses/LICENSE-arpack.txt\n",
            "spark-3.0.1-bin-hadoop3.2/licenses/LICENSE-xmlenc.txt\n",
            "spark-3.0.1-bin-hadoop3.2/licenses/LICENSE-zstd-jni.txt\n",
            "spark-3.0.1-bin-hadoop3.2/licenses/LICENSE-spire.txt\n",
            "spark-3.0.1-bin-hadoop3.2/licenses/LICENSE-cloudpickle.txt\n",
            "spark-3.0.1-bin-hadoop3.2/licenses/LICENSE-automaton.txt\n",
            "spark-3.0.1-bin-hadoop3.2/licenses/LICENSE-sbt-launch-lib.txt\n",
            "spark-3.0.1-bin-hadoop3.2/licenses/LICENSE-slf4j.txt\n",
            "spark-3.0.1-bin-hadoop3.2/licenses/LICENSE-jquery.txt\n",
            "spark-3.0.1-bin-hadoop3.2/licenses/LICENSE-jakarta.activation-api.txt\n",
            "spark-3.0.1-bin-hadoop3.2/licenses/LICENSE-matchMedia-polyfill.txt\n",
            "spark-3.0.1-bin-hadoop3.2/licenses/LICENSE-kryo.txt\n",
            "spark-3.0.1-bin-hadoop3.2/licenses/LICENSE-JLargeArrays.txt\n",
            "spark-3.0.1-bin-hadoop3.2/licenses/LICENSE-netlib.txt\n",
            "spark-3.0.1-bin-hadoop3.2/licenses/LICENSE-jakarta.xml.bind-api.txt\n",
            "spark-3.0.1-bin-hadoop3.2/licenses/LICENSE-graphlib-dot.txt\n",
            "spark-3.0.1-bin-hadoop3.2/licenses/LICENSE-jakarta-ws-rs-api\n",
            "spark-3.0.1-bin-hadoop3.2/licenses/LICENSE-f2j.txt\n",
            "spark-3.0.1-bin-hadoop3.2/licenses/LICENSE-d3.min.js.txt\n",
            "spark-3.0.1-bin-hadoop3.2/licenses/LICENSE-javolution.txt\n",
            "spark-3.0.1-bin-hadoop3.2/licenses/LICENSE-modernizr.txt\n",
            "spark-3.0.1-bin-hadoop3.2/licenses/LICENSE-join.txt\n",
            "spark-3.0.1-bin-hadoop3.2/licenses/LICENSE-py4j.txt\n",
            "spark-3.0.1-bin-hadoop3.2/licenses/LICENSE-javassist.html\n",
            "spark-3.0.1-bin-hadoop3.2/licenses/LICENSE-respond.txt\n",
            "spark-3.0.1-bin-hadoop3.2/licenses/LICENSE-jakarta-annotation-api\n",
            "spark-3.0.1-bin-hadoop3.2/licenses/LICENSE-datatables.txt\n",
            "spark-3.0.1-bin-hadoop3.2/licenses/LICENSE-re2j.txt\n",
            "spark-3.0.1-bin-hadoop3.2/licenses/LICENSE-janino.txt\n",
            "spark-3.0.1-bin-hadoop3.2/licenses/LICENSE-CC0.txt\n",
            "spark-3.0.1-bin-hadoop3.2/licenses/LICENSE-json-formatter.txt\n",
            "spark-3.0.1-bin-hadoop3.2/licenses/LICENSE-heapq.txt\n",
            "spark-3.0.1-bin-hadoop3.2/licenses/LICENSE-jodd.txt\n",
            "spark-3.0.1-bin-hadoop3.2/licenses/LICENSE-jsp-api.txt\n",
            "spark-3.0.1-bin-hadoop3.2/licenses/LICENSE-reflectasm.txt\n",
            "spark-3.0.1-bin-hadoop3.2/licenses/LICENSE-jline.txt\n",
            "spark-3.0.1-bin-hadoop3.2/licenses/LICENSE-pmml-model.txt\n",
            "spark-3.0.1-bin-hadoop3.2/licenses/LICENSE-machinist.txt\n",
            "spark-3.0.1-bin-hadoop3.2/licenses/LICENSE-sorttable.js.txt\n",
            "spark-3.0.1-bin-hadoop3.2/licenses/LICENSE-leveldbjni.txt\n",
            "spark-3.0.1-bin-hadoop3.2/licenses/LICENSE-protobuf.txt\n",
            "spark-3.0.1-bin-hadoop3.2/licenses/LICENSE-dagre-d3.txt\n",
            "spark-3.0.1-bin-hadoop3.2/licenses/LICENSE-jaxb-runtime.txt\n",
            "spark-3.0.1-bin-hadoop3.2/licenses/LICENSE-antlr.txt\n",
            "spark-3.0.1-bin-hadoop3.2/licenses/LICENSE-minlog.txt\n",
            "spark-3.0.1-bin-hadoop3.2/licenses/LICENSE-AnchorJS.txt\n",
            "spark-3.0.1-bin-hadoop3.2/licenses/LICENSE-dnsjava.txt\n",
            "spark-3.0.1-bin-hadoop3.2/LICENSE\n",
            "spark-3.0.1-bin-hadoop3.2/kubernetes/\n",
            "spark-3.0.1-bin-hadoop3.2/kubernetes/dockerfiles/\n",
            "spark-3.0.1-bin-hadoop3.2/kubernetes/dockerfiles/spark/\n",
            "spark-3.0.1-bin-hadoop3.2/kubernetes/dockerfiles/spark/entrypoint.sh\n",
            "spark-3.0.1-bin-hadoop3.2/kubernetes/dockerfiles/spark/bindings/\n",
            "spark-3.0.1-bin-hadoop3.2/kubernetes/dockerfiles/spark/bindings/R/\n",
            "spark-3.0.1-bin-hadoop3.2/kubernetes/dockerfiles/spark/bindings/R/Dockerfile\n",
            "spark-3.0.1-bin-hadoop3.2/kubernetes/dockerfiles/spark/bindings/python/\n",
            "spark-3.0.1-bin-hadoop3.2/kubernetes/dockerfiles/spark/bindings/python/Dockerfile\n",
            "spark-3.0.1-bin-hadoop3.2/kubernetes/dockerfiles/spark/Dockerfile\n",
            "spark-3.0.1-bin-hadoop3.2/kubernetes/tests/\n",
            "spark-3.0.1-bin-hadoop3.2/kubernetes/tests/pyfiles.py\n",
            "spark-3.0.1-bin-hadoop3.2/kubernetes/tests/worker_memory_check.py\n",
            "spark-3.0.1-bin-hadoop3.2/kubernetes/tests/py_container_checks.py\n",
            "spark-3.0.1-bin-hadoop3.2/R/\n",
            "spark-3.0.1-bin-hadoop3.2/R/lib/\n",
            "spark-3.0.1-bin-hadoop3.2/R/lib/sparkr.zip\n",
            "spark-3.0.1-bin-hadoop3.2/R/lib/SparkR/\n",
            "spark-3.0.1-bin-hadoop3.2/R/lib/SparkR/html/\n",
            "spark-3.0.1-bin-hadoop3.2/R/lib/SparkR/html/00Index.html\n",
            "spark-3.0.1-bin-hadoop3.2/R/lib/SparkR/html/R.css\n",
            "spark-3.0.1-bin-hadoop3.2/R/lib/SparkR/help/\n",
            "spark-3.0.1-bin-hadoop3.2/R/lib/SparkR/help/aliases.rds\n",
            "spark-3.0.1-bin-hadoop3.2/R/lib/SparkR/help/AnIndex\n",
            "spark-3.0.1-bin-hadoop3.2/R/lib/SparkR/help/paths.rds\n",
            "spark-3.0.1-bin-hadoop3.2/R/lib/SparkR/help/SparkR.rdx\n",
            "spark-3.0.1-bin-hadoop3.2/R/lib/SparkR/help/SparkR.rdb\n",
            "spark-3.0.1-bin-hadoop3.2/R/lib/SparkR/DESCRIPTION\n",
            "spark-3.0.1-bin-hadoop3.2/R/lib/SparkR/Meta/\n",
            "spark-3.0.1-bin-hadoop3.2/R/lib/SparkR/Meta/features.rds\n",
            "spark-3.0.1-bin-hadoop3.2/R/lib/SparkR/Meta/nsInfo.rds\n",
            "spark-3.0.1-bin-hadoop3.2/R/lib/SparkR/Meta/links.rds\n",
            "spark-3.0.1-bin-hadoop3.2/R/lib/SparkR/Meta/Rd.rds\n",
            "spark-3.0.1-bin-hadoop3.2/R/lib/SparkR/Meta/package.rds\n",
            "spark-3.0.1-bin-hadoop3.2/R/lib/SparkR/Meta/hsearch.rds\n",
            "spark-3.0.1-bin-hadoop3.2/R/lib/SparkR/INDEX\n",
            "spark-3.0.1-bin-hadoop3.2/R/lib/SparkR/profile/\n",
            "spark-3.0.1-bin-hadoop3.2/R/lib/SparkR/profile/general.R\n",
            "spark-3.0.1-bin-hadoop3.2/R/lib/SparkR/profile/shell.R\n",
            "spark-3.0.1-bin-hadoop3.2/R/lib/SparkR/R/\n",
            "spark-3.0.1-bin-hadoop3.2/R/lib/SparkR/R/SparkR\n",
            "spark-3.0.1-bin-hadoop3.2/R/lib/SparkR/R/SparkR.rdx\n",
            "spark-3.0.1-bin-hadoop3.2/R/lib/SparkR/R/SparkR.rdb\n",
            "spark-3.0.1-bin-hadoop3.2/R/lib/SparkR/worker/\n",
            "spark-3.0.1-bin-hadoop3.2/R/lib/SparkR/worker/worker.R\n",
            "spark-3.0.1-bin-hadoop3.2/R/lib/SparkR/worker/daemon.R\n",
            "spark-3.0.1-bin-hadoop3.2/R/lib/SparkR/NAMESPACE\n",
            "spark-3.0.1-bin-hadoop3.2/R/lib/SparkR/tests/\n",
            "spark-3.0.1-bin-hadoop3.2/R/lib/SparkR/tests/testthat/\n",
            "spark-3.0.1-bin-hadoop3.2/R/lib/SparkR/tests/testthat/test_basic.R\n",
            "spark-3.0.1-bin-hadoop3.2/NOTICE\n",
            "spark-3.0.1-bin-hadoop3.2/jars/\n",
            "spark-3.0.1-bin-hadoop3.2/jars/pyrolite-4.30.jar\n",
            "spark-3.0.1-bin-hadoop3.2/jars/hadoop-yarn-common-3.2.0.jar\n",
            "spark-3.0.1-bin-hadoop3.2/jars/parquet-hadoop-1.10.1.jar\n",
            "spark-3.0.1-bin-hadoop3.2/jars/hive-shims-2.3.7.jar\n",
            "spark-3.0.1-bin-hadoop3.2/jars/jackson-databind-2.10.0.jar\n",
            "spark-3.0.1-bin-hadoop3.2/jars/spire_2.12-0.17.0-M1.jar\n",
            "spark-3.0.1-bin-hadoop3.2/jars/jul-to-slf4j-1.7.30.jar\n",
            "spark-3.0.1-bin-hadoop3.2/jars/nimbus-jose-jwt-4.41.1.jar\n",
            "spark-3.0.1-bin-hadoop3.2/jars/stax2-api-3.1.4.jar\n",
            "spark-3.0.1-bin-hadoop3.2/jars/json4s-ast_2.12-3.6.6.jar\n",
            "spark-3.0.1-bin-hadoop3.2/jars/jersey-media-jaxb-2.30.jar\n",
            "spark-3.0.1-bin-hadoop3.2/jars/commons-configuration2-2.1.1.jar\n",
            "spark-3.0.1-bin-hadoop3.2/jars/xbean-asm7-shaded-4.15.jar\n",
            "spark-3.0.1-bin-hadoop3.2/jars/spark-catalyst_2.12-3.0.1.jar\n",
            "spark-3.0.1-bin-hadoop3.2/jars/commons-logging-1.1.3.jar\n",
            "spark-3.0.1-bin-hadoop3.2/jars/curator-recipes-2.13.0.jar\n",
            "spark-3.0.1-bin-hadoop3.2/jars/RoaringBitmap-0.7.45.jar\n",
            "spark-3.0.1-bin-hadoop3.2/jars/commons-daemon-1.0.13.jar\n",
            "spark-3.0.1-bin-hadoop3.2/jars/jakarta.inject-2.6.1.jar\n",
            "spark-3.0.1-bin-hadoop3.2/jars/flatbuffers-java-1.9.0.jar\n",
            "spark-3.0.1-bin-hadoop3.2/jars/guice-servlet-4.0.jar\n",
            "spark-3.0.1-bin-hadoop3.2/jars/kubernetes-model-common-4.9.2.jar\n",
            "spark-3.0.1-bin-hadoop3.2/jars/json-1.8.jar\n",
            "spark-3.0.1-bin-hadoop3.2/jars/jaxb-runtime-2.3.2.jar\n",
            "spark-3.0.1-bin-hadoop3.2/jars/mesos-1.4.0-shaded-protobuf.jar\n",
            "spark-3.0.1-bin-hadoop3.2/jars/orc-core-1.5.10.jar\n",
            "spark-3.0.1-bin-hadoop3.2/jars/chill_2.12-0.9.5.jar\n",
            "spark-3.0.1-bin-hadoop3.2/jars/leveldbjni-all-1.8.jar\n",
            "spark-3.0.1-bin-hadoop3.2/jars/kryo-shaded-4.0.2.jar\n",
            "spark-3.0.1-bin-hadoop3.2/jars/curator-framework-2.13.0.jar\n",
            "spark-3.0.1-bin-hadoop3.2/jars/jackson-annotations-2.10.0.jar\n",
            "spark-3.0.1-bin-hadoop3.2/jars/hk2-api-2.6.1.jar\n",
            "spark-3.0.1-bin-hadoop3.2/jars/hk2-locator-2.6.1.jar\n",
            "spark-3.0.1-bin-hadoop3.2/jars/commons-beanutils-1.9.4.jar\n",
            "spark-3.0.1-bin-hadoop3.2/jars/osgi-resource-locator-1.0.3.jar\n",
            "spark-3.0.1-bin-hadoop3.2/jars/antlr4-runtime-4.7.1.jar\n",
            "spark-3.0.1-bin-hadoop3.2/jars/jersey-client-2.30.jar\n",
            "spark-3.0.1-bin-hadoop3.2/jars/json4s-scalap_2.12-3.6.6.jar\n",
            "spark-3.0.1-bin-hadoop3.2/jars/accessors-smart-1.2.jar\n",
            "spark-3.0.1-bin-hadoop3.2/jars/joda-time-2.10.5.jar\n",
            "spark-3.0.1-bin-hadoop3.2/jars/okio-1.15.0.jar\n",
            "spark-3.0.1-bin-hadoop3.2/jars/libthrift-0.12.0.jar\n",
            "spark-3.0.1-bin-hadoop3.2/jars/gson-2.2.4.jar\n",
            "spark-3.0.1-bin-hadoop3.2/jars/hadoop-hdfs-client-3.2.0.jar\n",
            "spark-3.0.1-bin-hadoop3.2/jars/hadoop-mapreduce-client-core-3.2.0.jar\n",
            "spark-3.0.1-bin-hadoop3.2/jars/guice-4.0.jar\n",
            "spark-3.0.1-bin-hadoop3.2/jars/hadoop-yarn-client-3.2.0.jar\n",
            "spark-3.0.1-bin-hadoop3.2/jars/jta-1.1.jar\n",
            "spark-3.0.1-bin-hadoop3.2/jars/parquet-jackson-1.10.1.jar\n",
            "spark-3.0.1-bin-hadoop3.2/jars/super-csv-2.2.0.jar\n",
            "spark-3.0.1-bin-hadoop3.2/jars/commons-httpclient-3.1.jar\n",
            "spark-3.0.1-bin-hadoop3.2/jars/woodstox-core-5.0.3.jar\n",
            "spark-3.0.1-bin-hadoop3.2/jars/javax.jdo-3.2.0-m3.jar\n",
            "spark-3.0.1-bin-hadoop3.2/jars/kerb-admin-1.0.1.jar\n",
            "spark-3.0.1-bin-hadoop3.2/jars/hadoop-client-3.2.0.jar\n",
            "spark-3.0.1-bin-hadoop3.2/jars/httpclient-4.5.6.jar\n",
            "spark-3.0.1-bin-hadoop3.2/jars/datanucleus-api-jdo-4.2.4.jar\n",
            "spark-3.0.1-bin-hadoop3.2/jars/aopalliance-1.0.jar\n",
            "spark-3.0.1-bin-hadoop3.2/jars/slf4j-api-1.7.30.jar\n",
            "spark-3.0.1-bin-hadoop3.2/jars/univocity-parsers-2.9.0.jar\n",
            "spark-3.0.1-bin-hadoop3.2/jars/scala-compiler-2.12.10.jar\n",
            "spark-3.0.1-bin-hadoop3.2/jars/transaction-api-1.1.jar\n",
            "spark-3.0.1-bin-hadoop3.2/jars/hive-serde-2.3.7.jar\n",
            "spark-3.0.1-bin-hadoop3.2/jars/JLargeArrays-1.5.jar\n",
            "spark-3.0.1-bin-hadoop3.2/jars/libfb303-0.9.3.jar\n",
            "spark-3.0.1-bin-hadoop3.2/jars/hadoop-auth-3.2.0.jar\n",
            "spark-3.0.1-bin-hadoop3.2/jars/jakarta.ws.rs-api-2.1.6.jar\n",
            "spark-3.0.1-bin-hadoop3.2/jars/hive-shims-0.23-2.3.7.jar\n",
            "spark-3.0.1-bin-hadoop3.2/jars/dnsjava-2.1.7.jar\n",
            "spark-3.0.1-bin-hadoop3.2/jars/snappy-java-1.1.7.5.jar\n",
            "spark-3.0.1-bin-hadoop3.2/jars/compress-lzf-1.0.3.jar\n",
            "spark-3.0.1-bin-hadoop3.2/jars/commons-io-2.4.jar\n",
            "spark-3.0.1-bin-hadoop3.2/jars/snakeyaml-1.24.jar\n",
            "spark-3.0.1-bin-hadoop3.2/jars/spark-hive-thriftserver_2.12-3.0.1.jar\n",
            "spark-3.0.1-bin-hadoop3.2/jars/breeze-macros_2.12-1.0.jar\n",
            "spark-3.0.1-bin-hadoop3.2/jars/metrics-json-4.1.1.jar\n",
            "spark-3.0.1-bin-hadoop3.2/jars/hadoop-mapreduce-client-common-3.2.0.jar\n",
            "spark-3.0.1-bin-hadoop3.2/jars/okhttp-2.7.5.jar\n",
            "spark-3.0.1-bin-hadoop3.2/jars/hk2-utils-2.6.1.jar\n",
            "spark-3.0.1-bin-hadoop3.2/jars/bonecp-0.8.0.RELEASE.jar\n",
            "spark-3.0.1-bin-hadoop3.2/jars/automaton-1.11-8.jar\n",
            "spark-3.0.1-bin-hadoop3.2/jars/avro-ipc-1.8.2.jar\n",
            "spark-3.0.1-bin-hadoop3.2/jars/re2j-1.1.jar\n",
            "spark-3.0.1-bin-hadoop3.2/jars/spark-core_2.12-3.0.1.jar\n",
            "spark-3.0.1-bin-hadoop3.2/jars/okhttp-3.12.6.jar\n",
            "spark-3.0.1-bin-hadoop3.2/jars/kerb-client-1.0.1.jar\n",
            "spark-3.0.1-bin-hadoop3.2/jars/jackson-datatype-jsr310-2.10.3.jar\n",
            "spark-3.0.1-bin-hadoop3.2/jars/metrics-jvm-4.1.1.jar\n",
            "spark-3.0.1-bin-hadoop3.2/jars/avro-mapred-1.8.2-hadoop2.jar\n",
            "spark-3.0.1-bin-hadoop3.2/jars/guava-14.0.1.jar\n",
            "spark-3.0.1-bin-hadoop3.2/jars/algebra_2.12-2.0.0-M2.jar\n",
            "spark-3.0.1-bin-hadoop3.2/jars/protobuf-java-2.5.0.jar\n",
            "spark-3.0.1-bin-hadoop3.2/jars/stream-2.9.6.jar\n",
            "spark-3.0.1-bin-hadoop3.2/jars/spark-tags_2.12-3.0.1.jar\n",
            "spark-3.0.1-bin-hadoop3.2/jars/metrics-core-4.1.1.jar\n",
            "spark-3.0.1-bin-hadoop3.2/jars/kerb-server-1.0.1.jar\n",
            "spark-3.0.1-bin-hadoop3.2/jars/hadoop-annotations-3.2.0.jar\n",
            "spark-3.0.1-bin-hadoop3.2/jars/stax-api-1.0.1.jar\n",
            "spark-3.0.1-bin-hadoop3.2/jars/jackson-module-scala_2.12-2.10.0.jar\n",
            "spark-3.0.1-bin-hadoop3.2/jars/commons-cli-1.2.jar\n",
            "spark-3.0.1-bin-hadoop3.2/jars/spark-kvstore_2.12-3.0.1.jar\n",
            "spark-3.0.1-bin-hadoop3.2/jars/aopalliance-repackaged-2.6.1.jar\n",
            "spark-3.0.1-bin-hadoop3.2/jars/arrow-vector-0.15.1.jar\n",
            "spark-3.0.1-bin-hadoop3.2/jars/datanucleus-core-4.1.17.jar\n",
            "spark-3.0.1-bin-hadoop3.2/jars/spark-network-shuffle_2.12-3.0.1.jar\n",
            "spark-3.0.1-bin-hadoop3.2/jars/lz4-java-1.7.1.jar\n",
            "spark-3.0.1-bin-hadoop3.2/jars/hadoop-yarn-api-3.2.0.jar\n",
            "spark-3.0.1-bin-hadoop3.2/jars/hive-jdbc-2.3.7.jar\n",
            "spark-3.0.1-bin-hadoop3.2/jars/janino-3.0.16.jar\n",
            "spark-3.0.1-bin-hadoop3.2/jars/ivy-2.4.0.jar\n",
            "spark-3.0.1-bin-hadoop3.2/jars/commons-lang3-3.9.jar\n",
            "spark-3.0.1-bin-hadoop3.2/jars/arpack_combined_all-0.1.jar\n",
            "spark-3.0.1-bin-hadoop3.2/jars/spark-hive_2.12-3.0.1.jar\n",
            "spark-3.0.1-bin-hadoop3.2/jars/kerby-asn1-1.0.1.jar\n",
            "spark-3.0.1-bin-hadoop3.2/jars/derby-10.12.1.1.jar\n",
            "spark-3.0.1-bin-hadoop3.2/jars/commons-text-1.6.jar\n",
            "spark-3.0.1-bin-hadoop3.2/jars/macro-compat_2.12-1.1.1.jar\n",
            "spark-3.0.1-bin-hadoop3.2/jars/hive-beeline-2.3.7.jar\n",
            "spark-3.0.1-bin-hadoop3.2/jars/slf4j-log4j12-1.7.30.jar\n",
            "spark-3.0.1-bin-hadoop3.2/jars/scala-collection-compat_2.12-2.1.1.jar\n",
            "spark-3.0.1-bin-hadoop3.2/jars/hive-llap-common-2.3.7.jar\n",
            "spark-3.0.1-bin-hadoop3.2/jars/jakarta.xml.bind-api-2.3.2.jar\n",
            "spark-3.0.1-bin-hadoop3.2/jars/hive-shims-common-2.3.7.jar\n",
            "spark-3.0.1-bin-hadoop3.2/jars/hadoop-yarn-server-common-3.2.0.jar\n",
            "spark-3.0.1-bin-hadoop3.2/jars/generex-1.0.2.jar\n",
            "spark-3.0.1-bin-hadoop3.2/jars/objenesis-2.5.1.jar\n",
            "spark-3.0.1-bin-hadoop3.2/jars/commons-math3-3.4.1.jar\n",
            "spark-3.0.1-bin-hadoop3.2/jars/metrics-graphite-4.1.1.jar\n",
            "spark-3.0.1-bin-hadoop3.2/jars/logging-interceptor-3.12.6.jar\n",
            "spark-3.0.1-bin-hadoop3.2/jars/commons-codec-1.10.jar\n",
            "spark-3.0.1-bin-hadoop3.2/jars/HikariCP-2.5.1.jar\n",
            "spark-3.0.1-bin-hadoop3.2/jars/jackson-core-asl-1.9.13.jar\n",
            "spark-3.0.1-bin-hadoop3.2/jars/kerb-core-1.0.1.jar\n",
            "spark-3.0.1-bin-hadoop3.2/jars/core-1.1.2.jar\n",
            "spark-3.0.1-bin-hadoop3.2/jars/spark-tags_2.12-3.0.1-tests.jar\n",
            "spark-3.0.1-bin-hadoop3.2/jars/arrow-format-0.15.1.jar\n",
            "spark-3.0.1-bin-hadoop3.2/jars/orc-shims-1.5.10.jar\n",
            "spark-3.0.1-bin-hadoop3.2/jars/jdo-api-3.0.1.jar\n",
            "spark-3.0.1-bin-hadoop3.2/jars/log4j-1.2.17.jar\n",
            "spark-3.0.1-bin-hadoop3.2/jars/paranamer-2.8.jar\n",
            "spark-3.0.1-bin-hadoop3.2/jars/jodd-core-3.5.2.jar\n",
            "spark-3.0.1-bin-hadoop3.2/jars/kubernetes-model-4.9.2.jar\n",
            "spark-3.0.1-bin-hadoop3.2/jars/kerb-crypto-1.0.1.jar\n",
            "spark-3.0.1-bin-hadoop3.2/jars/spire-util_2.12-0.17.0-M1.jar\n",
            "spark-3.0.1-bin-hadoop3.2/jars/htrace-core4-4.1.0-incubating.jar\n",
            "spark-3.0.1-bin-hadoop3.2/jars/jcl-over-slf4j-1.7.30.jar\n",
            "spark-3.0.1-bin-hadoop3.2/jars/shapeless_2.12-2.3.3.jar\n",
            "spark-3.0.1-bin-hadoop3.2/jars/hive-metastore-2.3.7.jar\n",
            "spark-3.0.1-bin-hadoop3.2/jars/parquet-common-1.10.1.jar\n",
            "spark-3.0.1-bin-hadoop3.2/jars/zstd-jni-1.4.4-3.jar\n",
            "spark-3.0.1-bin-hadoop3.2/jars/hive-vector-code-gen-2.3.7.jar\n",
            "spark-3.0.1-bin-hadoop3.2/jars/hadoop-mapreduce-client-jobclient-3.2.0.jar\n",
            "spark-3.0.1-bin-hadoop3.2/jars/jakarta.validation-api-2.0.2.jar\n",
            "spark-3.0.1-bin-hadoop3.2/jars/jersey-container-servlet-core-2.30.jar\n",
            "spark-3.0.1-bin-hadoop3.2/jars/scala-parser-combinators_2.12-1.1.2.jar\n",
            "spark-3.0.1-bin-hadoop3.2/jars/javassist-3.25.0-GA.jar\n",
            "spark-3.0.1-bin-hadoop3.2/jars/hadoop-yarn-registry-3.2.0.jar\n",
            "spark-3.0.1-bin-hadoop3.2/jars/commons-lang-2.6.jar\n",
            "spark-3.0.1-bin-hadoop3.2/jars/hive-shims-scheduler-2.3.7.jar\n",
            "spark-3.0.1-bin-hadoop3.2/jars/spire-macros_2.12-0.17.0-M1.jar\n",
            "spark-3.0.1-bin-hadoop3.2/jars/parquet-format-2.4.0.jar\n",
            "spark-3.0.1-bin-hadoop3.2/jars/hadoop-common-3.2.0.jar\n",
            "spark-3.0.1-bin-hadoop3.2/jars/commons-compiler-3.0.16.jar\n",
            "spark-3.0.1-bin-hadoop3.2/jars/opencsv-2.3.jar\n",
            "spark-3.0.1-bin-hadoop3.2/jars/jakarta.annotation-api-1.3.5.jar\n",
            "spark-3.0.1-bin-hadoop3.2/jars/jpam-1.1.jar\n",
            "spark-3.0.1-bin-hadoop3.2/jars/kerby-pkix-1.0.1.jar\n",
            "spark-3.0.1-bin-hadoop3.2/jars/ehcache-3.3.1.jar\n",
            "spark-3.0.1-bin-hadoop3.2/jars/py4j-0.10.9.jar\n",
            "spark-3.0.1-bin-hadoop3.2/jars/istack-commons-runtime-3.0.8.jar\n",
            "spark-3.0.1-bin-hadoop3.2/jars/spire-platform_2.12-0.17.0-M1.jar\n",
            "spark-3.0.1-bin-hadoop3.2/jars/datanucleus-rdbms-4.1.19.jar\n",
            "spark-3.0.1-bin-hadoop3.2/jars/spark-repl_2.12-3.0.1.jar\n",
            "spark-3.0.1-bin-hadoop3.2/jars/spark-mesos_2.12-3.0.1.jar\n",
            "spark-3.0.1-bin-hadoop3.2/jars/json4s-jackson_2.12-3.6.6.jar\n",
            "spark-3.0.1-bin-hadoop3.2/jars/jackson-module-paranamer-2.10.0.jar\n",
            "spark-3.0.1-bin-hadoop3.2/jars/hive-cli-2.3.7.jar\n",
            "spark-3.0.1-bin-hadoop3.2/jars/jackson-jaxrs-base-2.9.5.jar\n",
            "spark-3.0.1-bin-hadoop3.2/jars/javax.inject-1.jar\n",
            "spark-3.0.1-bin-hadoop3.2/jars/jersey-container-servlet-2.30.jar\n",
            "spark-3.0.1-bin-hadoop3.2/jars/jersey-common-2.30.jar\n",
            "spark-3.0.1-bin-hadoop3.2/jars/commons-pool-1.5.4.jar\n",
            "spark-3.0.1-bin-hadoop3.2/jars/shims-0.7.45.jar\n",
            "spark-3.0.1-bin-hadoop3.2/jars/jackson-core-2.10.0.jar\n",
            "spark-3.0.1-bin-hadoop3.2/jars/jline-2.14.6.jar\n",
            "spark-3.0.1-bin-hadoop3.2/jars/kerb-identity-1.0.1.jar\n",
            "spark-3.0.1-bin-hadoop3.2/jars/jsp-api-2.1.jar\n",
            "spark-3.0.1-bin-hadoop3.2/jars/jakarta.activation-api-1.2.1.jar\n",
            "spark-3.0.1-bin-hadoop3.2/jars/httpcore-4.4.12.jar\n",
            "spark-3.0.1-bin-hadoop3.2/jars/ST4-4.0.4.jar\n",
            "spark-3.0.1-bin-hadoop3.2/jars/metrics-jmx-4.1.1.jar\n",
            "spark-3.0.1-bin-hadoop3.2/jars/kerby-xdr-1.0.1.jar\n",
            "spark-3.0.1-bin-hadoop3.2/jars/jackson-module-jaxb-annotations-2.10.0.jar\n",
            "spark-3.0.1-bin-hadoop3.2/jars/jersey-hk2-2.30.jar\n",
            "spark-3.0.1-bin-hadoop3.2/jars/orc-mapreduce-1.5.10.jar\n",
            "spark-3.0.1-bin-hadoop3.2/jars/jersey-server-2.30.jar\n",
            "spark-3.0.1-bin-hadoop3.2/jars/JTransforms-3.1.jar\n",
            "spark-3.0.1-bin-hadoop3.2/jars/javax.servlet-api-3.1.0.jar\n",
            "spark-3.0.1-bin-hadoop3.2/jars/spark-graphx_2.12-3.0.1.jar\n",
            "spark-3.0.1-bin-hadoop3.2/jars/spark-unsafe_2.12-3.0.1.jar\n",
            "spark-3.0.1-bin-hadoop3.2/jars/arrow-memory-0.15.1.jar\n",
            "spark-3.0.1-bin-hadoop3.2/jars/spark-sketch_2.12-3.0.1.jar\n",
            "spark-3.0.1-bin-hadoop3.2/jars/hive-exec-2.3.7-core.jar\n",
            "spark-3.0.1-bin-hadoop3.2/jars/machinist_2.12-0.6.8.jar\n",
            "spark-3.0.1-bin-hadoop3.2/jars/antlr-runtime-3.5.2.jar\n",
            "spark-3.0.1-bin-hadoop3.2/jars/spark-streaming_2.12-3.0.1.jar\n",
            "spark-3.0.1-bin-hadoop3.2/jars/commons-net-3.1.jar\n",
            "spark-3.0.1-bin-hadoop3.2/jars/audience-annotations-0.5.0.jar\n",
            "spark-3.0.1-bin-hadoop3.2/jars/velocity-1.5.jar\n",
            "spark-3.0.1-bin-hadoop3.2/jars/curator-client-2.13.0.jar\n",
            "spark-3.0.1-bin-hadoop3.2/jars/kerby-config-1.0.1.jar\n",
            "spark-3.0.1-bin-hadoop3.2/jars/hive-storage-api-2.7.1.jar\n",
            "spark-3.0.1-bin-hadoop3.2/jars/kerb-common-1.0.1.jar\n",
            "spark-3.0.1-bin-hadoop3.2/jars/commons-compress-1.8.1.jar\n",
            "spark-3.0.1-bin-hadoop3.2/jars/breeze_2.12-1.0.jar\n",
            "spark-3.0.1-bin-hadoop3.2/jars/netty-all-4.1.47.Final.jar\n",
            "spark-3.0.1-bin-hadoop3.2/jars/zjsonpatch-0.3.0.jar\n",
            "spark-3.0.1-bin-hadoop3.2/jars/chill-java-0.9.5.jar\n",
            "spark-3.0.1-bin-hadoop3.2/jars/activation-1.1.1.jar\n",
            "spark-3.0.1-bin-hadoop3.2/jars/spark-mllib_2.12-3.0.1.jar\n",
            "spark-3.0.1-bin-hadoop3.2/jars/dropwizard-metrics-hadoop-metrics2-reporter-0.1.2.jar\n",
            "spark-3.0.1-bin-hadoop3.2/jars/spark-launcher_2.12-3.0.1.jar\n",
            "spark-3.0.1-bin-hadoop3.2/jars/spark-network-common_2.12-3.0.1.jar\n",
            "spark-3.0.1-bin-hadoop3.2/jars/kerby-util-1.0.1.jar\n",
            "spark-3.0.1-bin-hadoop3.2/jars/hadoop-yarn-server-web-proxy-3.2.0.jar\n",
            "spark-3.0.1-bin-hadoop3.2/jars/jcip-annotations-1.0-1.jar\n",
            "spark-3.0.1-bin-hadoop3.2/jars/jackson-mapper-asl-1.9.13.jar\n",
            "spark-3.0.1-bin-hadoop3.2/jars/geronimo-jcache_1.0_spec-1.0-alpha-1.jar\n",
            "spark-3.0.1-bin-hadoop3.2/jars/token-provider-1.0.1.jar\n",
            "spark-3.0.1-bin-hadoop3.2/jars/oro-2.0.8.jar\n",
            "spark-3.0.1-bin-hadoop3.2/jars/jackson-jaxrs-json-provider-2.9.5.jar\n",
            "spark-3.0.1-bin-hadoop3.2/jars/kubernetes-client-4.9.2.jar\n",
            "spark-3.0.1-bin-hadoop3.2/jars/kerb-simplekdc-1.0.1.jar\n",
            "spark-3.0.1-bin-hadoop3.2/jars/jsr305-3.0.0.jar\n",
            "spark-3.0.1-bin-hadoop3.2/jars/jaxb-api-2.2.11.jar\n",
            "spark-3.0.1-bin-hadoop3.2/jars/spark-yarn_2.12-3.0.1.jar\n",
            "spark-3.0.1-bin-hadoop3.2/jars/spark-mllib-local_2.12-3.0.1.jar\n",
            "spark-3.0.1-bin-hadoop3.2/jars/json4s-core_2.12-3.6.6.jar\n",
            "spark-3.0.1-bin-hadoop3.2/jars/xz-1.5.jar\n",
            "spark-3.0.1-bin-hadoop3.2/jars/zookeeper-3.4.14.jar\n",
            "spark-3.0.1-bin-hadoop3.2/jars/threeten-extra-1.5.0.jar\n",
            "spark-3.0.1-bin-hadoop3.2/jars/parquet-column-1.10.1.jar\n",
            "spark-3.0.1-bin-hadoop3.2/jars/kerb-util-1.0.1.jar\n",
            "spark-3.0.1-bin-hadoop3.2/jars/spark-sql_2.12-3.0.1.jar\n",
            "spark-3.0.1-bin-hadoop3.2/jars/commons-crypto-1.0.0.jar\n",
            "spark-3.0.1-bin-hadoop3.2/jars/javolution-5.5.1.jar\n",
            "spark-3.0.1-bin-hadoop3.2/jars/aircompressor-0.10.jar\n",
            "spark-3.0.1-bin-hadoop3.2/jars/scala-library-2.12.10.jar\n",
            "spark-3.0.1-bin-hadoop3.2/jars/hive-common-2.3.7.jar\n",
            "spark-3.0.1-bin-hadoop3.2/jars/json-smart-2.3.jar\n",
            "spark-3.0.1-bin-hadoop3.2/jars/commons-dbcp-1.4.jar\n",
            "spark-3.0.1-bin-hadoop3.2/jars/parquet-encoding-1.10.1.jar\n",
            "spark-3.0.1-bin-hadoop3.2/jars/commons-collections-3.2.2.jar\n",
            "spark-3.0.1-bin-hadoop3.2/jars/scala-xml_2.12-1.2.0.jar\n",
            "spark-3.0.1-bin-hadoop3.2/jars/jackson-dataformat-yaml-2.10.0.jar\n",
            "spark-3.0.1-bin-hadoop3.2/jars/cats-kernel_2.12-2.0.0-M4.jar\n",
            "spark-3.0.1-bin-hadoop3.2/jars/scala-reflect-2.12.10.jar\n",
            "spark-3.0.1-bin-hadoop3.2/jars/avro-1.8.2.jar\n",
            "spark-3.0.1-bin-hadoop3.2/jars/minlog-1.3.0.jar\n",
            "spark-3.0.1-bin-hadoop3.2/jars/spark-kubernetes_2.12-3.0.1.jar\n",
            "spark-3.0.1-bin-hadoop3.2/python/\n",
            "spark-3.0.1-bin-hadoop3.2/python/setup.py\n",
            "spark-3.0.1-bin-hadoop3.2/python/pyspark/\n",
            "spark-3.0.1-bin-hadoop3.2/python/pyspark/ml/\n",
            "spark-3.0.1-bin-hadoop3.2/python/pyspark/ml/functions.py\n",
            "spark-3.0.1-bin-hadoop3.2/python/pyspark/ml/util.py\n",
            "spark-3.0.1-bin-hadoop3.2/python/pyspark/ml/regression.py\n",
            "spark-3.0.1-bin-hadoop3.2/python/pyspark/ml/evaluation.py\n",
            "spark-3.0.1-bin-hadoop3.2/python/pyspark/ml/feature.py\n",
            "spark-3.0.1-bin-hadoop3.2/python/pyspark/ml/base.py\n",
            "spark-3.0.1-bin-hadoop3.2/python/pyspark/ml/tuning.py\n",
            "spark-3.0.1-bin-hadoop3.2/python/pyspark/ml/clustering.py\n",
            "spark-3.0.1-bin-hadoop3.2/python/pyspark/ml/stat.py\n",
            "spark-3.0.1-bin-hadoop3.2/python/pyspark/ml/image.py\n",
            "spark-3.0.1-bin-hadoop3.2/python/pyspark/ml/fpm.py\n",
            "spark-3.0.1-bin-hadoop3.2/python/pyspark/ml/recommendation.py\n",
            "spark-3.0.1-bin-hadoop3.2/python/pyspark/ml/pipeline.py\n",
            "spark-3.0.1-bin-hadoop3.2/python/pyspark/ml/param/\n",
            "spark-3.0.1-bin-hadoop3.2/python/pyspark/ml/param/_shared_params_code_gen.py\n",
            "spark-3.0.1-bin-hadoop3.2/python/pyspark/ml/param/__init__.py\n",
            "spark-3.0.1-bin-hadoop3.2/python/pyspark/ml/param/shared.py\n",
            "spark-3.0.1-bin-hadoop3.2/python/pyspark/ml/common.py\n",
            "spark-3.0.1-bin-hadoop3.2/python/pyspark/ml/linalg/\n",
            "spark-3.0.1-bin-hadoop3.2/python/pyspark/ml/linalg/__init__.py\n",
            "spark-3.0.1-bin-hadoop3.2/python/pyspark/ml/classification.py\n",
            "spark-3.0.1-bin-hadoop3.2/python/pyspark/ml/tree.py\n",
            "spark-3.0.1-bin-hadoop3.2/python/pyspark/ml/wrapper.py\n",
            "spark-3.0.1-bin-hadoop3.2/python/pyspark/ml/__init__.py\n",
            "spark-3.0.1-bin-hadoop3.2/python/pyspark/ml/tests/\n",
            "spark-3.0.1-bin-hadoop3.2/python/pyspark/ml/tests/test_wrapper.py\n",
            "spark-3.0.1-bin-hadoop3.2/python/pyspark/ml/tests/test_tuning.py\n",
            "spark-3.0.1-bin-hadoop3.2/python/pyspark/ml/tests/test_base.py\n",
            "spark-3.0.1-bin-hadoop3.2/python/pyspark/ml/tests/test_evaluation.py\n",
            "spark-3.0.1-bin-hadoop3.2/python/pyspark/ml/tests/test_linalg.py\n",
            "spark-3.0.1-bin-hadoop3.2/python/pyspark/ml/tests/test_image.py\n",
            "spark-3.0.1-bin-hadoop3.2/python/pyspark/ml/tests/test_persistence.py\n",
            "spark-3.0.1-bin-hadoop3.2/python/pyspark/ml/tests/test_feature.py\n",
            "spark-3.0.1-bin-hadoop3.2/python/pyspark/ml/tests/test_param.py\n",
            "spark-3.0.1-bin-hadoop3.2/python/pyspark/ml/tests/test_algorithms.py\n",
            "spark-3.0.1-bin-hadoop3.2/python/pyspark/ml/tests/test_pipeline.py\n",
            "spark-3.0.1-bin-hadoop3.2/python/pyspark/ml/tests/__init__.py\n",
            "spark-3.0.1-bin-hadoop3.2/python/pyspark/ml/tests/test_training_summary.py\n",
            "spark-3.0.1-bin-hadoop3.2/python/pyspark/ml/tests/test_stat.py\n",
            "spark-3.0.1-bin-hadoop3.2/python/pyspark/statcounter.py\n",
            "spark-3.0.1-bin-hadoop3.2/python/pyspark/status.py\n",
            "spark-3.0.1-bin-hadoop3.2/python/pyspark/java_gateway.py\n",
            "spark-3.0.1-bin-hadoop3.2/python/pyspark/mllib/\n",
            "spark-3.0.1-bin-hadoop3.2/python/pyspark/mllib/util.py\n",
            "spark-3.0.1-bin-hadoop3.2/python/pyspark/mllib/regression.py\n",
            "spark-3.0.1-bin-hadoop3.2/python/pyspark/mllib/evaluation.py\n",
            "spark-3.0.1-bin-hadoop3.2/python/pyspark/mllib/feature.py\n",
            "spark-3.0.1-bin-hadoop3.2/python/pyspark/mllib/clustering.py\n",
            "spark-3.0.1-bin-hadoop3.2/python/pyspark/mllib/stat/\n",
            "spark-3.0.1-bin-hadoop3.2/python/pyspark/mllib/stat/test.py\n",
            "spark-3.0.1-bin-hadoop3.2/python/pyspark/mllib/stat/_statistics.py\n",
            "spark-3.0.1-bin-hadoop3.2/python/pyspark/mllib/stat/distribution.py\n",
            "spark-3.0.1-bin-hadoop3.2/python/pyspark/mllib/stat/KernelDensity.py\n",
            "spark-3.0.1-bin-hadoop3.2/python/pyspark/mllib/stat/__init__.py\n",
            "spark-3.0.1-bin-hadoop3.2/python/pyspark/mllib/fpm.py\n",
            "spark-3.0.1-bin-hadoop3.2/python/pyspark/mllib/recommendation.py\n",
            "spark-3.0.1-bin-hadoop3.2/python/pyspark/mllib/common.py\n",
            "spark-3.0.1-bin-hadoop3.2/python/pyspark/mllib/linalg/\n",
            "spark-3.0.1-bin-hadoop3.2/python/pyspark/mllib/linalg/distributed.py\n",
            "spark-3.0.1-bin-hadoop3.2/python/pyspark/mllib/linalg/__init__.py\n",
            "spark-3.0.1-bin-hadoop3.2/python/pyspark/mllib/classification.py\n",
            "spark-3.0.1-bin-hadoop3.2/python/pyspark/mllib/tree.py\n",
            "spark-3.0.1-bin-hadoop3.2/python/pyspark/mllib/__init__.py\n",
            "spark-3.0.1-bin-hadoop3.2/python/pyspark/mllib/random.py\n",
            "spark-3.0.1-bin-hadoop3.2/python/pyspark/mllib/tests/\n",
            "spark-3.0.1-bin-hadoop3.2/python/pyspark/mllib/tests/test_util.py\n",
            "spark-3.0.1-bin-hadoop3.2/python/pyspark/mllib/tests/test_linalg.py\n",
            "spark-3.0.1-bin-hadoop3.2/python/pyspark/mllib/tests/test_feature.py\n",
            "spark-3.0.1-bin-hadoop3.2/python/pyspark/mllib/tests/test_algorithms.py\n",
            "spark-3.0.1-bin-hadoop3.2/python/pyspark/mllib/tests/__init__.py\n",
            "spark-3.0.1-bin-hadoop3.2/python/pyspark/mllib/tests/test_streaming_algorithms.py\n",
            "spark-3.0.1-bin-hadoop3.2/python/pyspark/mllib/tests/test_stat.py\n",
            "spark-3.0.1-bin-hadoop3.2/python/pyspark/resource.py\n",
            "spark-3.0.1-bin-hadoop3.2/python/pyspark/serializers.py\n",
            "spark-3.0.1-bin-hadoop3.2/python/pyspark/util.py\n",
            "spark-3.0.1-bin-hadoop3.2/python/pyspark/daemon.py\n",
            "spark-3.0.1-bin-hadoop3.2/python/pyspark/context.py\n",
            "spark-3.0.1-bin-hadoop3.2/python/pyspark/broadcast.py\n",
            "spark-3.0.1-bin-hadoop3.2/python/pyspark/streaming/\n",
            "spark-3.0.1-bin-hadoop3.2/python/pyspark/streaming/util.py\n",
            "spark-3.0.1-bin-hadoop3.2/python/pyspark/streaming/listener.py\n",
            "spark-3.0.1-bin-hadoop3.2/python/pyspark/streaming/kinesis.py\n",
            "spark-3.0.1-bin-hadoop3.2/python/pyspark/streaming/context.py\n",
            "spark-3.0.1-bin-hadoop3.2/python/pyspark/streaming/dstream.py\n",
            "spark-3.0.1-bin-hadoop3.2/python/pyspark/streaming/__init__.py\n",
            "spark-3.0.1-bin-hadoop3.2/python/pyspark/streaming/tests/\n",
            "spark-3.0.1-bin-hadoop3.2/python/pyspark/streaming/tests/test_kinesis.py\n",
            "spark-3.0.1-bin-hadoop3.2/python/pyspark/streaming/tests/test_context.py\n",
            "spark-3.0.1-bin-hadoop3.2/python/pyspark/streaming/tests/test_dstream.py\n",
            "spark-3.0.1-bin-hadoop3.2/python/pyspark/streaming/tests/test_listener.py\n",
            "spark-3.0.1-bin-hadoop3.2/python/pyspark/streaming/tests/__init__.py\n",
            "spark-3.0.1-bin-hadoop3.2/python/pyspark/testing/\n",
            "spark-3.0.1-bin-hadoop3.2/python/pyspark/testing/mllibutils.py\n",
            "spark-3.0.1-bin-hadoop3.2/python/pyspark/testing/utils.py\n",
            "spark-3.0.1-bin-hadoop3.2/python/pyspark/testing/mlutils.py\n",
            "spark-3.0.1-bin-hadoop3.2/python/pyspark/testing/sqlutils.py\n",
            "spark-3.0.1-bin-hadoop3.2/python/pyspark/testing/streamingutils.py\n",
            "spark-3.0.1-bin-hadoop3.2/python/pyspark/testing/__init__.py\n",
            "spark-3.0.1-bin-hadoop3.2/python/pyspark/shell.py\n",
            "spark-3.0.1-bin-hadoop3.2/python/pyspark/heapq3.py\n",
            "spark-3.0.1-bin-hadoop3.2/python/pyspark/version.py\n",
            "spark-3.0.1-bin-hadoop3.2/python/pyspark/rddsampler.py\n",
            "spark-3.0.1-bin-hadoop3.2/python/pyspark/worker.py\n",
            "spark-3.0.1-bin-hadoop3.2/python/pyspark/cloudpickle.py\n",
            "spark-3.0.1-bin-hadoop3.2/python/pyspark/sql/\n",
            "spark-3.0.1-bin-hadoop3.2/python/pyspark/sql/functions.py\n",
            "spark-3.0.1-bin-hadoop3.2/python/pyspark/sql/column.py\n",
            "spark-3.0.1-bin-hadoop3.2/python/pyspark/sql/readwriter.py\n",
            "spark-3.0.1-bin-hadoop3.2/python/pyspark/sql/utils.py\n",
            "spark-3.0.1-bin-hadoop3.2/python/pyspark/sql/context.py\n",
            "spark-3.0.1-bin-hadoop3.2/python/pyspark/sql/avro/\n",
            "spark-3.0.1-bin-hadoop3.2/python/pyspark/sql/avro/functions.py\n",
            "spark-3.0.1-bin-hadoop3.2/python/pyspark/sql/avro/__init__.py\n",
            "spark-3.0.1-bin-hadoop3.2/python/pyspark/sql/window.py\n",
            "spark-3.0.1-bin-hadoop3.2/python/pyspark/sql/session.py\n",
            "spark-3.0.1-bin-hadoop3.2/python/pyspark/sql/types.py\n",
            "spark-3.0.1-bin-hadoop3.2/python/pyspark/sql/group.py\n",
            "spark-3.0.1-bin-hadoop3.2/python/pyspark/sql/dataframe.py\n",
            "spark-3.0.1-bin-hadoop3.2/python/pyspark/sql/catalog.py\n",
            "spark-3.0.1-bin-hadoop3.2/python/pyspark/sql/udf.py\n",
            "spark-3.0.1-bin-hadoop3.2/python/pyspark/sql/pandas/\n",
            "spark-3.0.1-bin-hadoop3.2/python/pyspark/sql/pandas/group_ops.py\n",
            "spark-3.0.1-bin-hadoop3.2/python/pyspark/sql/pandas/serializers.py\n",
            "spark-3.0.1-bin-hadoop3.2/python/pyspark/sql/pandas/functions.py\n",
            "spark-3.0.1-bin-hadoop3.2/python/pyspark/sql/pandas/utils.py\n",
            "spark-3.0.1-bin-hadoop3.2/python/pyspark/sql/pandas/typehints.py\n",
            "spark-3.0.1-bin-hadoop3.2/python/pyspark/sql/pandas/types.py\n",
            "spark-3.0.1-bin-hadoop3.2/python/pyspark/sql/pandas/conversion.py\n",
            "spark-3.0.1-bin-hadoop3.2/python/pyspark/sql/pandas/__init__.py\n",
            "spark-3.0.1-bin-hadoop3.2/python/pyspark/sql/pandas/map_ops.py\n",
            "spark-3.0.1-bin-hadoop3.2/python/pyspark/sql/__init__.py\n",
            "spark-3.0.1-bin-hadoop3.2/python/pyspark/sql/conf.py\n",
            "spark-3.0.1-bin-hadoop3.2/python/pyspark/sql/streaming.py\n",
            "spark-3.0.1-bin-hadoop3.2/python/pyspark/sql/tests/\n",
            "spark-3.0.1-bin-hadoop3.2/python/pyspark/sql/tests/test_column.py\n",
            "spark-3.0.1-bin-hadoop3.2/python/pyspark/sql/tests/test_arrow.py\n",
            "spark-3.0.1-bin-hadoop3.2/python/pyspark/sql/tests/test_conf.py\n",
            "spark-3.0.1-bin-hadoop3.2/python/pyspark/sql/tests/test_pandas_grouped_map.py\n",
            "spark-3.0.1-bin-hadoop3.2/python/pyspark/sql/tests/test_catalog.py\n",
            "spark-3.0.1-bin-hadoop3.2/python/pyspark/sql/tests/test_pandas_cogrouped_map.py\n",
            "spark-3.0.1-bin-hadoop3.2/python/pyspark/sql/tests/test_pandas_udf_typehints.py\n",
            "spark-3.0.1-bin-hadoop3.2/python/pyspark/sql/tests/test_serde.py\n",
            "spark-3.0.1-bin-hadoop3.2/python/pyspark/sql/tests/test_types.py\n",
            "spark-3.0.1-bin-hadoop3.2/python/pyspark/sql/tests/test_pandas_udf_scalar.py\n",
            "spark-3.0.1-bin-hadoop3.2/python/pyspark/sql/tests/test_utils.py\n",
            "spark-3.0.1-bin-hadoop3.2/python/pyspark/sql/tests/test_pandas_map.py\n",
            "spark-3.0.1-bin-hadoop3.2/python/pyspark/sql/tests/test_streaming.py\n",
            "spark-3.0.1-bin-hadoop3.2/python/pyspark/sql/tests/test_functions.py\n",
            "spark-3.0.1-bin-hadoop3.2/python/pyspark/sql/tests/test_context.py\n",
            "spark-3.0.1-bin-hadoop3.2/python/pyspark/sql/tests/test_group.py\n",
            "spark-3.0.1-bin-hadoop3.2/python/pyspark/sql/tests/test_datasources.py\n",
            "spark-3.0.1-bin-hadoop3.2/python/pyspark/sql/tests/test_readwriter.py\n",
            "spark-3.0.1-bin-hadoop3.2/python/pyspark/sql/tests/test_pandas_udf_window.py\n",
            "spark-3.0.1-bin-hadoop3.2/python/pyspark/sql/tests/test_udf.py\n",
            "spark-3.0.1-bin-hadoop3.2/python/pyspark/sql/tests/__init__.py\n",
            "spark-3.0.1-bin-hadoop3.2/python/pyspark/sql/tests/test_session.py\n",
            "spark-3.0.1-bin-hadoop3.2/python/pyspark/sql/tests/test_pandas_udf.py\n",
            "spark-3.0.1-bin-hadoop3.2/python/pyspark/sql/tests/test_pandas_udf_grouped_agg.py\n",
            "spark-3.0.1-bin-hadoop3.2/python/pyspark/sql/tests/test_dataframe.py\n",
            "spark-3.0.1-bin-hadoop3.2/python/pyspark/join.py\n",
            "spark-3.0.1-bin-hadoop3.2/python/pyspark/accumulators.py\n",
            "spark-3.0.1-bin-hadoop3.2/python/pyspark/resultiterable.py\n",
            "spark-3.0.1-bin-hadoop3.2/python/pyspark/profiler.py\n",
            "spark-3.0.1-bin-hadoop3.2/python/pyspark/taskcontext.py\n",
            "spark-3.0.1-bin-hadoop3.2/python/pyspark/storagelevel.py\n",
            "spark-3.0.1-bin-hadoop3.2/python/pyspark/traceback_utils.py\n",
            "spark-3.0.1-bin-hadoop3.2/python/pyspark/files.py\n",
            "spark-3.0.1-bin-hadoop3.2/python/pyspark/_globals.py\n",
            "spark-3.0.1-bin-hadoop3.2/python/pyspark/shuffle.py\n",
            "spark-3.0.1-bin-hadoop3.2/python/pyspark/__init__.py\n",
            "spark-3.0.1-bin-hadoop3.2/python/pyspark/rdd.py\n",
            "spark-3.0.1-bin-hadoop3.2/python/pyspark/find_spark_home.py\n",
            "spark-3.0.1-bin-hadoop3.2/python/pyspark/conf.py\n",
            "spark-3.0.1-bin-hadoop3.2/python/pyspark/tests/\n",
            "spark-3.0.1-bin-hadoop3.2/python/pyspark/tests/test_taskcontext.py\n",
            "spark-3.0.1-bin-hadoop3.2/python/pyspark/tests/test_appsubmit.py\n",
            "spark-3.0.1-bin-hadoop3.2/python/pyspark/tests/test_util.py\n",
            "spark-3.0.1-bin-hadoop3.2/python/pyspark/tests/test_conf.py\n",
            "spark-3.0.1-bin-hadoop3.2/python/pyspark/tests/test_daemon.py\n",
            "spark-3.0.1-bin-hadoop3.2/python/pyspark/tests/test_pin_thread.py\n",
            "spark-3.0.1-bin-hadoop3.2/python/pyspark/tests/test_profiler.py\n",
            "spark-3.0.1-bin-hadoop3.2/python/pyspark/tests/test_shuffle.py\n",
            "spark-3.0.1-bin-hadoop3.2/python/pyspark/tests/test_readwrite.py\n",
            "spark-3.0.1-bin-hadoop3.2/python/pyspark/tests/test_serializers.py\n",
            "spark-3.0.1-bin-hadoop3.2/python/pyspark/tests/test_broadcast.py\n",
            "spark-3.0.1-bin-hadoop3.2/python/pyspark/tests/test_rddbarrier.py\n",
            "spark-3.0.1-bin-hadoop3.2/python/pyspark/tests/test_context.py\n",
            "spark-3.0.1-bin-hadoop3.2/python/pyspark/tests/test_join.py\n",
            "spark-3.0.1-bin-hadoop3.2/python/pyspark/tests/__init__.py\n",
            "spark-3.0.1-bin-hadoop3.2/python/pyspark/tests/test_worker.py\n",
            "spark-3.0.1-bin-hadoop3.2/python/pyspark/tests/test_rdd.py\n",
            "spark-3.0.1-bin-hadoop3.2/python/test_coverage/\n",
            "spark-3.0.1-bin-hadoop3.2/python/test_coverage/sitecustomize.py\n",
            "spark-3.0.1-bin-hadoop3.2/python/test_coverage/coverage_daemon.py\n",
            "spark-3.0.1-bin-hadoop3.2/python/test_coverage/conf/\n",
            "spark-3.0.1-bin-hadoop3.2/python/test_coverage/conf/spark-defaults.conf\n",
            "spark-3.0.1-bin-hadoop3.2/python/test_support/\n",
            "spark-3.0.1-bin-hadoop3.2/python/test_support/SimpleHTTPServer.py\n",
            "spark-3.0.1-bin-hadoop3.2/python/test_support/userlibrary.py\n",
            "spark-3.0.1-bin-hadoop3.2/python/test_support/userlib-0.1.zip\n",
            "spark-3.0.1-bin-hadoop3.2/python/test_support/sql/\n",
            "spark-3.0.1-bin-hadoop3.2/python/test_support/sql/streaming/\n",
            "spark-3.0.1-bin-hadoop3.2/python/test_support/sql/streaming/text-test.txt\n",
            "spark-3.0.1-bin-hadoop3.2/python/test_support/sql/people_array_utf16le.json\n",
            "spark-3.0.1-bin-hadoop3.2/python/test_support/sql/ages.csv\n",
            "spark-3.0.1-bin-hadoop3.2/python/test_support/sql/ages_newlines.csv\n",
            "spark-3.0.1-bin-hadoop3.2/python/test_support/sql/text-test.txt\n",
            "spark-3.0.1-bin-hadoop3.2/python/test_support/sql/people1.json\n",
            "spark-3.0.1-bin-hadoop3.2/python/test_support/sql/orc_partitioned/\n",
            "spark-3.0.1-bin-hadoop3.2/python/test_support/sql/orc_partitioned/b=0/\n",
            "spark-3.0.1-bin-hadoop3.2/python/test_support/sql/orc_partitioned/b=0/c=0/\n",
            "spark-3.0.1-bin-hadoop3.2/python/test_support/sql/orc_partitioned/b=0/c=0/.part-r-00000-829af031-b970-49d6-ad39-30460a0be2c8.orc.crc\n",
            "spark-3.0.1-bin-hadoop3.2/python/test_support/sql/orc_partitioned/b=0/c=0/part-r-00000-829af031-b970-49d6-ad39-30460a0be2c8.orc\n",
            "spark-3.0.1-bin-hadoop3.2/python/test_support/sql/orc_partitioned/_SUCCESS\n",
            "spark-3.0.1-bin-hadoop3.2/python/test_support/sql/orc_partitioned/b=1/\n",
            "spark-3.0.1-bin-hadoop3.2/python/test_support/sql/orc_partitioned/b=1/c=1/\n",
            "spark-3.0.1-bin-hadoop3.2/python/test_support/sql/orc_partitioned/b=1/c=1/.part-r-00000-829af031-b970-49d6-ad39-30460a0be2c8.orc.crc\n",
            "spark-3.0.1-bin-hadoop3.2/python/test_support/sql/orc_partitioned/b=1/c=1/part-r-00000-829af031-b970-49d6-ad39-30460a0be2c8.orc\n",
            "spark-3.0.1-bin-hadoop3.2/python/test_support/sql/parquet_partitioned/\n",
            "spark-3.0.1-bin-hadoop3.2/python/test_support/sql/parquet_partitioned/_metadata\n",
            "spark-3.0.1-bin-hadoop3.2/python/test_support/sql/parquet_partitioned/_SUCCESS\n",
            "spark-3.0.1-bin-hadoop3.2/python/test_support/sql/parquet_partitioned/year=2015/\n",
            "spark-3.0.1-bin-hadoop3.2/python/test_support/sql/parquet_partitioned/year=2015/month=10/\n",
            "spark-3.0.1-bin-hadoop3.2/python/test_support/sql/parquet_partitioned/year=2015/month=10/day=26/\n",
            "spark-3.0.1-bin-hadoop3.2/python/test_support/sql/parquet_partitioned/year=2015/month=10/day=26/.part-r-00005.gz.parquet.crc\n",
            "spark-3.0.1-bin-hadoop3.2/python/test_support/sql/parquet_partitioned/year=2015/month=10/day=26/part-r-00005.gz.parquet\n",
            "spark-3.0.1-bin-hadoop3.2/python/test_support/sql/parquet_partitioned/year=2015/month=10/day=25/\n",
            "spark-3.0.1-bin-hadoop3.2/python/test_support/sql/parquet_partitioned/year=2015/month=10/day=25/.part-r-00004.gz.parquet.crc\n",
            "spark-3.0.1-bin-hadoop3.2/python/test_support/sql/parquet_partitioned/year=2015/month=10/day=25/part-r-00002.gz.parquet\n",
            "spark-3.0.1-bin-hadoop3.2/python/test_support/sql/parquet_partitioned/year=2015/month=10/day=25/.part-r-00002.gz.parquet.crc\n",
            "spark-3.0.1-bin-hadoop3.2/python/test_support/sql/parquet_partitioned/year=2015/month=10/day=25/part-r-00004.gz.parquet\n",
            "spark-3.0.1-bin-hadoop3.2/python/test_support/sql/parquet_partitioned/year=2015/month=9/\n",
            "spark-3.0.1-bin-hadoop3.2/python/test_support/sql/parquet_partitioned/year=2015/month=9/day=1/\n",
            "spark-3.0.1-bin-hadoop3.2/python/test_support/sql/parquet_partitioned/year=2015/month=9/day=1/.part-r-00007.gz.parquet.crc\n",
            "spark-3.0.1-bin-hadoop3.2/python/test_support/sql/parquet_partitioned/year=2015/month=9/day=1/part-r-00007.gz.parquet\n",
            "spark-3.0.1-bin-hadoop3.2/python/test_support/sql/parquet_partitioned/_common_metadata\n",
            "spark-3.0.1-bin-hadoop3.2/python/test_support/sql/parquet_partitioned/year=2014/\n",
            "spark-3.0.1-bin-hadoop3.2/python/test_support/sql/parquet_partitioned/year=2014/month=9/\n",
            "spark-3.0.1-bin-hadoop3.2/python/test_support/sql/parquet_partitioned/year=2014/month=9/day=1/\n",
            "spark-3.0.1-bin-hadoop3.2/python/test_support/sql/parquet_partitioned/year=2014/month=9/day=1/.part-r-00008.gz.parquet.crc\n",
            "spark-3.0.1-bin-hadoop3.2/python/test_support/sql/parquet_partitioned/year=2014/month=9/day=1/part-r-00008.gz.parquet\n",
            "spark-3.0.1-bin-hadoop3.2/python/test_support/sql/people_array.json\n",
            "spark-3.0.1-bin-hadoop3.2/python/test_support/sql/people.json\n",
            "spark-3.0.1-bin-hadoop3.2/python/test_support/hello/\n",
            "spark-3.0.1-bin-hadoop3.2/python/test_support/hello/hello.txt\n",
            "spark-3.0.1-bin-hadoop3.2/python/test_support/hello/sub_hello/\n",
            "spark-3.0.1-bin-hadoop3.2/python/test_support/hello/sub_hello/sub_hello.txt\n",
            "spark-3.0.1-bin-hadoop3.2/python/README.md\n",
            "spark-3.0.1-bin-hadoop3.2/python/run-tests-with-coverage\n",
            "spark-3.0.1-bin-hadoop3.2/python/MANIFEST.in\n",
            "spark-3.0.1-bin-hadoop3.2/python/.coveragerc\n",
            "spark-3.0.1-bin-hadoop3.2/python/docs/\n",
            "spark-3.0.1-bin-hadoop3.2/python/docs/pyspark.mllib.rst\n",
            "spark-3.0.1-bin-hadoop3.2/python/docs/index.rst\n",
            "spark-3.0.1-bin-hadoop3.2/python/docs/pyspark.sql.rst\n",
            "spark-3.0.1-bin-hadoop3.2/python/docs/_static/\n",
            "spark-3.0.1-bin-hadoop3.2/python/docs/_static/pyspark.css\n",
            "spark-3.0.1-bin-hadoop3.2/python/docs/_static/copybutton.js\n",
            "spark-3.0.1-bin-hadoop3.2/python/docs/_static/pyspark.js\n",
            "spark-3.0.1-bin-hadoop3.2/python/docs/make.bat\n",
            "spark-3.0.1-bin-hadoop3.2/python/docs/pyspark.resource.rst\n",
            "spark-3.0.1-bin-hadoop3.2/python/docs/pyspark.rst\n",
            "spark-3.0.1-bin-hadoop3.2/python/docs/make2.bat\n",
            "spark-3.0.1-bin-hadoop3.2/python/docs/_templates/\n",
            "spark-3.0.1-bin-hadoop3.2/python/docs/_templates/layout.html\n",
            "spark-3.0.1-bin-hadoop3.2/python/docs/pyspark.streaming.rst\n",
            "spark-3.0.1-bin-hadoop3.2/python/docs/Makefile\n",
            "spark-3.0.1-bin-hadoop3.2/python/docs/conf.py\n",
            "spark-3.0.1-bin-hadoop3.2/python/docs/pyspark.ml.rst\n",
            "spark-3.0.1-bin-hadoop3.2/python/lib/\n",
            "spark-3.0.1-bin-hadoop3.2/python/lib/py4j-0.10.9-src.zip\n",
            "spark-3.0.1-bin-hadoop3.2/python/lib/pyspark.zip\n",
            "spark-3.0.1-bin-hadoop3.2/python/lib/PY4J_LICENSE.txt\n",
            "spark-3.0.1-bin-hadoop3.2/python/run-tests.py\n",
            "spark-3.0.1-bin-hadoop3.2/python/pylintrc\n",
            "spark-3.0.1-bin-hadoop3.2/python/run-tests\n",
            "spark-3.0.1-bin-hadoop3.2/python/setup.cfg\n",
            "spark-3.0.1-bin-hadoop3.2/python/.gitignore\n",
            "spark-3.0.1-bin-hadoop3.2/conf/\n",
            "spark-3.0.1-bin-hadoop3.2/conf/fairscheduler.xml.template\n",
            "spark-3.0.1-bin-hadoop3.2/conf/log4j.properties.template\n",
            "spark-3.0.1-bin-hadoop3.2/conf/spark-defaults.conf.template\n",
            "spark-3.0.1-bin-hadoop3.2/conf/metrics.properties.template\n",
            "spark-3.0.1-bin-hadoop3.2/conf/spark-env.sh.template\n",
            "spark-3.0.1-bin-hadoop3.2/conf/slaves.template\n",
            "Looking in indexes: https://pypi.org/simple, https://us-python.pkg.dev/colab-wheels/public/simple/\n",
            "Requirement already satisfied: findspark in /usr/local/lib/python3.7/dist-packages (2.0.1)\n"
          ]
        }
      ],
      "source": [
        "!pwd\n",
        "! wget https://archive.apache.org/dist/spark/spark-3.0.1/spark-3.0.1-bin-hadoop3.2.tgz\n",
        "!tar -xvzf spark-3.0.1-bin-hadoop3.2.tgz\n",
        "!pip install findspark"
      ]
    },
    {
      "cell_type": "code",
      "source": [
        "import os\n",
        "import findspark\n",
        "\n",
        "os.environ[\"SPARK_HOME\"] = \"/content/spark-3.0.1-bin-hadoop3.2\"\n",
        "findspark.init()"
      ],
      "metadata": {
        "id": "AVejAlHhgoK-"
      },
      "id": "AVejAlHhgoK-",
      "execution_count": null,
      "outputs": []
    },
    {
      "cell_type": "code",
      "source": [
        "from pyspark.sql import SparkSession\n",
        "import pyspark.sql.functions as fn"
      ],
      "metadata": {
        "id": "Kq0toGG5gqNa"
      },
      "id": "Kq0toGG5gqNa",
      "execution_count": null,
      "outputs": []
    },
    {
      "cell_type": "code",
      "source": [
        "spark = SparkSession.builder.appName('FinalExam').getOrCreate()"
      ],
      "metadata": {
        "id": "r-fBoxCtgqle"
      },
      "id": "r-fBoxCtgqle",
      "execution_count": null,
      "outputs": []
    },
    {
      "cell_type": "code",
      "source": [
        "spark.conf.set(\"spark.sql.execution.arrow.pyspark.enabled\", \"true\")"
      ],
      "metadata": {
        "id": "UuZqjRtDgyQA"
      },
      "id": "UuZqjRtDgyQA",
      "execution_count": null,
      "outputs": []
    },
    {
      "cell_type": "markdown",
      "id": "90c7df9e",
      "metadata": {
        "id": "90c7df9e"
      },
      "source": [
        "### Read the readme file to learn more about the data"
      ]
    },
    {
      "cell_type": "markdown",
      "id": "2d00718f",
      "metadata": {
        "id": "2d00718f"
      },
      "source": [
        "### Read the data into a DataFrame"
      ]
    },
    {
      "cell_type": "code",
      "execution_count": null,
      "id": "29914cf1",
      "metadata": {
        "id": "29914cf1"
      },
      "outputs": [],
      "source": [
        "df = spark.read.load(\"SMSSpamCollection\", format=\"csv\", sep=\"\\t\", inferSchema=\"true\")"
      ]
    },
    {
      "cell_type": "markdown",
      "id": "182cd7f6",
      "metadata": {
        "id": "182cd7f6"
      },
      "source": [
        "### Print the schema"
      ]
    },
    {
      "cell_type": "code",
      "execution_count": null,
      "id": "b52706b9",
      "metadata": {
        "colab": {
          "base_uri": "https://localhost:8080/"
        },
        "id": "b52706b9",
        "outputId": "a6795471-06f8-4e70-d152-c28ee9f0293a"
      },
      "outputs": [
        {
          "output_type": "stream",
          "name": "stdout",
          "text": [
            "root\n",
            " |-- _c0: string (nullable = true)\n",
            " |-- _c1: string (nullable = true)\n",
            "\n"
          ]
        }
      ],
      "source": [
        "df.printSchema()"
      ]
    },
    {
      "cell_type": "markdown",
      "id": "2b90cce7",
      "metadata": {
        "id": "2b90cce7"
      },
      "source": [
        "### Rename the first column to 'class' and second column to 'text'"
      ]
    },
    {
      "cell_type": "code",
      "execution_count": null,
      "id": "f1a88df6",
      "metadata": {
        "scrolled": false,
        "id": "f1a88df6"
      },
      "outputs": [],
      "source": [
        "df2 = df.withColumnRenamed('_c0', \"class\")\n",
        "df3 = df2.withColumnRenamed('_c1', \"text\")"
      ]
    },
    {
      "cell_type": "code",
      "execution_count": null,
      "id": "62a544fc",
      "metadata": {
        "colab": {
          "base_uri": "https://localhost:8080/"
        },
        "id": "62a544fc",
        "outputId": "3281fa93-8edf-4dcd-edc9-b54ee5b9d73a"
      },
      "outputs": [
        {
          "output_type": "stream",
          "name": "stdout",
          "text": [
            "+-----+--------------------+\n",
            "|class|                text|\n",
            "+-----+--------------------+\n",
            "|  ham|Go until jurong p...|\n",
            "|  ham|Ok lar... Joking ...|\n",
            "| spam|Free entry in 2 a...|\n",
            "|  ham|U dun say so earl...|\n",
            "|  ham|Nah I don't think...|\n",
            "+-----+--------------------+\n",
            "only showing top 5 rows\n",
            "\n"
          ]
        }
      ],
      "source": [
        "df3.show(5)"
      ]
    },
    {
      "cell_type": "markdown",
      "id": "a3e798d0",
      "metadata": {
        "id": "a3e798d0"
      },
      "source": [
        "### Show the first 10 rows from the dataframe\n",
        "- Show once with truncate=True and once with truncate=False"
      ]
    },
    {
      "cell_type": "code",
      "execution_count": null,
      "id": "362dcb99",
      "metadata": {
        "colab": {
          "base_uri": "https://localhost:8080/"
        },
        "id": "362dcb99",
        "outputId": "c664e267-6bc6-491d-c8da-aff3225309d7"
      },
      "outputs": [
        {
          "output_type": "stream",
          "name": "stdout",
          "text": [
            "+-----+--------------------+\n",
            "|class|                text|\n",
            "+-----+--------------------+\n",
            "|  ham|Go until jurong p...|\n",
            "|  ham|Ok lar... Joking ...|\n",
            "| spam|Free entry in 2 a...|\n",
            "|  ham|U dun say so earl...|\n",
            "|  ham|Nah I don't think...|\n",
            "| spam|FreeMsg Hey there...|\n",
            "|  ham|Even my brother i...|\n",
            "|  ham|As per your reque...|\n",
            "| spam|WINNER!! As a val...|\n",
            "| spam|Had your mobile 1...|\n",
            "+-----+--------------------+\n",
            "only showing top 10 rows\n",
            "\n"
          ]
        }
      ],
      "source": [
        "df3.show(10)"
      ]
    },
    {
      "cell_type": "code",
      "execution_count": null,
      "id": "41609e6b",
      "metadata": {
        "colab": {
          "base_uri": "https://localhost:8080/"
        },
        "id": "41609e6b",
        "outputId": "53a2ef71-33a9-4d3d-c689-2d2491bb4f92"
      },
      "outputs": [
        {
          "output_type": "stream",
          "name": "stdout",
          "text": [
            "+-----+----------------------------------------------------------------------------------------------------------------------------------------------------------------+\n",
            "|class|text                                                                                                                                                            |\n",
            "+-----+----------------------------------------------------------------------------------------------------------------------------------------------------------------+\n",
            "|ham  |Go until jurong point, crazy.. Available only in bugis n great world la e buffet... Cine there got amore wat...                                                 |\n",
            "|ham  |Ok lar... Joking wif u oni...                                                                                                                                   |\n",
            "|spam |Free entry in 2 a wkly comp to win FA Cup final tkts 21st May 2005. Text FA to 87121 to receive entry question(std txt rate)T&C's apply 08452810075over18's     |\n",
            "|ham  |U dun say so early hor... U c already then say...                                                                                                               |\n",
            "|ham  |Nah I don't think he goes to usf, he lives around here though                                                                                                   |\n",
            "|spam |FreeMsg Hey there darling it's been 3 week's now and no word back! I'd like some fun you up for it still? Tb ok! XxX std chgs to send, £1.50 to rcv             |\n",
            "|ham  |Even my brother is not like to speak with me. They treat me like aids patent.                                                                                   |\n",
            "|ham  |As per your request 'Melle Melle (Oru Minnaminunginte Nurungu Vettam)' has been set as your callertune for all Callers. Press *9 to copy your friends Callertune|\n",
            "|spam |WINNER!! As a valued network customer you have been selected to receivea £900 prize reward! To claim call 09061701461. Claim code KL341. Valid 12 hours only.   |\n",
            "|spam |Had your mobile 11 months or more? U R entitled to Update to the latest colour mobiles with camera for Free! Call The Mobile Update Co FREE on 08002986030      |\n",
            "+-----+----------------------------------------------------------------------------------------------------------------------------------------------------------------+\n",
            "only showing top 10 rows\n",
            "\n"
          ]
        }
      ],
      "source": [
        "df3.show(10, truncate = False)"
      ]
    },
    {
      "cell_type": "markdown",
      "id": "2fe744a9",
      "metadata": {
        "id": "2fe744a9"
      },
      "source": [
        "## Clean and Prepare the Data"
      ]
    },
    {
      "cell_type": "markdown",
      "id": "4d693167",
      "metadata": {
        "id": "4d693167"
      },
      "source": [
        "### Create a new feature column contains the length of the text column"
      ]
    },
    {
      "cell_type": "code",
      "execution_count": null,
      "id": "5424a0cb",
      "metadata": {
        "colab": {
          "base_uri": "https://localhost:8080/"
        },
        "id": "5424a0cb",
        "outputId": "f1d909af-a868-4acc-ea47-6e087f3eeb96"
      },
      "outputs": [
        {
          "output_type": "stream",
          "name": "stdout",
          "text": [
            "+-----+--------------------+----------+\n",
            "|class|                text|textLength|\n",
            "+-----+--------------------+----------+\n",
            "|  ham|Go until jurong p...|       111|\n",
            "|  ham|Ok lar... Joking ...|        29|\n",
            "| spam|Free entry in 2 a...|       155|\n",
            "|  ham|U dun say so earl...|        49|\n",
            "|  ham|Nah I don't think...|        61|\n",
            "| spam|FreeMsg Hey there...|       147|\n",
            "|  ham|Even my brother i...|        77|\n",
            "|  ham|As per your reque...|       160|\n",
            "| spam|WINNER!! As a val...|       157|\n",
            "| spam|Had your mobile 1...|       154|\n",
            "+-----+--------------------+----------+\n",
            "only showing top 10 rows\n",
            "\n"
          ]
        }
      ],
      "source": [
        "df4 = df3.withColumn('textLength', fn.length(df3.text))\n",
        "\n",
        "df4.show(10)"
      ]
    },
    {
      "cell_type": "markdown",
      "id": "78ea2de6",
      "metadata": {
        "id": "78ea2de6"
      },
      "source": [
        "### Show the new dataframe"
      ]
    },
    {
      "cell_type": "code",
      "execution_count": null,
      "id": "04c67c53",
      "metadata": {
        "scrolled": false,
        "colab": {
          "base_uri": "https://localhost:8080/"
        },
        "id": "04c67c53",
        "outputId": "9c34a9cc-8968-4251-834d-5014d1fe96dc"
      },
      "outputs": [
        {
          "output_type": "stream",
          "name": "stdout",
          "text": [
            "+-----+--------------------+----------+\n",
            "|class|                text|textLength|\n",
            "+-----+--------------------+----------+\n",
            "|  ham|Go until jurong p...|       111|\n",
            "|  ham|Ok lar... Joking ...|        29|\n",
            "| spam|Free entry in 2 a...|       155|\n",
            "|  ham|U dun say so earl...|        49|\n",
            "|  ham|Nah I don't think...|        61|\n",
            "+-----+--------------------+----------+\n",
            "only showing top 5 rows\n",
            "\n"
          ]
        }
      ],
      "source": [
        "df4.show(5)"
      ]
    },
    {
      "cell_type": "markdown",
      "id": "692e37a6",
      "metadata": {
        "id": "692e37a6"
      },
      "source": [
        "### Get the average text length for each class (give alias name to the average length column)"
      ]
    },
    {
      "cell_type": "code",
      "execution_count": null,
      "id": "5c32727d",
      "metadata": {
        "colab": {
          "base_uri": "https://localhost:8080/"
        },
        "id": "5c32727d",
        "outputId": "83451428-c66f-4ee0-ae7d-e030d723e6f8"
      },
      "outputs": [
        {
          "output_type": "stream",
          "name": "stdout",
          "text": [
            "+-----+-----------------+\n",
            "|class|      Avg. Length|\n",
            "+-----+-----------------+\n",
            "|  ham|71.45431945307645|\n",
            "| spam|138.6706827309237|\n",
            "+-----+-----------------+\n",
            "\n"
          ]
        }
      ],
      "source": [
        "df4.groupBy('class').agg(fn.avg(df4.textLength).alias('Avg. Length')).show()"
      ]
    },
    {
      "cell_type": "markdown",
      "id": "d5e101af",
      "metadata": {
        "id": "d5e101af"
      },
      "source": [
        "## Feature Transformations"
      ]
    },
    {
      "cell_type": "markdown",
      "id": "838ad9dd",
      "metadata": {
        "id": "838ad9dd"
      },
      "source": [
        "### In this part you transform you raw text in to tf_idf model :\n",
        "- For more information about TF-IDF check the following link: <b>(Not needed for the test)</b>\n",
        "https://en.wikipedia.org/wiki/Tf%E2%80%93idf"
      ]
    },
    {
      "cell_type": "markdown",
      "id": "225067d5",
      "metadata": {
        "id": "225067d5"
      },
      "source": [
        "### Perform the following steps to obtain TF-IDF:\n",
        "1. Import the required transformers/estimators for the subsequent steps.\n",
        "2. Create a <b>Tokenizer</b> from the text column.\n",
        "3. Create a <b>StopWordsRemover</b> to remove the <b>stop words</b> from the column obtained from the <b>Tokenizer</b>.\n",
        "4. Create a <b>CountVectorizer</b> after removing the <b>stop words</b>.\n",
        "5. Create the <b>TF-IDF</b> from the <b>CountVectorizer</b>."
      ]
    },
    {
      "cell_type": "code",
      "execution_count": null,
      "id": "6a4eebf8",
      "metadata": {
        "colab": {
          "base_uri": "https://localhost:8080/"
        },
        "id": "6a4eebf8",
        "outputId": "bc9cab74-9b4b-44dd-8588-3ebda3bbdcbb"
      },
      "outputs": [
        {
          "output_type": "stream",
          "name": "stderr",
          "text": [
            "[nltk_data] Downloading package punkt to /root/nltk_data...\n",
            "[nltk_data]   Package punkt is already up-to-date!\n"
          ]
        }
      ],
      "source": [
        "import nltk\n",
        "nltk.download('punkt')\n",
        "from nltk import word_tokenize\n",
        "text =\"please help me ignore punctuation like . or , but at the same time don't ignore if it looks like a url i.e. google.com or google.co.uk. Sometimes I also want conditions where I see an equals sign between words such as myname=shecode\"\n",
        "#word_tokenize(text)"
      ]
    },
    {
      "cell_type": "code",
      "source": [
        "from pyspark.ml.feature import Tokenizer\n",
        "tokenizer = Tokenizer(outputCol=\"words\")\n",
        "tokenizer.setInputCol(\"text\")\n",
        "tk = tokenizer.transform(df4)\n",
        "tk.show(5, truncate=False)"
      ],
      "metadata": {
        "colab": {
          "base_uri": "https://localhost:8080/"
        },
        "id": "3A8QYSIlkfgS",
        "outputId": "5546f647-0e76-4608-9f37-bb06fa935d3f"
      },
      "id": "3A8QYSIlkfgS",
      "execution_count": null,
      "outputs": [
        {
          "output_type": "stream",
          "name": "stdout",
          "text": [
            "+-----+-----------------------------------------------------------------------------------------------------------------------------------------------------------+----------+----------------------------------------------------------------------------------------------------------------------------------------------------------------------------------------+\n",
            "|class|text                                                                                                                                                       |textLength|words                                                                                                                                                                                   |\n",
            "+-----+-----------------------------------------------------------------------------------------------------------------------------------------------------------+----------+----------------------------------------------------------------------------------------------------------------------------------------------------------------------------------------+\n",
            "|ham  |Go until jurong point, crazy.. Available only in bugis n great world la e buffet... Cine there got amore wat...                                            |111       |[go, until, jurong, point,, crazy.., available, only, in, bugis, n, great, world, la, e, buffet..., cine, there, got, amore, wat...]                                                    |\n",
            "|ham  |Ok lar... Joking wif u oni...                                                                                                                              |29        |[ok, lar..., joking, wif, u, oni...]                                                                                                                                                    |\n",
            "|spam |Free entry in 2 a wkly comp to win FA Cup final tkts 21st May 2005. Text FA to 87121 to receive entry question(std txt rate)T&C's apply 08452810075over18's|155       |[free, entry, in, 2, a, wkly, comp, to, win, fa, cup, final, tkts, 21st, may, 2005., text, fa, to, 87121, to, receive, entry, question(std, txt, rate)t&c's, apply, 08452810075over18's]|\n",
            "|ham  |U dun say so early hor... U c already then say...                                                                                                          |49        |[u, dun, say, so, early, hor..., u, c, already, then, say...]                                                                                                                           |\n",
            "|ham  |Nah I don't think he goes to usf, he lives around here though                                                                                              |61        |[nah, i, don't, think, he, goes, to, usf,, he, lives, around, here, though]                                                                                                             |\n",
            "+-----+-----------------------------------------------------------------------------------------------------------------------------------------------------------+----------+----------------------------------------------------------------------------------------------------------------------------------------------------------------------------------------+\n",
            "only showing top 5 rows\n",
            "\n"
          ]
        }
      ]
    },
    {
      "cell_type": "code",
      "source": [
        "from pyspark.ml.feature import StopWordsRemover \n",
        "remover = StopWordsRemover(stopWords=[\"b\"])\n",
        "remover.setInputCol(\"text\")"
      ],
      "metadata": {
        "colab": {
          "base_uri": "https://localhost:8080/"
        },
        "id": "LvRg6gLml156",
        "outputId": "8142e859-ee8a-42b1-b80a-e5b2aa469ac6"
      },
      "id": "LvRg6gLml156",
      "execution_count": null,
      "outputs": [
        {
          "output_type": "execute_result",
          "data": {
            "text/plain": [
              "StopWordsRemover_ea629538a1ed"
            ]
          },
          "metadata": {},
          "execution_count": 17
        }
      ]
    },
    {
      "cell_type": "code",
      "execution_count": null,
      "id": "b82756db",
      "metadata": {
        "colab": {
          "base_uri": "https://localhost:8080/"
        },
        "id": "b82756db",
        "outputId": "ec1681f7-d08b-4d17-dd44-f78cf47deda2"
      },
      "outputs": [
        {
          "output_type": "stream",
          "name": "stdout",
          "text": [
            "+-----+----------------------------------------------------------------------------------------------------------------------------------------------------------------+----------+-------------------------------------------------------------------------------------------------------------------------------------------------------------------------------------------+---------------------------------------------------------------------------------------------------------------------------------------------------------------------+\n",
            "|class|text                                                                                                                                                            |textLength|words                                                                                                                                                                                      |words_clean                                                                                                                                                          |\n",
            "+-----+----------------------------------------------------------------------------------------------------------------------------------------------------------------+----------+-------------------------------------------------------------------------------------------------------------------------------------------------------------------------------------------+---------------------------------------------------------------------------------------------------------------------------------------------------------------------+\n",
            "|ham  |Go until jurong point, crazy.. Available only in bugis n great world la e buffet... Cine there got amore wat...                                                 |111       |[go, until, jurong, point,, crazy.., available, only, in, bugis, n, great, world, la, e, buffet..., cine, there, got, amore, wat...]                                                       |[go, jurong, point,, crazy.., available, bugis, n, great, world, la, e, buffet..., cine, got, amore, wat...]                                                         |\n",
            "|ham  |Ok lar... Joking wif u oni...                                                                                                                                   |29        |[ok, lar..., joking, wif, u, oni...]                                                                                                                                                       |[ok, lar..., joking, wif, u, oni...]                                                                                                                                 |\n",
            "|spam |Free entry in 2 a wkly comp to win FA Cup final tkts 21st May 2005. Text FA to 87121 to receive entry question(std txt rate)T&C's apply 08452810075over18's     |155       |[free, entry, in, 2, a, wkly, comp, to, win, fa, cup, final, tkts, 21st, may, 2005., text, fa, to, 87121, to, receive, entry, question(std, txt, rate)t&c's, apply, 08452810075over18's]   |[free, entry, 2, wkly, comp, win, fa, cup, final, tkts, 21st, may, 2005., text, fa, 87121, receive, entry, question(std, txt, rate)t&c's, apply, 08452810075over18's]|\n",
            "|ham  |U dun say so early hor... U c already then say...                                                                                                               |49        |[u, dun, say, so, early, hor..., u, c, already, then, say...]                                                                                                                              |[u, dun, say, early, hor..., u, c, already, say...]                                                                                                                  |\n",
            "|ham  |Nah I don't think he goes to usf, he lives around here though                                                                                                   |61        |[nah, i, don't, think, he, goes, to, usf,, he, lives, around, here, though]                                                                                                                |[nah, think, goes, usf,, lives, around, though]                                                                                                                      |\n",
            "|spam |FreeMsg Hey there darling it's been 3 week's now and no word back! I'd like some fun you up for it still? Tb ok! XxX std chgs to send, £1.50 to rcv             |147       |[freemsg, hey, there, darling, it's, been, 3, week's, now, and, no, word, back!, i'd, like, some, fun, you, up, for, it, still?, tb, ok!, xxx, std, chgs, to, send,, £1.50, to, rcv]       |[freemsg, hey, darling, 3, week's, word, back!, like, fun, still?, tb, ok!, xxx, std, chgs, send,, £1.50, rcv]                                                       |\n",
            "|ham  |Even my brother is not like to speak with me. They treat me like aids patent.                                                                                   |77        |[even, my, brother, is, not, like, to, speak, with, me., they, treat, me, like, aids, patent.]                                                                                             |[even, brother, like, speak, me., treat, like, aids, patent.]                                                                                                        |\n",
            "|ham  |As per your request 'Melle Melle (Oru Minnaminunginte Nurungu Vettam)' has been set as your callertune for all Callers. Press *9 to copy your friends Callertune|160       |[as, per, your, request, 'melle, melle, (oru, minnaminunginte, nurungu, vettam)', has, been, set, as, your, callertune, for, all, callers., press, *9, to, copy, your, friends, callertune]|[per, request, 'melle, melle, (oru, minnaminunginte, nurungu, vettam)', set, callertune, callers., press, *9, copy, friends, callertune]                             |\n",
            "|spam |WINNER!! As a valued network customer you have been selected to receivea £900 prize reward! To claim call 09061701461. Claim code KL341. Valid 12 hours only.   |157       |[winner!!, as, a, valued, network, customer, you, have, been, selected, to, receivea, £900, prize, reward!, to, claim, call, 09061701461., claim, code, kl341., valid, 12, hours, only.]   |[winner!!, valued, network, customer, selected, receivea, £900, prize, reward!, claim, call, 09061701461., claim, code, kl341., valid, 12, hours, only.]             |\n",
            "|spam |Had your mobile 11 months or more? U R entitled to Update to the latest colour mobiles with camera for Free! Call The Mobile Update Co FREE on 08002986030      |154       |[had, your, mobile, 11, months, or, more?, u, r, entitled, to, update, to, the, latest, colour, mobiles, with, camera, for, free!, call, the, mobile, update, co, free, on, 08002986030]   |[mobile, 11, months, more?, u, r, entitled, update, latest, colour, mobiles, camera, free!, call, mobile, update, co, free, 08002986030]                             |\n",
            "+-----+----------------------------------------------------------------------------------------------------------------------------------------------------------------+----------+-------------------------------------------------------------------------------------------------------------------------------------------------------------------------------------------+---------------------------------------------------------------------------------------------------------------------------------------------------------------------+\n",
            "only showing top 10 rows\n",
            "\n"
          ]
        }
      ],
      "source": [
        "remover = StopWordsRemover(inputCol='words', outputCol='words_clean')\n",
        "sw = remover.transform(tk)\n",
        "sw.show(10, truncate = False)"
      ]
    },
    {
      "cell_type": "code",
      "source": [
        "from pyspark.ml.feature import CountVectorizer\n",
        "countVectorizer = CountVectorizer(inputCol = \"words_clean\" , outputCol=\"vectors\")\n",
        "#cv.setOutputCol(\"vectors\")\n",
        "#cv.setInputCol(\"words_clean\")\n",
        "cv = countVectorizer.fit(sw).transform(sw)\n",
        "cv.show(10, truncate = False)"
      ],
      "metadata": {
        "colab": {
          "base_uri": "https://localhost:8080/"
        },
        "id": "Y8rrHOvjpd3X",
        "outputId": "c6dc40ec-285b-4eb0-a850-7ff4081128a6"
      },
      "id": "Y8rrHOvjpd3X",
      "execution_count": null,
      "outputs": [
        {
          "output_type": "stream",
          "name": "stdout",
          "text": [
            "+-----+----------------------------------------------------------------------------------------------------------------------------------------------------------------+----------+-------------------------------------------------------------------------------------------------------------------------------------------------------------------------------------------+---------------------------------------------------------------------------------------------------------------------------------------------------------------------+-------------------------------------------------------------------------------------------------------------------------------------------------------------------------------------+\n",
            "|class|text                                                                                                                                                            |textLength|words                                                                                                                                                                                      |words_clean                                                                                                                                                          |vectors                                                                                                                                                                              |\n",
            "+-----+----------------------------------------------------------------------------------------------------------------------------------------------------------------+----------+-------------------------------------------------------------------------------------------------------------------------------------------------------------------------------------------+---------------------------------------------------------------------------------------------------------------------------------------------------------------------+-------------------------------------------------------------------------------------------------------------------------------------------------------------------------------------+\n",
            "|ham  |Go until jurong point, crazy.. Available only in bugis n great world la e buffet... Cine there got amore wat...                                                 |111       |[go, until, jurong, point,, crazy.., available, only, in, bugis, n, great, world, la, e, buffet..., cine, there, got, amore, wat...]                                                       |[go, jurong, point,, crazy.., available, bugis, n, great, world, la, e, buffet..., cine, got, amore, wat...]                                                         |(13423,[7,11,31,61,72,344,625,731,1409,1598,4485,6440,8092,8838,11344,12979],[1.0,1.0,1.0,1.0,1.0,1.0,1.0,1.0,1.0,1.0,1.0,1.0,1.0,1.0,1.0,1.0])                                      |\n",
            "|ham  |Ok lar... Joking wif u oni...                                                                                                                                   |29        |[ok, lar..., joking, wif, u, oni...]                                                                                                                                                       |[ok, lar..., joking, wif, u, oni...]                                                                                                                                 |(13423,[0,24,297,457,2601,3605],[1.0,1.0,1.0,1.0,1.0,1.0])                                                                                                                           |\n",
            "|spam |Free entry in 2 a wkly comp to win FA Cup final tkts 21st May 2005. Text FA to 87121 to receive entry question(std txt rate)T&C's apply 08452810075over18's     |155       |[free, entry, in, 2, a, wkly, comp, to, win, fa, cup, final, tkts, 21st, may, 2005., text, fa, to, 87121, to, receive, entry, question(std, txt, rate)t&c's, apply, 08452810075over18's]   |[free, entry, 2, wkly, comp, win, fa, cup, final, tkts, 21st, may, 2005., text, fa, 87121, receive, entry, question(std, txt, rate)t&c's, apply, 08452810075over18's]|(13423,[2,13,19,30,89,154,193,305,458,515,631,855,954,1916,2010,2356,3023,3287,3442,5016,5200],[1.0,1.0,1.0,1.0,1.0,1.0,1.0,2.0,1.0,1.0,1.0,1.0,1.0,1.0,1.0,2.0,1.0,1.0,1.0,1.0,1.0])|\n",
            "|ham  |U dun say so early hor... U c already then say...                                                                                                               |49        |[u, dun, say, so, early, hor..., u, c, already, then, say...]                                                                                                                              |[u, dun, say, early, hor..., u, c, already, say...]                                                                                                                  |(13423,[0,70,80,128,147,323,2911,3598],[2.0,1.0,1.0,1.0,1.0,1.0,1.0,1.0])                                                                                                            |\n",
            "|ham  |Nah I don't think he goes to usf, he lives around here though                                                                                                   |61        |[nah, i, don't, think, he, goes, to, usf,, he, lives, around, here, though]                                                                                                                |[nah, think, goes, usf,, lives, around, though]                                                                                                                      |(13423,[36,134,313,545,1325,3302,3591],[1.0,1.0,1.0,1.0,1.0,1.0,1.0])                                                                                                                |\n",
            "|spam |FreeMsg Hey there darling it's been 3 week's now and no word back! I'd like some fun you up for it still? Tb ok! XxX std chgs to send, £1.50 to rcv             |147       |[freemsg, hey, there, darling, it's, been, 3, week's, now, and, no, word, back!, i'd, like, some, fun, you, up, for, it, still?, tb, ok!, xxx, std, chgs, to, send,, £1.50, to, rcv]       |[freemsg, hey, darling, 3, week's, word, back!, like, fun, still?, tb, ok!, xxx, std, chgs, send,, £1.50, rcv]                                                       |(13423,[10,60,139,286,350,368,490,1363,1643,2091,2665,3625,3952,4446,4639,4641,5133,6169],[1.0,1.0,1.0,1.0,1.0,1.0,1.0,1.0,1.0,1.0,1.0,1.0,1.0,1.0,1.0,1.0,1.0,1.0])                 |\n",
            "|ham  |Even my brother is not like to speak with me. They treat me like aids patent.                                                                                   |77        |[even, my, brother, is, not, like, to, speak, with, me., they, treat, me, like, aids, patent.]                                                                                             |[even, brother, like, speak, me., treat, like, aids, patent.]                                                                                                        |(13423,[10,53,103,243,622,749,8012,12636],[2.0,1.0,1.0,1.0,1.0,1.0,1.0,1.0])                                                                                                         |\n",
            "|ham  |As per your request 'Melle Melle (Oru Minnaminunginte Nurungu Vettam)' has been set as your callertune for all Callers. Press *9 to copy your friends Callertune|160       |[as, per, your, request, 'melle, melle, (oru, minnaminunginte, nurungu, vettam)', has, been, set, as, your, callertune, for, all, callers., press, *9, to, copy, your, friends, callertune]|[per, request, 'melle, melle, (oru, minnaminunginte, nurungu, vettam)', set, callertune, callers., press, *9, copy, friends, callertune]                             |(13423,[125,184,409,913,925,950,1170,1596,1759,2560,2829,2887,2900,3108,3156],[1.0,1.0,1.0,1.0,2.0,1.0,1.0,1.0,1.0,1.0,1.0,1.0,1.0,1.0,1.0])                                         |\n",
            "|spam |WINNER!! As a valued network customer you have been selected to receivea £900 prize reward! To claim call 09061701461. Claim code KL341. Valid 12 hours only.   |157       |[winner!!, as, a, valued, network, customer, you, have, been, selected, to, receivea, £900, prize, reward!, to, claim, call, 09061701461., claim, code, kl341., valid, 12, hours, only.]   |[winner!!, valued, network, customer, selected, receivea, £900, prize, reward!, claim, call, 09061701461., claim, code, kl341., valid, 12, hours, only.]             |(13423,[1,47,118,145,293,322,351,500,543,573,793,1108,1309,2597,3348,3911,3989,4909],[1.0,2.0,1.0,1.0,1.0,1.0,1.0,1.0,1.0,1.0,1.0,1.0,1.0,1.0,1.0,1.0,1.0,1.0])                      |\n",
            "|spam |Had your mobile 11 months or more? U R entitled to Update to the latest colour mobiles with camera for Free! Call The Mobile Update Co FREE on 08002986030      |154       |[had, your, mobile, 11, months, or, more?, u, r, entitled, to, update, to, the, latest, colour, mobiles, with, camera, for, free!, call, the, mobile, update, co, free, on, 08002986030]   |[mobile, 11, months, more?, u, r, entitled, update, latest, colour, mobiles, camera, free!, call, mobile, update, co, free, 08002986030]                             |(13423,[0,1,13,27,38,196,282,369,391,414,875,1063,1188,1349,1860,2936,4140],[1.0,1.0,1.0,1.0,2.0,1.0,1.0,2.0,1.0,1.0,1.0,1.0,1.0,1.0,1.0,1.0,1.0])                                   |\n",
            "+-----+----------------------------------------------------------------------------------------------------------------------------------------------------------------+----------+-------------------------------------------------------------------------------------------------------------------------------------------------------------------------------------------+---------------------------------------------------------------------------------------------------------------------------------------------------------------------+-------------------------------------------------------------------------------------------------------------------------------------------------------------------------------------+\n",
            "only showing top 10 rows\n",
            "\n"
          ]
        }
      ]
    },
    {
      "cell_type": "code",
      "source": [
        "from pyspark.ml.feature import HashingTF, IDF, Tokenizer\n",
        "idf = IDF(inputCol=\"vectors\", outputCol=\"tf_idf\")\n",
        "id = idf.fit(cv).transform(cv)\n",
        "id.show(10, truncate = False)"
      ],
      "metadata": {
        "colab": {
          "base_uri": "https://localhost:8080/"
        },
        "id": "t1qk0L4Tpdp3",
        "outputId": "80eafa01-c344-4cb9-b1de-f0a1fc75c803"
      },
      "id": "t1qk0L4Tpdp3",
      "execution_count": null,
      "outputs": [
        {
          "output_type": "stream",
          "name": "stdout",
          "text": [
            "+-----+----------------------------------------------------------------------------------------------------------------------------------------------------------------+----------+-------------------------------------------------------------------------------------------------------------------------------------------------------------------------------------------+---------------------------------------------------------------------------------------------------------------------------------------------------------------------+-------------------------------------------------------------------------------------------------------------------------------------------------------------------------------------+--------------------------------------------------------------------------------------------------------------------------------------------------------------------------------------------------------------------------------------------------------------------------------------------------------------------------------------------------------------------------------------------------------------------------------------------------------------------------------------------+\n",
            "|class|text                                                                                                                                                            |textLength|words                                                                                                                                                                                      |words_clean                                                                                                                                                          |vectors                                                                                                                                                                              |tf_idf                                                                                                                                                                                                                                                                                                                                                                                                                                                                                      |\n",
            "+-----+----------------------------------------------------------------------------------------------------------------------------------------------------------------+----------+-------------------------------------------------------------------------------------------------------------------------------------------------------------------------------------------+---------------------------------------------------------------------------------------------------------------------------------------------------------------------+-------------------------------------------------------------------------------------------------------------------------------------------------------------------------------------+--------------------------------------------------------------------------------------------------------------------------------------------------------------------------------------------------------------------------------------------------------------------------------------------------------------------------------------------------------------------------------------------------------------------------------------------------------------------------------------------+\n",
            "|ham  |Go until jurong point, crazy.. Available only in bugis n great world la e buffet... Cine there got amore wat...                                                 |111       |[go, until, jurong, point,, crazy.., available, only, in, bugis, n, great, world, la, e, buffet..., cine, there, got, amore, wat...]                                                       |[go, jurong, point,, crazy.., available, bugis, n, great, world, la, e, buffet..., cine, got, amore, wat...]                                                         |(13423,[7,11,31,61,72,344,625,731,1409,1598,4485,6440,8092,8838,11344,12979],[1.0,1.0,1.0,1.0,1.0,1.0,1.0,1.0,1.0,1.0,1.0,1.0,1.0,1.0,1.0,1.0])                                      |(13423,[7,11,31,61,72,344,625,731,1409,1598,4485,6440,8092,8838,11344,12979],[3.1126188501633374,3.2055125970560336,3.822026551595063,4.207206988531722,4.32198250312415,5.407171771460119,5.917997395226109,6.141140946540319,6.680137447273006,6.8342881271002645,7.52743530766021,7.9329004157683745,7.9329004157683745,7.9329004157683745,7.9329004157683745,7.9329004157683745])                                                                                                       |\n",
            "|ham  |Ok lar... Joking wif u oni...                                                                                                                                   |29        |[ok, lar..., joking, wif, u, oni...]                                                                                                                                                       |[ok, lar..., joking, wif, u, oni...]                                                                                                                                 |(13423,[0,24,297,457,2601,3605],[1.0,1.0,1.0,1.0,1.0,1.0])                                                                                                                           |(13423,[0,24,297,457,2601,3605],[2.016698353160939,3.5761915890787823,5.330210730323991,5.7356758384321544,7.239753235208429,7.52743530766021])                                                                                                                                                                                                                                                                                                                                             |\n",
            "|spam |Free entry in 2 a wkly comp to win FA Cup final tkts 21st May 2005. Text FA to 87121 to receive entry question(std txt rate)T&C's apply 08452810075over18's     |155       |[free, entry, in, 2, a, wkly, comp, to, win, fa, cup, final, tkts, 21st, may, 2005., text, fa, to, 87121, to, receive, entry, question(std, txt, rate)t&c's, apply, 08452810075over18's]   |[free, entry, 2, wkly, comp, win, fa, cup, final, tkts, 21st, may, 2005., text, fa, 87121, receive, entry, question(std, txt, rate)t&c's, apply, 08452810075over18's]|(13423,[2,13,19,30,89,154,193,305,458,515,631,855,954,1916,2010,2356,3023,3287,3442,5016,5200],[1.0,1.0,1.0,1.0,1.0,1.0,1.0,2.0,1.0,1.0,1.0,1.0,1.0,1.0,1.0,2.0,1.0,1.0,1.0,1.0,1.0])|(13423,[2,13,19,30,89,154,193,305,458,515,631,855,954,1916,2010,2356,3023,3287,3442,5016,5200],[2.704469176684504,3.332742771603827,3.5634525633013525,3.6702205387270586,4.421354976937353,4.841857962410058,5.099687071712158,11.070010285940008,5.681608617161879,5.7356758384321544,5.917997395226109,6.228152323529949,6.323462503334274,7.016609683894219,7.016609683894219,15.05487061532042,7.239753235208429,7.239753235208429,7.52743530766021,7.52743530766021,7.52743530766021])|\n",
            "|ham  |U dun say so early hor... U c already then say...                                                                                                               |49        |[u, dun, say, so, early, hor..., u, c, already, then, say...]                                                                                                                              |[u, dun, say, early, hor..., u, c, already, say...]                                                                                                                  |(13423,[0,70,80,128,147,323,2911,3598],[2.0,1.0,1.0,1.0,1.0,1.0,1.0,1.0])                                                                                                            |(13423,[0,70,80,128,147,323,2911,3598],[4.033396706321878,4.256599743861298,4.32198250312415,4.674803877746892,4.734227298217693,5.407171771460119,7.239753235208429,7.52743530766021])                                                                                                                                                                                                                                                                                                     |\n",
            "|ham  |Nah I don't think he goes to usf, he lives around here though                                                                                                   |61        |[nah, i, don't, think, he, goes, to, usf,, he, lives, around, here, though]                                                                                                                |[nah, think, goes, usf,, lives, around, though]                                                                                                                      |(13423,[36,134,313,545,1325,3302,3591],[1.0,1.0,1.0,1.0,1.0,1.0,1.0])                                                                                                                |(13423,[36,134,313,545,1325,3302,3591],[3.7977338590260183,4.7140245909001735,5.367951058306837,5.792834252272104,6.546606054648484,7.52743530766021,7.52743530766021])                                                                                                                                                                                                                                                                                                                     |\n",
            "|spam |FreeMsg Hey there darling it's been 3 week's now and no word back! I'd like some fun you up for it still? Tb ok! XxX std chgs to send, £1.50 to rcv             |147       |[freemsg, hey, there, darling, it's, been, 3, week's, now, and, no, word, back!, i'd, like, some, fun, you, up, for, it, still?, tb, ok!, xxx, std, chgs, to, send,, £1.50, to, rcv]       |[freemsg, hey, darling, 3, week's, word, back!, like, fun, still?, tb, ok!, xxx, std, chgs, send,, £1.50, rcv]                                                       |(13423,[10,60,139,286,350,368,490,1363,1643,2091,2665,3625,3952,4446,4639,4641,5133,6169],[1.0,1.0,1.0,1.0,1.0,1.0,1.0,1.0,1.0,1.0,1.0,1.0,1.0,1.0,1.0,1.0,1.0,1.0])                 |(13423,[10,60,139,286,350,368,490,1363,1643,2091,2665,3625,3952,4446,4639,4641,5133,6169],[3.2278848948105665,4.148710781850113,4.734227298217693,5.258751766341845,5.49055338039917,5.49055338039917,5.7356758384321544,6.680137447273006,6.8342881271002645,7.016609683894219,7.239753235208429,7.52743530766021,7.52743530766021,7.52743530766021,7.52743530766021,7.52743530766021,7.52743530766021,7.9329004157683745])                                                                |\n",
            "|ham  |Even my brother is not like to speak with me. They treat me like aids patent.                                                                                   |77        |[even, my, brother, is, not, like, to, speak, with, me., they, treat, me, like, aids, patent.]                                                                                             |[even, brother, like, speak, me., treat, like, aids, patent.]                                                                                                        |(13423,[10,53,103,243,622,749,8012,12636],[2.0,1.0,1.0,1.0,1.0,1.0,1.0,1.0])                                                                                                         |(13423,[10,53,103,243,622,749,8012,12636],[6.455769789621133,4.0410801176577476,4.5151737321550085,5.160311693528593,5.917997395226109,6.061098238866783,7.9329004157683745,7.9329004157683745])                                                                                                                                                                                                                                                                                            |\n",
            "|ham  |As per your request 'Melle Melle (Oru Minnaminunginte Nurungu Vettam)' has been set as your callertune for all Callers. Press *9 to copy your friends Callertune|160       |[as, per, your, request, 'melle, melle, (oru, minnaminunginte, nurungu, vettam)', has, been, set, as, your, callertune, for, all, callers., press, *9, to, copy, your, friends, callertune]|[per, request, 'melle, melle, (oru, minnaminunginte, nurungu, vettam)', set, callertune, callers., press, *9, copy, friends, callertune]                             |(13423,[125,184,409,913,925,950,1170,1596,1759,2560,2829,2887,2900,3108,3156],[1.0,1.0,1.0,1.0,2.0,1.0,1.0,1.0,1.0,1.0,1.0,1.0,1.0,1.0,1.0])                                         |(13423,[125,184,409,913,925,950,1170,1596,1759,2560,2829,2887,2900,3108,3156],[4.60069590559317,5.015129683684095,5.581525158604896,6.228152323529949,13.668576254200529,6.323462503334274,6.546606054648484,6.8342881271002645,6.8342881271002645,7.239753235208429,7.239753235208429,7.239753235208429,7.239753235208429,7.239753235208429,7.239753235208429])                                                                                                                            |\n",
            "|spam |WINNER!! As a valued network customer you have been selected to receivea £900 prize reward! To claim call 09061701461. Claim code KL341. Valid 12 hours only.   |157       |[winner!!, as, a, valued, network, customer, you, have, been, selected, to, receivea, £900, prize, reward!, to, claim, call, 09061701461., claim, code, kl341., valid, 12, hours, only.]   |[winner!!, valued, network, customer, selected, receivea, £900, prize, reward!, claim, call, 09061701461., claim, code, kl341., valid, 12, hours, only.]             |(13423,[1,47,118,145,293,322,351,500,543,573,793,1108,1309,2597,3348,3911,3989,4909],[1.0,2.0,1.0,1.0,1.0,1.0,1.0,1.0,1.0,1.0,1.0,1.0,1.0,1.0,1.0,1.0,1.0,1.0])                      |(13423,[1,47,118,145,293,322,351,500,543,573,793,1108,1309,2597,3348,3911,3989,4909],[2.3645559120072774,8.002149566088097,4.618714411095849,4.7140245909001735,5.293843086153116,5.367951058306837,5.447993765980374,5.7356758384321544,5.792834252272104,5.853458874088538,6.141140946540319,6.4288230189921,6.546606054648484,7.239753235208429,7.52743530766021,7.52743530766021,7.52743530766021,7.52743530766021])                                                                    |\n",
            "|spam |Had your mobile 11 months or more? U R entitled to Update to the latest colour mobiles with camera for Free! Call The Mobile Update Co FREE on 08002986030      |154       |[had, your, mobile, 11, months, or, more?, u, r, entitled, to, update, to, the, latest, colour, mobiles, with, camera, for, free!, call, the, mobile, update, co, free, on, 08002986030]   |[mobile, 11, months, more?, u, r, entitled, update, latest, colour, mobiles, camera, free!, call, mobile, update, co, free, 08002986030]                             |(13423,[0,1,13,27,38,196,282,369,391,414,875,1063,1188,1349,1860,2936,4140],[1.0,1.0,1.0,1.0,2.0,1.0,1.0,2.0,1.0,1.0,1.0,1.0,1.0,1.0,1.0,1.0,1.0])                                   |(13423,[0,1,13,27,38,196,282,369,391,414,875,1063,1188,1349,1860,2936,4140],[2.016698353160939,2.3645559120072774,3.332742771603827,3.7060666705001943,7.81509745006645,5.04252865787221,5.258751766341845,11.585668504544207,5.535005142970004,5.581525158604896,6.228152323529949,6.4288230189921,6.546606054648484,6.546606054648484,6.8342881271002645,7.239753235208429,7.52743530766021])                                                                                             |\n",
            "+-----+----------------------------------------------------------------------------------------------------------------------------------------------------------------+----------+-------------------------------------------------------------------------------------------------------------------------------------------------------------------------------------------+---------------------------------------------------------------------------------------------------------------------------------------------------------------------+-------------------------------------------------------------------------------------------------------------------------------------------------------------------------------------+--------------------------------------------------------------------------------------------------------------------------------------------------------------------------------------------------------------------------------------------------------------------------------------------------------------------------------------------------------------------------------------------------------------------------------------------------------------------------------------------+\n",
            "only showing top 10 rows\n",
            "\n"
          ]
        }
      ]
    },
    {
      "cell_type": "markdown",
      "id": "1527ad65",
      "metadata": {
        "id": "1527ad65"
      },
      "source": [
        "- Convert the <b>class column</b> to index using <b>StringIndexer</b>\n",
        "- Create feature column from the <b>TF-IDF</b> and <b>lenght</b> columns."
      ]
    },
    {
      "cell_type": "code",
      "execution_count": null,
      "id": "aaf46159",
      "metadata": {
        "colab": {
          "base_uri": "https://localhost:8080/"
        },
        "id": "aaf46159",
        "outputId": "3239ad81-8959-4378-964d-f1a2f6a04b9b"
      },
      "outputs": [
        {
          "output_type": "stream",
          "name": "stdout",
          "text": [
            "+-----+--------------------+----------+--------------------+--------------------+--------------------+--------------------+-----+\n",
            "|class|                text|textLength|               words|         words_clean|             vectors|              tf_idf|label|\n",
            "+-----+--------------------+----------+--------------------+--------------------+--------------------+--------------------+-----+\n",
            "|  ham|Go until jurong p...|       111|[go, until, juron...|[go, jurong, poin...|(13423,[7,11,31,6...|(13423,[7,11,31,6...|  0.0|\n",
            "|  ham|Ok lar... Joking ...|        29|[ok, lar..., joki...|[ok, lar..., joki...|(13423,[0,24,297,...|(13423,[0,24,297,...|  0.0|\n",
            "| spam|Free entry in 2 a...|       155|[free, entry, in,...|[free, entry, 2, ...|(13423,[2,13,19,3...|(13423,[2,13,19,3...|  1.0|\n",
            "|  ham|U dun say so earl...|        49|[u, dun, say, so,...|[u, dun, say, ear...|(13423,[0,70,80,1...|(13423,[0,70,80,1...|  0.0|\n",
            "|  ham|Nah I don't think...|        61|[nah, i, don't, t...|[nah, think, goes...|(13423,[36,134,31...|(13423,[36,134,31...|  0.0|\n",
            "| spam|FreeMsg Hey there...|       147|[freemsg, hey, th...|[freemsg, hey, da...|(13423,[10,60,139...|(13423,[10,60,139...|  1.0|\n",
            "|  ham|Even my brother i...|        77|[even, my, brothe...|[even, brother, l...|(13423,[10,53,103...|(13423,[10,53,103...|  0.0|\n",
            "|  ham|As per your reque...|       160|[as, per, your, r...|[per, request, 'm...|(13423,[125,184,4...|(13423,[125,184,4...|  0.0|\n",
            "| spam|WINNER!! As a val...|       157|[winner!!, as, a,...|[winner!!, valued...|(13423,[1,47,118,...|(13423,[1,47,118,...|  1.0|\n",
            "| spam|Had your mobile 1...|       154|[had, your, mobil...|[mobile, 11, mont...|(13423,[0,1,13,27...|(13423,[0,1,13,27...|  1.0|\n",
            "+-----+--------------------+----------+--------------------+--------------------+--------------------+--------------------+-----+\n",
            "only showing top 10 rows\n",
            "\n"
          ]
        }
      ],
      "source": [
        "from pyspark.ml.feature import StringIndexer\n",
        "stringIndexer = StringIndexer(inputCol=\"class\", outputCol=\"label\", stringOrderType=\"frequencyDesc\")\n",
        "stringIndexer.setHandleInvalid(\"error\")\n",
        "si = stringIndexer.fit(id).transform(id)\n",
        "si.show(10)"
      ]
    },
    {
      "cell_type": "code",
      "execution_count": null,
      "id": "ad9d4c52",
      "metadata": {
        "colab": {
          "base_uri": "https://localhost:8080/"
        },
        "id": "ad9d4c52",
        "outputId": "2fe1768d-7ebb-4884-b971-4bf92215f167"
      },
      "outputs": [
        {
          "output_type": "stream",
          "name": "stdout",
          "text": [
            "+-----+--------------------+----------+--------------------+--------------------+--------------------+--------------------+-----+--------------------+\n",
            "|class|                text|textLength|               words|         words_clean|             vectors|              tf_idf|label|            features|\n",
            "+-----+--------------------+----------+--------------------+--------------------+--------------------+--------------------+-----+--------------------+\n",
            "|  ham|Go until jurong p...|       111|[go, until, juron...|[go, jurong, poin...|(13423,[7,11,31,6...|(13423,[7,11,31,6...|  0.0|(13424,[7,11,31,6...|\n",
            "|  ham|Ok lar... Joking ...|        29|[ok, lar..., joki...|[ok, lar..., joki...|(13423,[0,24,297,...|(13423,[0,24,297,...|  0.0|(13424,[0,24,297,...|\n",
            "| spam|Free entry in 2 a...|       155|[free, entry, in,...|[free, entry, 2, ...|(13423,[2,13,19,3...|(13423,[2,13,19,3...|  1.0|(13424,[2,13,19,3...|\n",
            "|  ham|U dun say so earl...|        49|[u, dun, say, so,...|[u, dun, say, ear...|(13423,[0,70,80,1...|(13423,[0,70,80,1...|  0.0|(13424,[0,70,80,1...|\n",
            "|  ham|Nah I don't think...|        61|[nah, i, don't, t...|[nah, think, goes...|(13423,[36,134,31...|(13423,[36,134,31...|  0.0|(13424,[36,134,31...|\n",
            "| spam|FreeMsg Hey there...|       147|[freemsg, hey, th...|[freemsg, hey, da...|(13423,[10,60,139...|(13423,[10,60,139...|  1.0|(13424,[10,60,139...|\n",
            "|  ham|Even my brother i...|        77|[even, my, brothe...|[even, brother, l...|(13423,[10,53,103...|(13423,[10,53,103...|  0.0|(13424,[10,53,103...|\n",
            "|  ham|As per your reque...|       160|[as, per, your, r...|[per, request, 'm...|(13423,[125,184,4...|(13423,[125,184,4...|  0.0|(13424,[125,184,4...|\n",
            "| spam|WINNER!! As a val...|       157|[winner!!, as, a,...|[winner!!, valued...|(13423,[1,47,118,...|(13423,[1,47,118,...|  1.0|(13424,[1,47,118,...|\n",
            "| spam|Had your mobile 1...|       154|[had, your, mobil...|[mobile, 11, mont...|(13423,[0,1,13,27...|(13423,[0,1,13,27...|  1.0|(13424,[0,1,13,27...|\n",
            "+-----+--------------------+----------+--------------------+--------------------+--------------------+--------------------+-----+--------------------+\n",
            "only showing top 10 rows\n",
            "\n"
          ]
        }
      ],
      "source": [
        "#input -> tf_idf, textLength\n",
        "#Label -> indexed\n",
        "from pyspark.ml.feature import VectorAssembler\n",
        "vector_assembler = VectorAssembler(inputCols=['tf_idf', 'textLength'], outputCol='features')\n",
        "vector_assembler.transform(si).show(10)"
      ]
    },
    {
      "cell_type": "markdown",
      "id": "9775d494",
      "metadata": {
        "id": "9775d494"
      },
      "source": [
        "## The Model\n",
        "- Create a <b>NaiveBayes</b> classifier with the default parameters."
      ]
    },
    {
      "cell_type": "code",
      "execution_count": null,
      "id": "57af0d5d",
      "metadata": {
        "id": "57af0d5d"
      },
      "outputs": [],
      "source": [
        "from pyspark.ml.classification import NaiveBayes\n",
        "nb = NaiveBayes()"
      ]
    },
    {
      "cell_type": "code",
      "execution_count": null,
      "id": "54c7384e",
      "metadata": {
        "id": "54c7384e"
      },
      "outputs": [],
      "source": [
        ""
      ]
    },
    {
      "cell_type": "markdown",
      "id": "dc14de63",
      "metadata": {
        "id": "dc14de63"
      },
      "source": [
        "## Pipeline\n",
        "### Create a pipeline model contains all the steps starting from the Tokenizer to the NaiveBays classifier."
      ]
    },
    {
      "cell_type": "code",
      "execution_count": null,
      "id": "8ee0d1ca",
      "metadata": {
        "id": "8ee0d1ca"
      },
      "outputs": [],
      "source": [
        "from pyspark.ml import Pipeline\n",
        "pipy = Pipeline(stages=[stringIndexer, tokenizer, remover, countVectorizer, idf,  vector_assembler, nb])\n",
        "#pipy = Pipeline().setStages(stringIndexer + [tokenizer, remover, countVectorizer, idf, vector_assembler, nb])"
      ]
    },
    {
      "cell_type": "code",
      "execution_count": null,
      "id": "7f82bab0",
      "metadata": {
        "id": "7f82bab0"
      },
      "outputs": [],
      "source": [
        ""
      ]
    },
    {
      "cell_type": "markdown",
      "id": "f5d7efbe",
      "metadata": {
        "id": "f5d7efbe"
      },
      "source": [
        "### Split your data to trian and test data with ratios 0.7 and 0.3 respectively."
      ]
    },
    {
      "cell_type": "code",
      "execution_count": null,
      "id": "2843d997",
      "metadata": {
        "colab": {
          "base_uri": "https://localhost:8080/"
        },
        "id": "2843d997",
        "outputId": "ba02040e-52af-4500-9b98-bf7be65ba63e"
      },
      "outputs": [
        {
          "output_type": "stream",
          "name": "stdout",
          "text": [
            "There are 3981 rows in the training set, and 1593 in the test set\n"
          ]
        }
      ],
      "source": [
        "train_df, test_df = df4.randomSplit([.7,.3],seed=42)\n",
        "print(f\"There are {train_df.count()} rows in the training set, and {test_df.count()} in the test set\")"
      ]
    },
    {
      "cell_type": "code",
      "execution_count": null,
      "id": "3c5d4681",
      "metadata": {
        "id": "3c5d4681"
      },
      "outputs": [],
      "source": [
        "train_df.write.parquet(\"train.parquet\",  mode = 'overwrite')\n",
        "test_df.write.parquet(\"test.parquet\",  mode = 'overwrite')"
      ]
    },
    {
      "cell_type": "code",
      "source": [
        "train_df = spark.read.parquet('train.parquet')\n",
        "test_df = spark.read.parquet('test.parquet')"
      ],
      "metadata": {
        "id": "lq5Caw-kuipg"
      },
      "id": "lq5Caw-kuipg",
      "execution_count": null,
      "outputs": []
    },
    {
      "cell_type": "code",
      "source": [
        "train_df.printSchema()"
      ],
      "metadata": {
        "colab": {
          "base_uri": "https://localhost:8080/"
        },
        "id": "rNXtx6ImukBI",
        "outputId": "c71bad05-c853-4353-a8a3-ac537aca02a5"
      },
      "id": "rNXtx6ImukBI",
      "execution_count": null,
      "outputs": [
        {
          "output_type": "stream",
          "name": "stdout",
          "text": [
            "root\n",
            " |-- class: string (nullable = true)\n",
            " |-- text: string (nullable = true)\n",
            " |-- textLength: integer (nullable = true)\n",
            "\n"
          ]
        }
      ]
    },
    {
      "cell_type": "code",
      "source": [
        "test_df.printSchema()"
      ],
      "metadata": {
        "colab": {
          "base_uri": "https://localhost:8080/"
        },
        "id": "kHXZ0awKumw9",
        "outputId": "77ef19c9-91d6-4a38-f61e-8ba90e9a0a8d"
      },
      "id": "kHXZ0awKumw9",
      "execution_count": null,
      "outputs": [
        {
          "output_type": "stream",
          "name": "stdout",
          "text": [
            "root\n",
            " |-- class: string (nullable = true)\n",
            " |-- text: string (nullable = true)\n",
            " |-- textLength: integer (nullable = true)\n",
            "\n"
          ]
        }
      ]
    },
    {
      "cell_type": "markdown",
      "id": "8bcea576",
      "metadata": {
        "id": "8bcea576"
      },
      "source": [
        "### Fit your Pipeline model to the training data"
      ]
    },
    {
      "cell_type": "code",
      "source": [
        "model=pipy.fit(train_df)\n",
        "model"
      ],
      "metadata": {
        "colab": {
          "base_uri": "https://localhost:8080/"
        },
        "id": "xZXLa7S5uxKM",
        "outputId": "ff76fb15-09e7-477a-9306-d01bce3704f0"
      },
      "id": "xZXLa7S5uxKM",
      "execution_count": null,
      "outputs": [
        {
          "output_type": "execute_result",
          "data": {
            "text/plain": [
              "PipelineModel_7150b1fecdfd"
            ]
          },
          "metadata": {},
          "execution_count": 108
        }
      ]
    },
    {
      "cell_type": "code",
      "source": [
        "model.transform(test_df).select('label', 'prediction').show(10)"
      ],
      "metadata": {
        "colab": {
          "base_uri": "https://localhost:8080/"
        },
        "id": "DYmcTV0Zu5Tl",
        "outputId": "68a0a0e4-f214-4645-a14f-ccf83f0bf0f8"
      },
      "id": "DYmcTV0Zu5Tl",
      "execution_count": null,
      "outputs": [
        {
          "output_type": "stream",
          "name": "stdout",
          "text": [
            "+-----+----------+\n",
            "|label|prediction|\n",
            "+-----+----------+\n",
            "|  0.0|       0.0|\n",
            "|  0.0|       0.0|\n",
            "|  0.0|       0.0|\n",
            "|  0.0|       0.0|\n",
            "|  0.0|       0.0|\n",
            "|  0.0|       0.0|\n",
            "|  0.0|       0.0|\n",
            "|  0.0|       0.0|\n",
            "|  0.0|       0.0|\n",
            "|  0.0|       0.0|\n",
            "+-----+----------+\n",
            "only showing top 10 rows\n",
            "\n"
          ]
        }
      ]
    },
    {
      "cell_type": "markdown",
      "id": "228a3eb1",
      "metadata": {
        "id": "228a3eb1"
      },
      "source": [
        "### Perform predictions on tests dataframe"
      ]
    },
    {
      "cell_type": "code",
      "execution_count": null,
      "id": "14f4aab5",
      "metadata": {
        "id": "14f4aab5"
      },
      "outputs": [],
      "source": [
        "pred = model.transform(test_df)"
      ]
    },
    {
      "cell_type": "markdown",
      "id": "bce2885f",
      "metadata": {
        "id": "bce2885f"
      },
      "source": [
        "### Print the schema of the prediction dataframe"
      ]
    },
    {
      "cell_type": "code",
      "execution_count": null,
      "id": "6e3ea341",
      "metadata": {
        "colab": {
          "base_uri": "https://localhost:8080/"
        },
        "id": "6e3ea341",
        "outputId": "f9bf9487-fa40-4d0c-ad04-73a3b30e28ec"
      },
      "outputs": [
        {
          "output_type": "stream",
          "name": "stdout",
          "text": [
            "root\n",
            " |-- class: string (nullable = true)\n",
            " |-- text: string (nullable = true)\n",
            " |-- textLength: integer (nullable = true)\n",
            " |-- label: double (nullable = false)\n",
            " |-- words: array (nullable = true)\n",
            " |    |-- element: string (containsNull = true)\n",
            " |-- words_clean: array (nullable = true)\n",
            " |    |-- element: string (containsNull = true)\n",
            " |-- vectors: vector (nullable = true)\n",
            " |-- tf_idf: vector (nullable = true)\n",
            " |-- features: vector (nullable = true)\n",
            " |-- rawPrediction: vector (nullable = true)\n",
            " |-- probability: vector (nullable = true)\n",
            " |-- prediction: double (nullable = false)\n",
            "\n"
          ]
        }
      ],
      "source": [
        "pred.printSchema()"
      ]
    },
    {
      "cell_type": "markdown",
      "id": "57f27055",
      "metadata": {
        "id": "57f27055"
      },
      "source": [
        "## Model Evaluation\n",
        "- Use <b>MulticlassClassificationEvaluator</b> to calculate the <b>f1_score</b>."
      ]
    },
    {
      "cell_type": "code",
      "execution_count": null,
      "id": "61911086",
      "metadata": {
        "colab": {
          "base_uri": "https://localhost:8080/"
        },
        "id": "61911086",
        "outputId": "4e34c543-d282-401a-c058-f9dddbb922a3"
      },
      "outputs": [
        {
          "output_type": "stream",
          "name": "stdout",
          "text": [
            "Accuracy of model at predicting spam was: 0.9727502290227267\n"
          ]
        }
      ],
      "source": [
        "from pyspark.ml.evaluation import MulticlassClassificationEvaluator\n",
        "acc_eval = MulticlassClassificationEvaluator()\n",
        "acc = acc_eval.evaluate(pred)\n",
        "print(\"Accuracy of model at predicting spam was: {}\".format(acc))"
      ]
    },
    {
      "cell_type": "code",
      "execution_count": null,
      "id": "be706565",
      "metadata": {
        "id": "be706565"
      },
      "outputs": [],
      "source": [
        ""
      ]
    },
    {
      "cell_type": "code",
      "execution_count": null,
      "id": "af1f9ba1",
      "metadata": {
        "id": "af1f9ba1"
      },
      "outputs": [],
      "source": [
        ""
      ]
    },
    {
      "cell_type": "markdown",
      "id": "e00e7b53",
      "metadata": {
        "id": "e00e7b53"
      },
      "source": [
        "# GOOD LUCK\n",
        "<b><font color='GREEN'>AI-PRO Spark Team ITI</font></b>"
      ]
    },
    {
      "cell_type": "markdown",
      "id": "0e065922",
      "metadata": {
        "id": "0e065922"
      },
      "source": [
        "![image-3.png](attachment:image-3.png)"
      ]
    }
  ],
  "metadata": {
    "kernelspec": {
      "display_name": "Python 3",
      "language": "python",
      "name": "python3"
    },
    "language_info": {
      "codemirror_mode": {
        "name": "ipython",
        "version": 3
      },
      "file_extension": ".py",
      "mimetype": "text/x-python",
      "name": "python",
      "nbconvert_exporter": "python",
      "pygments_lexer": "ipython3",
      "version": "3.8.8"
    },
    "colab": {
      "name": "Spark and Python for Big Data Final Exam-Corrective.ipynb",
      "provenance": [],
      "collapsed_sections": [
        "2b90cce7",
        "a3e798d0",
        "4d693167",
        "78ea2de6",
        "692e37a6",
        "838ad9dd",
        "225067d5",
        "f5d7efbe",
        "8bcea576",
        "228a3eb1",
        "bce2885f"
      ],
      "include_colab_link": true
    }
  },
  "nbformat": 4,
  "nbformat_minor": 5
}